{
 "cells": [
  {
   "cell_type": "markdown",
   "metadata": {
    "colab_type": "text",
    "id": "S4F7QCIWGiLv"
   },
   "source": [
    "![人工智慧 - 自由團隊](https://raw.githubusercontent.com/chenkenanalytic/img/master/af/aifreeteam.png)\n",
    "\n",
    "\n",
    "<center>Welcome to the first course of《Python: from business analytics to Artificial Intelligence》--【Python Basics】, by AI . FREE Team.</center>\n",
    "\n",
    "<br>\n",
    "\n",
    "<center>歡迎大家來到 AI . FREE Team 《Pyhon 從商業分析到人工智慧》的第一堂課，Python 基礎教學！ </center>\n",
    "\n",
    "<br>\n",
    "\n",
    "<center>(Author: Chen Ken, Lee Ovien, Chuang Shawn；Date of published: 2019/9/5；AI . FREE Team Website: https://aifreeblog.herokuapp.com/)</center>\n"
   ]
  },
  {
   "cell_type": "markdown",
   "metadata": {
    "colab_type": "text",
    "id": "NEXeKL7S78Ab"
   },
   "source": [
    "# Tuple ( 元組 )"
   ]
  },
  {
   "cell_type": "markdown",
   "metadata": {
    "colab_type": "text",
    "id": "9m6dunQa8b-S"
   },
   "source": [
    "\n",
    "\n",
    "*   跟前一堂課提到的List (串列) 很像。\n",
    "*   那麼你也許會好奇這堂課說的跟List (串列) 有甚麼不同呢?\n",
    "*   tuple 的元素值不可以修改! 不可以刪除! 因此沒有像list有一些改變元素值的方法( 例如：list.pop()、list.reverse()......等 )。\n"
   ]
  },
  {
   "cell_type": "markdown",
   "metadata": {
    "colab_type": "text",
    "id": "chHGjhunFktm"
   },
   "source": [
    "*  以下是一些基本的宣告方式"
   ]
  },
  {
   "cell_type": "code",
   "execution_count": 0,
   "metadata": {
    "colab": {
     "base_uri": "https://localhost:8080/",
     "height": 85
    },
    "colab_type": "code",
    "executionInfo": {
     "elapsed": 660,
     "status": "ok",
     "timestamp": 1566139127173,
     "user": {
      "displayName": "電機工程系莊翔宇",
      "photoUrl": "",
      "userId": "06232090834761520364"
     },
     "user_tz": -480
    },
    "id": "UHZig47U71HF",
    "outputId": "13ea4870-52b1-4e9b-c048-f637543e0a65"
   },
   "outputs": [
    {
     "name": "stdout",
     "output_type": "stream",
     "text": [
      "tuple1:  () 0\n",
      "tuple2:  () 0\n",
      "\n",
      "tuple3:  (1,) 1\n"
     ]
    }
   ],
   "source": [
    "tuple1 = ()\n",
    "print(\"tuple1: \",tuple1, len(tuple1))\n",
    "tuple2 = tuple()\n",
    "print(\"tuple2: \",tuple2, len(tuple2))\n",
    "print()\n",
    "tuple3 = (1,)\n",
    "print(\"tuple3: \",tuple3, len(tuple3))\n"
   ]
  },
  {
   "cell_type": "code",
   "execution_count": 0,
   "metadata": {
    "colab": {
     "base_uri": "https://localhost:8080/",
     "height": 136
    },
    "colab_type": "code",
    "executionInfo": {
     "elapsed": 667,
     "status": "ok",
     "timestamp": 1566139130486,
     "user": {
      "displayName": "電機工程系莊翔宇",
      "photoUrl": "",
      "userId": "06232090834761520364"
     },
     "user_tz": -480
    },
    "id": "hfEVF4hGCx8V",
    "outputId": "aef80721-357b-4eb8-c07a-b69067bfe7a9"
   },
   "outputs": [
    {
     "name": "stdout",
     "output_type": "stream",
     "text": [
      "tuple4:  (1, 2, 3) 3\n",
      "tuple4:  1 2 3\n",
      "tuple4[0:2]:  (1, 2)\n",
      "\n",
      "二維的宣告方式\n",
      "tuple5:  ((1, 2, 3), (4, 5, 6)) 2\n",
      "tuple[1][2]:  6\n"
     ]
    }
   ],
   "source": [
    "tuple4 = (1,2,3)\n",
    "print(\"tuple4: \",tuple4, len(tuple4))\n",
    "print(\"tuple4: \",tuple4[0], tuple4[1],tuple4[2])\n",
    "print(\"tuple4[0:2]: \",tuple4[0:2])\n",
    "print(\"\\n二維的宣告方式\")\n",
    "tuple5 = ((1,2,3),(4,5,6))\n",
    "print(\"tuple5: \",tuple5, len(tuple5))\n",
    "print(\"tuple[1][2]: \",tuple5[1][2])"
   ]
  },
  {
   "cell_type": "markdown",
   "metadata": {
    "colab_type": "text",
    "id": "PP7ERo70GPD7"
   },
   "source": [
    "*  來試試看list()可以用的方式，使用在 Tuple 上"
   ]
  },
  {
   "cell_type": "code",
   "execution_count": 0,
   "metadata": {
    "colab": {
     "base_uri": "https://localhost:8080/",
     "height": 182
    },
    "colab_type": "code",
    "executionInfo": {
     "elapsed": 643,
     "status": "error",
     "timestamp": 1566139132722,
     "user": {
      "displayName": "電機工程系莊翔宇",
      "photoUrl": "",
      "userId": "06232090834761520364"
     },
     "user_tz": -480
    },
    "id": "XnPhmtjBEF3U",
    "outputId": "2e5dd204-e25b-4d97-803a-845c4fb6447b"
   },
   "outputs": [
    {
     "ename": "AttributeError",
     "evalue": "ignored",
     "output_type": "error",
     "traceback": [
      "\u001b[0;31m---------------------------------------------------------------------------\u001b[0m",
      "\u001b[0;31mAttributeError\u001b[0m                            Traceback (most recent call last)",
      "\u001b[0;32m<ipython-input-3-c7193f3971c8>\u001b[0m in \u001b[0;36m<module>\u001b[0;34m()\u001b[0m\n\u001b[1;32m      1\u001b[0m \u001b[0mtest\u001b[0m \u001b[0;34m=\u001b[0m \u001b[0;34m(\u001b[0m\u001b[0;34m)\u001b[0m \u001b[0;31m## 空元組\u001b[0m\u001b[0;34m\u001b[0m\u001b[0;34m\u001b[0m\u001b[0m\n\u001b[0;32m----> 2\u001b[0;31m \u001b[0mtest\u001b[0m\u001b[0;34m.\u001b[0m\u001b[0mappend\u001b[0m\u001b[0;34m(\u001b[0m\u001b[0;34m'1991'\u001b[0m\u001b[0;34m)\u001b[0m   \u001b[0;31m## 使用 append() 添加元素\u001b[0m\u001b[0;34m\u001b[0m\u001b[0;34m\u001b[0m\u001b[0m\n\u001b[0m",
      "\u001b[0;31mAttributeError\u001b[0m: 'tuple' object has no attribute 'append'"
     ]
    }
   ],
   "source": [
    "test = () ## 空元組\n",
    "test.append('1991')   ## 使用 append() 添加元素"
   ]
  },
  {
   "cell_type": "markdown",
   "metadata": {
    "colab_type": "text",
    "id": "uaNvHTSOGv9G"
   },
   "source": [
    "\n",
    "\n",
    "*   執行後發現 **AttributeError: 'tuple' object has no attribute 'append'**\n",
    "*   可知 tuple 沒有這個方法\n",
    "*   那麼要怎麼修改/新增值呢\n",
    "\n"
   ]
  },
  {
   "cell_type": "code",
   "execution_count": 0,
   "metadata": {
    "colab": {
     "base_uri": "https://localhost:8080/",
     "height": 68
    },
    "colab_type": "code",
    "executionInfo": {
     "elapsed": 874,
     "status": "ok",
     "timestamp": 1566139134715,
     "user": {
      "displayName": "電機工程系莊翔宇",
      "photoUrl": "",
      "userId": "06232090834761520364"
     },
     "user_tz": -480
    },
    "id": "so3GMmpdGNue",
    "outputId": "edcd1fe1-9f41-46a5-b5b2-d5700fc51187"
   },
   "outputs": [
    {
     "name": "stdout",
     "output_type": "stream",
     "text": [
      "(12, 34.56)\n",
      "('abc', 'xyz')\n",
      "(12, 34.56, 'abc', 'xyz')\n"
     ]
    }
   ],
   "source": [
    "tup1 = (12, 34.56)\n",
    "print(tup1)\n",
    "tup2 = ('abc', 'xyz')\n",
    "print(tup2)\n",
    "tup3 = tup1 + tup2\n",
    "print(tup3)"
   ]
  },
  {
   "cell_type": "markdown",
   "metadata": {
    "colab_type": "text",
    "id": "OuP_GoaKItOh"
   },
   "source": [
    "*   而移除則是用 del\n",
    "\n"
   ]
  },
  {
   "cell_type": "code",
   "execution_count": 0,
   "metadata": {
    "colab": {
     "base_uri": "https://localhost:8080/",
     "height": 233
    },
    "colab_type": "code",
    "executionInfo": {
     "elapsed": 612,
     "status": "error",
     "timestamp": 1566139135078,
     "user": {
      "displayName": "電機工程系莊翔宇",
      "photoUrl": "",
      "userId": "06232090834761520364"
     },
     "user_tz": -480
    },
    "id": "LptUY2OBIKcv",
    "outputId": "19f6af74-7e49-4656-aace-4ef5fd5f8dea"
   },
   "outputs": [
    {
     "name": "stdout",
     "output_type": "stream",
     "text": [
      "('physics', 'chemistry', 1997, 2000)\n",
      "After deleting tup : \n"
     ]
    },
    {
     "ename": "NameError",
     "evalue": "ignored",
     "output_type": "error",
     "traceback": [
      "\u001b[0;31m---------------------------------------------------------------------------\u001b[0m",
      "\u001b[0;31mNameError\u001b[0m                                 Traceback (most recent call last)",
      "\u001b[0;32m<ipython-input-5-99d49064d2d6>\u001b[0m in \u001b[0;36m<module>\u001b[0;34m()\u001b[0m\n\u001b[1;32m      3\u001b[0m \u001b[0;32mdel\u001b[0m \u001b[0mtup\u001b[0m\u001b[0;34m\u001b[0m\u001b[0;34m\u001b[0m\u001b[0m\n\u001b[1;32m      4\u001b[0m \u001b[0mprint\u001b[0m\u001b[0;34m(\u001b[0m\u001b[0;34m\"After deleting tup : \"\u001b[0m\u001b[0;34m)\u001b[0m\u001b[0;34m\u001b[0m\u001b[0;34m\u001b[0m\u001b[0m\n\u001b[0;32m----> 5\u001b[0;31m \u001b[0mprint\u001b[0m\u001b[0;34m(\u001b[0m\u001b[0mtup\u001b[0m\u001b[0;34m)\u001b[0m \u001b[0;31m#刪除之後 tup會是not defined\u001b[0m\u001b[0;34m\u001b[0m\u001b[0;34m\u001b[0m\u001b[0m\n\u001b[0m",
      "\u001b[0;31mNameError\u001b[0m: name 'tup' is not defined"
     ]
    }
   ],
   "source": [
    "tup = ('physics', 'chemistry', 1997, 2000)\n",
    "print(tup)\n",
    "del tup\n",
    "print(\"After deleting tup : \")\n",
    "print(tup) #刪除之後 tup會是not defined"
   ]
  },
  {
   "cell_type": "markdown",
   "metadata": {
    "colab_type": "text",
    "id": "aYgy8esWdSlE"
   },
   "source": [
    "## tuple 的優點"
   ]
  },
  {
   "cell_type": "markdown",
   "metadata": {
    "colab_type": "text",
    "id": "kfEeqlABJw82"
   },
   "source": [
    "*  也由於 tuple 的元素不可修改，結構簡單，因此此資料型態的大小比 list 來得小。\n"
   ]
  },
  {
   "cell_type": "code",
   "execution_count": 0,
   "metadata": {
    "colab": {
     "base_uri": "https://localhost:8080/",
     "height": 51
    },
    "colab_type": "code",
    "executionInfo": {
     "elapsed": 583,
     "status": "ok",
     "timestamp": 1566139135464,
     "user": {
      "displayName": "電機工程系莊翔宇",
      "photoUrl": "",
      "userId": "06232090834761520364"
     },
     "user_tz": -480
    },
    "id": "KhIwmgshI5mT",
    "outputId": "c9e3cbfa-804b-41f5-d5ae-714ddf4a5ebe"
   },
   "outputs": [
    {
     "name": "stdout",
     "output_type": "stream",
     "text": [
      "list 資料大小： 9088\n",
      "tuple 資料大小： 8024\n"
     ]
    }
   ],
   "source": [
    "listA = list(range(1000))\n",
    "tupleA = tuple(range(1000))\n",
    "\n",
    "print (\"list 資料大小：\", listA.__sizeof__())\n",
    "print (\"tuple 資料大小：\", tupleA.__sizeof__())"
   ]
  }
 ],
 "metadata": {
  "colab": {
   "collapsed_sections": [],
   "name": "course6:Tuple.ipynb",
   "provenance": [],
   "version": "0.3.2"
  },
  "kernelspec": {
   "display_name": "Python 3",
   "language": "python",
   "name": "python3"
  },
  "language_info": {
   "codemirror_mode": {
    "name": "ipython",
    "version": 3
   },
   "file_extension": ".py",
   "mimetype": "text/x-python",
   "name": "python",
   "nbconvert_exporter": "python",
   "pygments_lexer": "ipython3",
   "version": "3.7.3"
  }
 },
 "nbformat": 4,
 "nbformat_minor": 1
}
