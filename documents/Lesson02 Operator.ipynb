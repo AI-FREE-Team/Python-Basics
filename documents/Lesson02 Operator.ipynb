{
 "cells": [
  {
   "cell_type": "markdown",
   "metadata": {
    "colab_type": "text",
    "id": "Bi-PSCAZKjdk"
   },
   "source": [
    "![人工智慧 - 自由團隊](https://raw.githubusercontent.com/chenkenanalytic/img/master/af/aifreeteam.png)\n",
    "\n",
    "\n",
    "<center>Welcome to the first course of《Python: from business analytics to Artificial Intelligence》--【Python Basics】, by AI . FREE Team.</center>\n",
    "\n",
    "<br>\n",
    "\n",
    "<center>歡迎大家來到 AI . FREE Team 《Pyhon 從商業分析到人工智慧》的第一堂課，Python 基礎教學！ </center>\n",
    "\n",
    "<br>\n",
    "\n",
    "<center>(Author: Chen Ken, Lee Ovien, Chuang Shawn；Date of published: 2019/9/5；AI . FREE Team Website: https://aifreeblog.herokuapp.com/)</center>\n"
   ]
  },
  {
   "cell_type": "markdown",
   "metadata": {
    "colab_type": "text",
    "id": "_DeL-QEpKohy"
   },
   "source": [
    "# 運算子(Operator)"
   ]
  },
  {
   "cell_type": "markdown",
   "metadata": {
    "colab_type": "text",
    "id": "RbtpSepcLFaX"
   },
   "source": [
    "* 這個章節，我們將教導什麼事運算子，並用一些實例來引導大家了解這個單元"
   ]
  },
  {
   "cell_type": "markdown",
   "metadata": {
    "colab_type": "text",
    "id": "8E9DzMEPKodT"
   },
   "source": [
    "* 基本運算"
   ]
  },
  {
   "cell_type": "code",
   "execution_count": 0,
   "metadata": {
    "colab": {},
    "colab_type": "code",
    "id": "pPUp6RjVKU_C"
   },
   "outputs": [],
   "source": [
    "a=1\n",
    "b=2\n",
    "c=a+b\n",
    "d=a-b\n",
    "e=a*b"
   ]
  },
  {
   "cell_type": "markdown",
   "metadata": {
    "colab_type": "text",
    "id": "BTErLy4qLcBC"
   },
   "source": [
    "* 並透過print()來檢查"
   ]
  },
  {
   "cell_type": "code",
   "execution_count": 0,
   "metadata": {
    "colab": {},
    "colab_type": "code",
    "id": "G68ma_l4LbWV"
   },
   "outputs": [],
   "source": [
    "print(\"a\",a)\n",
    "print(\"b\",b)\n",
    "print(\"c\",c)\n",
    "print(\"d\",d)\n",
    "print(\"e\",e)"
   ]
  },
  {
   "cell_type": "markdown",
   "metadata": {
    "colab_type": "text",
    "id": "5cTk0UziKzjd"
   },
   "source": [
    "* 除法需要特別注意，/為取商，%為取餘數。"
   ]
  },
  {
   "cell_type": "code",
   "execution_count": 0,
   "metadata": {
    "colab": {},
    "colab_type": "code",
    "id": "r28ZmHbjK5bp"
   },
   "outputs": [],
   "source": [
    "a=2/3\n",
    "b=2%3\n",
    "print(\"a\",a)\n",
    "print(\"b\",b)"
   ]
  },
  {
   "cell_type": "markdown",
   "metadata": {
    "colab_type": "text",
    "id": "h6k1giEoK9gv"
   },
   "source": [
    "* 邏輯運算，回傳為 True 或 False。"
   ]
  },
  {
   "cell_type": "code",
   "execution_count": 0,
   "metadata": {
    "colab": {},
    "colab_type": "code",
    "id": "KVK9XssqLAr2"
   },
   "outputs": [],
   "source": [
    "a==b #a是否等於b\n",
    "a>b  #a是否大於b\n",
    "a<b  #a是否小於b\n",
    "a>=b  #a是否大於等於b\n",
    "a<=b  #a是否小於等於b\n",
    "a!=b  #a是否不等於b"
   ]
  }
 ],
 "metadata": {
  "colab": {
   "collapsed_sections": [],
   "name": "course2:Operator.ipynb",
   "provenance": [],
   "version": "0.3.2"
  },
  "kernelspec": {
   "display_name": "Python 3",
   "language": "python",
   "name": "python3"
  },
  "language_info": {
   "codemirror_mode": {
    "name": "ipython",
    "version": 3
   },
   "file_extension": ".py",
   "mimetype": "text/x-python",
   "name": "python",
   "nbconvert_exporter": "python",
   "pygments_lexer": "ipython3",
   "version": "3.7.3"
  }
 },
 "nbformat": 4,
 "nbformat_minor": 1
}
