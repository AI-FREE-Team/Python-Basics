{
 "cells": [
  {
   "cell_type": "markdown",
   "metadata": {
    "colab_type": "text",
    "id": "Og5iDGlz_5ru"
   },
   "source": [
    "![人工智慧 - 自由團隊](https://raw.githubusercontent.com/chenkenanalytic/img/master/af/aifreeteam.png)\n",
    "\n",
    "\n",
    "<center>Welcome to the course《Python: from business analytics to Artificial Intelligence》by AI . FREE Team.</center>\n",
    "<br>\n",
    "<center>歡迎大家來到 AI . FREE Team 《Python 從商業分析到人工智慧》的 Python 基礎教學 - Lesson 04 字串 (1-04)。 </center>\n",
    "<br>\n",
    "\n",
    "<center>(Author: Chen Ken, Lee Ovien, Chuang Shawn；Date of published: 2019/9/5；AI . FREE Team Website: https://aifreeblog.herokuapp.com/)</center>\n"
   ]
  },
  {
   "cell_type": "markdown",
   "metadata": {
    "colab_type": "text",
    "id": "UFpLIuMTAWcy"
   },
   "source": [
    "# String(字串)"
   ]
  },
  {
   "cell_type": "markdown",
   "metadata": {
    "colab_type": "text",
    "id": "rFKAJOdUAeMY"
   },
   "source": [
    "## 字符串是 Python 中最常用的數據類型。我們可以使用引號('或\")來創建字符串。\n",
    "\n",
    "創建字符串很簡單，只要爲變量分配一個值即可。例如：\n"
   ]
  },
  {
   "cell_type": "code",
   "execution_count": 0,
   "metadata": {
    "colab": {
     "base_uri": "https://localhost:8080/",
     "height": 51
    },
    "colab_type": "code",
    "executionInfo": {
     "elapsed": 818,
     "status": "ok",
     "timestamp": 1565885299375,
     "user": {
      "displayName": "電機工程系李佑謙",
      "photoUrl": "",
      "userId": "05735385076343474033"
     },
     "user_tz": -480
    },
    "id": "IGwGhJkI1kS8",
    "outputId": "9818e109-4765-4387-8fd1-40ed8d60843a"
   },
   "outputs": [
    {
     "name": "stdout",
     "output_type": "stream",
     "text": [
      "var1; Hello World!\n",
      "var2; Python Runoob\n"
     ]
    }
   ],
   "source": [
    "var1 = 'Hello World!'\n",
    "var2 = \"Python Runoob\"\n",
    "print('var1;',var1)\n",
    "print('var2;',var2)"
   ]
  },
  {
   "cell_type": "markdown",
   "metadata": {
    "colab_type": "text",
    "id": "0LE8Z2RXBS9s"
   },
   "source": [
    "* Python不支持單字符類型，單字符在 Python 中也是作爲一個字符串使用。\n",
    "\n",
    "* Python訪問子字符串，可以使用方括號來截取字符串，如下實例："
   ]
  },
  {
   "cell_type": "code",
   "execution_count": 0,
   "metadata": {
    "colab": {
     "base_uri": "https://localhost:8080/",
     "height": 51
    },
    "colab_type": "code",
    "executionInfo": {
     "elapsed": 1430,
     "status": "ok",
     "timestamp": 1565885374499,
     "user": {
      "displayName": "電機工程系李佑謙",
      "photoUrl": "",
      "userId": "05735385076343474033"
     },
     "user_tz": -480
    },
    "id": "Rdvdlb8yCfdM",
    "outputId": "1f3891f4-a998-4558-8315-022019ea31e4"
   },
   "outputs": [
    {
     "name": "stdout",
     "output_type": "stream",
     "text": [
      "var1[0]:  H\n",
      "var2[1:5]:  ytho\n"
     ]
    }
   ],
   "source": [
    "var1 = 'Hello World!'\n",
    "var2 = \"Python Runoob\"\n",
    " \n",
    "print(\"var1[0]: \",var1[0])\n",
    "print(\"var2[1:5]: \",var2[1:5])"
   ]
  },
  {
   "cell_type": "markdown",
   "metadata": {
    "colab_type": "text",
    "id": "2gf2c8_DCrfE"
   },
   "source": [
    "* 你可以對已存在的字符串進行修改，並賦值給另一個變量，如下實例："
   ]
  },
  {
   "cell_type": "code",
   "execution_count": 0,
   "metadata": {
    "colab": {
     "base_uri": "https://localhost:8080/",
     "height": 34
    },
    "colab_type": "code",
    "executionInfo": {
     "elapsed": 1216,
     "status": "ok",
     "timestamp": 1565885938175,
     "user": {
      "displayName": "電機工程系李佑謙",
      "photoUrl": "",
      "userId": "05735385076343474033"
     },
     "user_tz": -480
    },
    "id": "_U0SW0HSC7zT",
    "outputId": "4ad5fecb-7ec0-4527-eb9b-d75c96203265"
   },
   "outputs": [
    {
     "name": "stdout",
     "output_type": "stream",
     "text": [
      "更新字符串:- Hello Runoob!\n"
     ]
    }
   ],
   "source": [
    "var1 = 'Hello World!'\n",
    " \n",
    "print(\"更新字符串:-\",var1[:6]+'Runoob!')"
   ]
  },
  {
   "cell_type": "markdown",
   "metadata": {
    "colab_type": "text",
    "id": "D6MPXtNHFCro"
   },
   "source": [
    "## Python轉義字符"
   ]
  },
  {
   "cell_type": "code",
   "execution_count": 0,
   "metadata": {
    "colab": {},
    "colab_type": "code",
    "id": "LOIdhG_VFEH6"
   },
   "outputs": [],
   "source": [
    "# \\(在行尾時)\t續行符\n",
    "# \\\\\t反斜槓符號\n",
    "# \\'\t單引號\n",
    "# \\\"\t雙引號\n",
    "# \\a\t響鈴\n",
    "# \\b\t退格(Backspace)\n",
    "# \\e\t轉義\n",
    "# \\000\t空\n",
    "# \\n\t換行\n",
    "# \\v\t縱向製表符\n",
    "# \\t\t橫向製表符\n",
    "# \\r\t回車\n",
    "# \\f\t換頁\n",
    "# \\oyy\t八進制數，yy代表的字符，例如：\\o12代表換行\n",
    "# \\xyy\t十六進制數，yy代表的字符，例如：\\x0a代表換行\n",
    "# \\other\t其它的字符以普通格式輸出"
   ]
  },
  {
   "cell_type": "markdown",
   "metadata": {
    "colab_type": "text",
    "id": "eTJkQ2MUG5ev"
   },
   "source": [
    "## Python字符串运算符"
   ]
  },
  {
   "cell_type": "code",
   "execution_count": 0,
   "metadata": {
    "colab": {
     "base_uri": "https://localhost:8080/",
     "height": 51
    },
    "colab_type": "code",
    "executionInfo": {
     "elapsed": 416,
     "status": "ok",
     "timestamp": 1565886645182,
     "user": {
      "displayName": "電機工程系李佑謙",
      "photoUrl": "",
      "userId": "05735385076343474033"
     },
     "user_tz": -480
    },
    "id": "EuU5ogbbG7H9",
    "outputId": "ed29df3a-df0c-4bcd-9443-a347f41ef3a3"
   },
   "outputs": [
    {
     "name": "stdout",
     "output_type": "stream",
     "text": [
      "i love \n",
      "python\n"
     ]
    }
   ],
   "source": [
    "a = 'i love '\n",
    "b = 'python'\n",
    "print(a)\n",
    "print(b)"
   ]
  },
  {
   "cell_type": "code",
   "execution_count": 0,
   "metadata": {
    "colab": {
     "base_uri": "https://localhost:8080/",
     "height": 34
    },
    "colab_type": "code",
    "executionInfo": {
     "elapsed": 551,
     "status": "ok",
     "timestamp": 1565886701824,
     "user": {
      "displayName": "電機工程系李佑謙",
      "photoUrl": "",
      "userId": "05735385076343474033"
     },
     "user_tz": -480
    },
    "id": "LAMsR_qXHa5o",
    "outputId": "eba72895-5814-43b4-c217-d01224fee70d"
   },
   "outputs": [
    {
     "name": "stdout",
     "output_type": "stream",
     "text": [
      "i love python\n"
     ]
    }
   ],
   "source": [
    "# +\t字符串连接\n",
    "print(a+b)"
   ]
  },
  {
   "cell_type": "code",
   "execution_count": 0,
   "metadata": {
    "colab": {
     "base_uri": "https://localhost:8080/",
     "height": 34
    },
    "colab_type": "code",
    "executionInfo": {
     "elapsed": 637,
     "status": "ok",
     "timestamp": 1565886743967,
     "user": {
      "displayName": "電機工程系李佑謙",
      "photoUrl": "",
      "userId": "05735385076343474033"
     },
     "user_tz": -480
    },
    "id": "YC0y4WMGHt5h",
    "outputId": "5843ea45-d056-48dc-bc88-6fd7849c80d2"
   },
   "outputs": [
    {
     "name": "stdout",
     "output_type": "stream",
     "text": [
      "i love i love \n"
     ]
    }
   ],
   "source": [
    "# *\t重複輸出字符串\n",
    "print(a*2)"
   ]
  },
  {
   "cell_type": "code",
   "execution_count": 0,
   "metadata": {
    "colab": {
     "base_uri": "https://localhost:8080/",
     "height": 34
    },
    "colab_type": "code",
    "executionInfo": {
     "elapsed": 743,
     "status": "ok",
     "timestamp": 1565886825213,
     "user": {
      "displayName": "電機工程系李佑謙",
      "photoUrl": "",
      "userId": "05735385076343474033"
     },
     "user_tz": -480
    },
    "id": "SwnhU7reH0Qp",
    "outputId": "b22299a9-9f5b-47ca-af3c-60abacae3e3b"
   },
   "outputs": [
    {
     "name": "stdout",
     "output_type": "stream",
     "text": [
      "i   l o v\n"
     ]
    }
   ],
   "source": [
    "# [] 通过索引获取字符串中字符\n",
    "print(a[0],a[1],a[2],a[3],a[4],a[5])\n"
   ]
  },
  {
   "cell_type": "code",
   "execution_count": 0,
   "metadata": {
    "colab": {
     "base_uri": "https://localhost:8080/",
     "height": 34
    },
    "colab_type": "code",
    "executionInfo": {
     "elapsed": 669,
     "status": "ok",
     "timestamp": 1565886920171,
     "user": {
      "displayName": "電機工程系李佑謙",
      "photoUrl": "",
      "userId": "05735385076343474033"
     },
     "user_tz": -480
    },
    "id": "RpPvaYssIFW0",
    "outputId": "e1953805-ba01-46cd-8937-552f03a97933"
   },
   "outputs": [
    {
     "name": "stdout",
     "output_type": "stream",
     "text": [
      "i lo\n"
     ]
    }
   ],
   "source": [
    "# [x:y]\t截取字符串中的一部分 \n",
    "# x指起始位置\n",
    "# y指結束前的位置\n",
    "print(a[0:4])"
   ]
  },
  {
   "cell_type": "code",
   "execution_count": 0,
   "metadata": {
    "colab": {
     "base_uri": "https://localhost:8080/",
     "height": 51
    },
    "colab_type": "code",
    "executionInfo": {
     "elapsed": 572,
     "status": "ok",
     "timestamp": 1565886977788,
     "user": {
      "displayName": "電機工程系李佑謙",
      "photoUrl": "",
      "userId": "05735385076343474033"
     },
     "user_tz": -480
    },
    "id": "DuijW-6KIVBx",
    "outputId": "bf0b2d59-3ca0-401f-e2c5-8c283d6984e6"
   },
   "outputs": [
    {
     "name": "stdout",
     "output_type": "stream",
     "text": [
      "False\n",
      "True\n"
     ]
    }
   ],
   "source": [
    "# in\t成員運算符 - 如果字符串中包含給定的字符返回 True\n",
    "# 大小寫在python是有分別的\n",
    "print(\"I\" in a)\n",
    "print(\"i\" in a)"
   ]
  },
  {
   "cell_type": "code",
   "execution_count": 0,
   "metadata": {
    "colab": {
     "base_uri": "https://localhost:8080/",
     "height": 51
    },
    "colab_type": "code",
    "executionInfo": {
     "elapsed": 621,
     "status": "ok",
     "timestamp": 1565887077174,
     "user": {
      "displayName": "電機工程系李佑謙",
      "photoUrl": "",
      "userId": "05735385076343474033"
     },
     "user_tz": -480
    },
    "id": "LE807GpGIxRb",
    "outputId": "801621dc-8131-40a3-f677-5d73575163d9"
   },
   "outputs": [
    {
     "name": "stdout",
     "output_type": "stream",
     "text": [
      "True\n",
      "False\n"
     ]
    }
   ],
   "source": [
    "#　not in\t成員運算符 - 如果字符串中不包含給定的字符返回 True\n",
    "# 即 in 的相反\n",
    "print(\"I\" not in a)\n",
    "print(\"i\" not in a)"
   ]
  },
  {
   "cell_type": "markdown",
   "metadata": {
    "colab_type": "text",
    "id": "ldQG4ELDJaE7"
   },
   "source": [
    "## Python 字符串格式化"
   ]
  },
  {
   "cell_type": "markdown",
   "metadata": {
    "colab_type": "text",
    "id": "WUATkvP3Jgi_"
   },
   "source": [
    "* Python 支持格式化字符串的輸出 。儘管這樣可能會用到非常複雜的表達式，但最基本的用法是將一個值插入到一個有字符串格式符 %s 的字符串中。\n",
    "\n",
    "* 在 Python 中，字符串格式化使用與 C 中 sprintf 函數一樣的語法。\n",
    "\n",
    " 如下實例："
   ]
  },
  {
   "cell_type": "code",
   "execution_count": 0,
   "metadata": {
    "colab": {
     "base_uri": "https://localhost:8080/",
     "height": 34
    },
    "colab_type": "code",
    "executionInfo": {
     "elapsed": 600,
     "status": "ok",
     "timestamp": 1565887225674,
     "user": {
      "displayName": "電機工程系李佑謙",
      "photoUrl": "",
      "userId": "05735385076343474033"
     },
     "user_tz": -480
    },
    "id": "lIbOoAc3JJhs",
    "outputId": "a8dfc901-38bb-4f88-f8bc-0b8f188101f2"
   },
   "outputs": [
    {
     "name": "stdout",
     "output_type": "stream",
     "text": [
      "My name is Zara and weight is 21 kg!\n"
     ]
    }
   ],
   "source": [
    "print(\"My name is %s and weight is %d kg!\" % ('Zara', 21)) "
   ]
  },
  {
   "cell_type": "code",
   "execution_count": 0,
   "metadata": {
    "colab": {},
    "colab_type": "code",
    "id": "bHkwtag7JtyI"
   },
   "outputs": [],
   "source": [
    "# %c\t格式化字符及其ASCII码\n",
    "# %s\t格式化字符串\n",
    "# %d  格式化整数\n",
    "# %u\t格式化无符号整型\n",
    "# %o\t格式化无符号八进制数\n",
    "# %x\t格式化无符号十六进制数\n",
    "# %X\t格式化无符号十六进制数（大写）\n",
    "# %f  格式化浮点数字，可指定小数点后的精度\n",
    "# %e  用科学计数法格式化浮点数\n",
    "# %E  作用同%e，用科学计数法格式化浮点数\n",
    "# %g  %f和%e的简写\n",
    "# %G  %F 和 %E 的简写\n",
    "# %p  用十六进制数格式化变量的地址"
   ]
  },
  {
   "cell_type": "markdown",
   "metadata": {
    "colab_type": "text",
    "id": "OL4ziQZWKJWr"
   },
   "source": [
    "## 練習"
   ]
  },
  {
   "cell_type": "markdown",
   "metadata": {
    "colab_type": "text",
    "id": "dmO3HmFQKNCQ"
   },
   "source": [
    "* 已知 A 為 goodbye\n",
    "*    B 為 job\n",
    "*    C 為 為空的字串\n",
    "* **請將 A 的good 和 B 的job合併,變成goodjob,並存放到C**\n",
    "* **並且在結束後,使用 in 來檢查bye是否還在A、C**\n",
    "* (請視 c 為一個暫存器) "
   ]
  },
  {
   "cell_type": "code",
   "execution_count": 0,
   "metadata": {
    "colab": {},
    "colab_type": "code",
    "id": "7erjzcFiKMH8"
   },
   "outputs": [],
   "source": [
    "A = 'goodbye'\n",
    "B = 'job'\n",
    "C = ''\n",
    "# 將A的字元[0]到字元[3] 和 B 合併並放進C\n",
    "C = \n",
    "# 檢查bye,是否還在A、C\n",
    "print()"
   ]
  },
  {
   "cell_type": "markdown",
   "metadata": {},
   "source": [
    "## 課程文件\n",
    "\n",
    "#### Python Basics 課程清單\n",
    "- <a href=\"https://colab.research.google.com/github/AI-FREE-Team/Python-Basics/blob/master/documents/Lesson00%20Preface.ipynb\">Lesson00 Preface 課程前言</a> \n",
    "\n",
    "- <a href=\"https://colab.research.google.com/github/AI-FREE-Team/Python-Basics/blob/master/documents/Lesson01%20Variable.ipynb\">Lesson01 Variable 變數</a> \n",
    "\n",
    "- <a href=\"https://colab.research.google.com/github/AI-FREE-Team/Python-Basics/blob/master/documents/Lesson02%20Operator.ipynb\">Lesson02 Operator 運算子</a>\n",
    "\n",
    "- <a href=\"https://colab.research.google.com/github/AI-FREE-Team/Python-Basics/blob/master/documents/Lesson03%20Data%20Structure.ipynb\">Lesson03 Data Structure 資料結構</a> (Last Chapter! --上一堂課程--)\n",
    "\n",
    "- <a href=\"https://colab.research.google.com/github/AI-FREE-Team/Python-Basics/blob/master/documents/Lesson04%20String.ipynb\">Lesson04 String 字串</a> (We are here now! --本篇課程--)\n",
    "\n",
    "- <a href=\"https://colab.research.google.com/github/AI-FREE-Team/Python-Basics/blob/master/documents/Lesson05%20List.ipynb\">Lesson05 List 列表</a> (Next Chapter! --下一堂課程--)\n",
    "\n",
    "- <a href=\"https://colab.research.google.com/github/AI-FREE-Team/Python-Basics/blob/master/documents/Lesson06%20Tuple.ipynb\">Lesson06 Tuple 元組</a>\n",
    "\n",
    "- <a href=\"https://colab.research.google.com/github/AI-FREE-Team/Python-Basics/blob/master/documents/Lesson07%20Range.ipynb\">Lesson07 Range 範圍</a>\n",
    "\n",
    "- <a href=\"https://colab.research.google.com/github/AI-FREE-Team/Python-Basics/blob/master/documents/Lesson08%20Set.ipynb\">Lesson08 Set 集合</a>\n",
    "\n",
    "- <a href=\"https://colab.research.google.com/github/AI-FREE-Team/Python-Basics/blob/master/documents/Lesson09%20Dictionary.ipynb\">Lesson09 Dictionary 字典</a>\n",
    "\n",
    "- <a href=\"https://colab.research.google.com/github/AI-FREE-Team/Python-Basics/blob/master/documents/Lesson10%20If-else.ipynb\">Lesson10 If-else 條件語法</a>\n",
    "\n",
    "- <a href=\"https://colab.research.google.com/github/AI-FREE-Team/Python-Basics/blob/master/documents/Lesson11%20While-loop.ipynb\">Lesson11 While 迴圈</a>\n",
    "\n",
    "- <a href=\"https://colab.research.google.com/github/AI-FREE-Team/Python-Basics/blob/master/documents/Lesson12%20For-loop.ipynb\">Lesson12 For 迴圈</a>\n",
    "\n",
    "- <a href=\"https://colab.research.google.com/github/AI-FREE-Team/Python-Basics/blob/master/documents/Lesson13%20Function.ipynb\">Lesson13 Function 函式</a>\n",
    "\n",
    "- <a href=\"https://colab.research.google.com/github/AI-FREE-Team/Python-Basics/blob/master/documents/Lesson14%20Input-output.ipynb\">Lesson14 Input/Output 輸入/輸出</a>\n",
    "\n",
    "- <a href=\"https://colab.research.google.com/github/AI-FREE-Team/Python-Basics/blob/master/documents/Lesson15%20Class.ipynb\">Lesson15 Class 類別</a>"
   ]
  },
  {
   "cell_type": "code",
   "execution_count": null,
   "metadata": {},
   "outputs": [],
   "source": []
  }
 ],
 "metadata": {
  "colab": {
   "collapsed_sections": [],
   "name": "course4:String.ipynb",
   "provenance": [],
   "version": "0.3.2"
  },
  "kernelspec": {
   "display_name": "Python 3",
   "language": "python",
   "name": "python3"
  },
  "language_info": {
   "codemirror_mode": {
    "name": "ipython",
    "version": 3
   },
   "file_extension": ".py",
   "mimetype": "text/x-python",
   "name": "python",
   "nbconvert_exporter": "python",
   "pygments_lexer": "ipython3",
   "version": "3.7.3"
  }
 },
 "nbformat": 4,
 "nbformat_minor": 1
}
