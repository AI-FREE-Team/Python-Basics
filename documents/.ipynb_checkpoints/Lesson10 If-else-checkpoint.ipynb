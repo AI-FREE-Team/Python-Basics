{
 "cells": [
  {
   "cell_type": "markdown",
   "metadata": {
    "colab_type": "text",
    "id": "N177jyz4StvH"
   },
   "source": [
    "![人工智慧 - 自由團隊](https://raw.githubusercontent.com/chenkenanalytic/img/master/af/aifreeteam.png)\n",
    "\n",
    "\n",
    "<center>Welcome to the course《Python: from business analytics to Artificial Intelligence》by AI . FREE Team.</center>\n",
    "<br>\n",
    "<center>歡迎大家來到 AI . FREE Team 《Python 從商業分析到人工智慧》的 Python 基礎教學 - Lesson 10 條件語法 (1-10)。 </center>\n",
    "<br>\n",
    "\n",
    "<center>(Author: Chen Ken, Lee Ovien, Chuang Shawn；Date of published: 2019/9/5；AI . FREE Team Website: https://aifreeblog.herokuapp.com/)</center>"
   ]
  },
  {
   "cell_type": "markdown",
   "metadata": {
    "colab_type": "text",
    "id": "-F8EhN_TTmxn"
   },
   "source": [
    "# If else(條件語法)"
   ]
  },
  {
   "cell_type": "markdown",
   "metadata": {
    "colab_type": "text",
    "id": "MB7lAcJETyza"
   },
   "source": [
    "Python條件語法是通過一條或多條語句的執行結果（True或者False）來決定執行的代碼。\n",
    "\n",
    "可以通過下圖來簡單瞭解條件語句的執行過程:"
   ]
  },
  {
   "cell_type": "markdown",
   "metadata": {
    "colab_type": "text",
    "id": "YJl_C-y3T7i5"
   },
   "source": [
    "![替代文字](https://www.tutorialspoint.com/python/images/if_else_statement.jpg)"
   ]
  },
  {
   "cell_type": "markdown",
   "metadata": {
    "colab_type": "text",
    "id": "DFjlhBS1UGPa"
   },
   "source": [
    "Python程序語言指定任何非0和非空（null）值爲true，0 或者 null爲false。\n",
    "\n",
    "Python 編程中 if 語句用於控制程序的執行，基本形式爲：\n",
    "\n",
    "\n",
    "```\n",
    "if 判斷條件：\n",
    "    執行語句……\n",
    "else：\n",
    "    執行語句……\n",
    "```\n",
    "\n"
   ]
  },
  {
   "cell_type": "markdown",
   "metadata": {
    "colab_type": "text",
    "id": "qnJcDIIeVU13"
   },
   "source": [
    "其中\"判斷條件\"成立時（非零），則執行後面的語句，而執行內容可以多行，以同樣的縮排來區分表示同一範圍。\n",
    "\n",
    "else 爲可選語句，當上述條件不成立時執行內容則可以執行相關語句。"
   ]
  },
  {
   "cell_type": "code",
   "execution_count": 2,
   "metadata": {
    "colab": {
     "base_uri": "https://localhost:8080/",
     "height": 51
    },
    "colab_type": "code",
    "executionInfo": {
     "elapsed": 656,
     "status": "ok",
     "timestamp": 1567266304265,
     "user": {
      "displayName": "電機工程系李佑謙",
      "photoUrl": "",
      "userId": "05735385076343474033"
     },
     "user_tz": -480
    },
    "id": "BSWF8OPpSZu-",
    "outputId": "771c3e01-d57e-42dc-e717-5b11210bce7b"
   },
   "outputs": [
    {
     "name": "stdout",
     "output_type": "stream",
     "text": [
      "hi!\n",
      "None\n"
     ]
    }
   ],
   "source": [
    "x = 1\n",
    "if x == 1:         # 判斷變量是否爲 1\n",
    "  print('hi!') # 並輸出信息\n",
    "    \n",
    "else:\n",
    "  print('None')\n",
    "\n",
    "x = 2\n",
    "if x == 1:         \n",
    "  print('hi!') \n",
    "else:\n",
    "  print('None')"
   ]
  },
  {
   "cell_type": "markdown",
   "metadata": {
    "colab_type": "text",
    "id": "cl0STcCEWBsW"
   },
   "source": [
    "if 語句的判斷條件可以用>（大於）、<(小於)、==（等於）、>=（大於等於）、<=（小於等於）來表示其關係。\n",
    "\n",
    "當判斷條件爲多個值時，可以使用以下形式：\n",
    "\n",
    "\n",
    "```\n",
    "if 判斷條件1:\n",
    "    執行語句1……\n",
    "elif 判斷條件2:\n",
    "    執行語句2……\n",
    "elif 判斷條件3:\n",
    "    執行語句3……\n",
    "else:\n",
    "    執行語句4……\n",
    "```\n",
    "\n"
   ]
  },
  {
   "cell_type": "code",
   "execution_count": 3,
   "metadata": {
    "colab": {
     "base_uri": "https://localhost:8080/",
     "height": 34
    },
    "colab_type": "code",
    "executionInfo": {
     "elapsed": 699,
     "status": "ok",
     "timestamp": 1567266437408,
     "user": {
      "displayName": "電機工程系李佑謙",
      "photoUrl": "",
      "userId": "05735385076343474033"
     },
     "user_tz": -480
    },
    "id": "4cfe0V-tWIWv",
    "outputId": "8a97ee29-db26-48e8-bf99-9963271e5205"
   },
   "outputs": [
    {
     "name": "stdout",
     "output_type": "stream",
     "text": [
      "twenty-one\n"
     ]
    }
   ],
   "source": [
    "number = 21     \n",
    "if number == 18:     # 判斷number的值\n",
    "  print('eighteen')        \n",
    "elif number == 21:\n",
    "  print('twenty-one') \n",
    "elif number == 1:\n",
    "  print('one') \n",
    "else:\n",
    "  print('not')      # 條件均不成立時輸出"
   ]
  },
  {
   "cell_type": "markdown",
   "metadata": {
    "colab_type": "text",
    "id": "ERnTmg27XKUO"
   },
   "source": [
    "由於 python 並不支持 switch 語句，所以多個條件判斷，只能用 elif 來實現，如果判斷需要多個條件需同時判斷時，可以使用 or （或），表示兩個條件有一個成立時判斷條件成功；使用 and （與）時，表示只有兩個條件同時成立的情況下，判斷條件才成功。"
   ]
  },
  {
   "cell_type": "code",
   "execution_count": 4,
   "metadata": {
    "colab": {
     "base_uri": "https://localhost:8080/",
     "height": 68
    },
    "colab_type": "code",
    "executionInfo": {
     "elapsed": 677,
     "status": "ok",
     "timestamp": 1567266766421,
     "user": {
      "displayName": "電機工程系李佑謙",
      "photoUrl": "",
      "userId": "05735385076343474033"
     },
     "user_tz": -480
    },
    "id": "AFWeJ8-_XJmQ",
    "outputId": "86022692-15e7-4da3-b4bc-a584dce34c33"
   },
   "outputs": [
    {
     "name": "stdout",
     "output_type": "stream",
     "text": [
      "between 0 and 10\n",
      "undefine\n",
      "undefine\n"
     ]
    }
   ],
   "source": [
    "num = 9\n",
    "if num >= 0 and num <= 10:    # 判斷值是否在0~10之間\n",
    "    print('between 0 and 10')\n",
    "# 輸出結果:between 0 and 10\n",
    " \n",
    "num = 10\n",
    "if num < 0 or num > 10:    # 判斷值是否在小於0或大於10\n",
    "    print('less than 0 or more than 10')\n",
    "else:\n",
    "    print('undefine')\n",
    "# 輸出結果: undefine\n",
    " \n",
    "num = 8\n",
    "# 判斷值是否在0~5或者10~15之間\n",
    "if (num >= 0 and num <= 5) or (num >= 10 and num <= 15):    \n",
    "    print('(more or equal 0 and less or equal than 5) or (more or equal 10 and less or equal than 15)')\n",
    "else:\n",
    "    print('undefine')\n",
    "# 輸出結果: undefine"
   ]
  },
  {
   "cell_type": "markdown",
   "metadata": {
    "colab_type": "text",
    "id": "7VtH-IM0YQgP"
   },
   "source": [
    "當if有多個條件時可使用括號來區分判斷的先後順序，括號中的判斷優先執行，此外 and 和 or 的優先級低於>（大於）、<（小於）等判斷符號，即大於和小於在沒有括號的情況下會比與或要優先判斷。"
   ]
  },
  {
   "cell_type": "markdown",
   "metadata": {
    "colab_type": "text",
    "id": "ju1S-GY7YTwD"
   },
   "source": [
    "## 簡單的語句組"
   ]
  },
  {
   "cell_type": "markdown",
   "metadata": {
    "colab_type": "text",
    "id": "1Yti37DdYXg8"
   },
   "source": [
    "你也可以在同一行的位置上使用if條件判斷語句，如下實例："
   ]
  },
  {
   "cell_type": "code",
   "execution_count": 6,
   "metadata": {
    "colab": {
     "base_uri": "https://localhost:8080/",
     "height": 51
    },
    "colab_type": "code",
    "executionInfo": {
     "elapsed": 629,
     "status": "ok",
     "timestamp": 1567266894695,
     "user": {
      "displayName": "電機工程系李佑謙",
      "photoUrl": "",
      "userId": "05735385076343474033"
     },
     "user_tz": -480
    },
    "id": "AaOsVZ9NYkTl",
    "outputId": "30f5e1a9-3dc9-42ce-cef2-b5c499520c31"
   },
   "outputs": [
    {
     "name": "stdout",
     "output_type": "stream",
     "text": [
      "變量 var 的值爲50\n",
      "Good bye!\n"
     ]
    }
   ],
   "source": [
    "var = 50 \n",
    " \n",
    "if ( var  == 50 ) : print(\"變量 var 的值爲50\") \n",
    " \n",
    "print(\"Good bye!\")"
   ]
  },
  {
   "cell_type": "markdown",
   "metadata": {},
   "source": [
    "## 課程文件\n",
    "\n",
    "#### Python Basics 課程清單\n",
    "- <a href=\"https://colab.research.google.com/github/AI-FREE-Team/Python-Basics/blob/master/documents/Lesson00%20Preface.ipynb\">Lesson00 Preface 課程前言</a> \n",
    "\n",
    "- <a href=\"https://colab.research.google.com/github/AI-FREE-Team/Python-Basics/blob/master/documents/Lesson01%20Variable.ipynb\">Lesson01 Variable 變數</a> \n",
    "\n",
    "- <a href=\"https://colab.research.google.com/github/AI-FREE-Team/Python-Basics/blob/master/documents/Lesson02%20Operator.ipynb\">Lesson02 Operator 運算子</a>\n",
    "\n",
    "- <a href=\"https://colab.research.google.com/github/AI-FREE-Team/Python-Basics/blob/master/documents/Lesson03%20Data%20Structure.ipynb\">Lesson03 Data Structure 資料結構</a> \n",
    "\n",
    "- <a href=\"https://colab.research.google.com/github/AI-FREE-Team/Python-Basics/blob/master/documents/Lesson04%20String.ipynb\">Lesson04 String 字串</a>\n",
    "\n",
    "- <a href=\"https://colab.research.google.com/github/AI-FREE-Team/Python-Basics/blob/master/documents/Lesson05%20List.ipynb\">Lesson05 List 列表</a> \n",
    "\n",
    "- <a href=\"https://colab.research.google.com/github/AI-FREE-Team/Python-Basics/blob/master/documents/Lesson06%20Tuple.ipynb\">Lesson06 Tuple 元組</a>\n",
    "\n",
    "- <a href=\"https://colab.research.google.com/github/AI-FREE-Team/Python-Basics/blob/master/documents/Lesson07%20Range.ipynb\">Lesson07 Range 範圍</a>\n",
    "\n",
    "- <a href=\"https://colab.research.google.com/github/AI-FREE-Team/Python-Basics/blob/master/documents/Lesson08%20Set.ipynb\">Lesson08 Set 集合</a>\n",
    "\n",
    "- <a href=\"https://colab.research.google.com/github/AI-FREE-Team/Python-Basics/blob/master/documents/Lesson09%20Dictionary.ipynb\">Lesson09 Dictionary 字典</a> (Last Chapter! --上一堂課程--)\n",
    "\n",
    "- <a href=\"https://colab.research.google.com/github/AI-FREE-Team/Python-Basics/blob/master/documents/Lesson10%20If-else.ipynb\">Lesson10 If-else 條件語法</a> (We are here now! --本篇課程--)\n",
    "\n",
    "- <a href=\"https://colab.research.google.com/github/AI-FREE-Team/Python-Basics/blob/master/documents/Lesson11%20While-loop.ipynb\">Lesson11 While 迴圈</a> (Next Chapter! --下一堂課程--)\n",
    "\n",
    "- <a href=\"https://colab.research.google.com/github/AI-FREE-Team/Python-Basics/blob/master/documents/Lesson12%20For-loop.ipynb\">Lesson12 For 迴圈</a> \n",
    "\n",
    "- <a href=\"https://colab.research.google.com/github/AI-FREE-Team/Python-Basics/blob/master/documents/Lesson13%20Function.ipynb\">Lesson13 Function 函式</a>\n",
    "\n",
    "- <a href=\"https://colab.research.google.com/github/AI-FREE-Team/Python-Basics/blob/master/documents/Lesson14%20Input-output.ipynb\">Lesson14 Input/Output 輸入/輸出</a>\n",
    "\n",
    "- <a href=\"https://colab.research.google.com/github/AI-FREE-Team/Python-Basics/blob/master/documents/Lesson15%20Class.ipynb\">Lesson15 Class 類別</a>"
   ]
  },
  {
   "cell_type": "code",
   "execution_count": null,
   "metadata": {},
   "outputs": [],
   "source": []
  }
 ],
 "metadata": {
  "colab": {
   "collapsed_sections": [],
   "name": "If_else.ipynb",
   "provenance": [],
   "version": "0.3.2"
  },
  "kernelspec": {
   "display_name": "Python 3",
   "language": "python",
   "name": "python3"
  },
  "language_info": {
   "codemirror_mode": {
    "name": "ipython",
    "version": 3
   },
   "file_extension": ".py",
   "mimetype": "text/x-python",
   "name": "python",
   "nbconvert_exporter": "python",
   "pygments_lexer": "ipython3",
   "version": "3.7.3"
  }
 },
 "nbformat": 4,
 "nbformat_minor": 1
}
