{
 "cells": [
  {
   "cell_type": "markdown",
   "metadata": {
    "colab_type": "text",
    "id": "Bi-PSCAZKjdk"
   },
   "source": [
    "![人工智慧 - 自由團隊](https://raw.githubusercontent.com/chenkenanalytic/img/master/af/aifreeteam.png)\n",
    "\n",
    "\n",
    "<center>Welcome to the course《Python: from business analytics to Artificial Intelligence》by AI . FREE Team.</center>\n",
    "<br>\n",
    "<center>歡迎大家來到 AI . FREE Team 《Python 從商業分析到人工智慧》的 Python 基礎教學 - Lesson 02 運算子 (1-02)。 </center>\n",
    "<br>\n",
    "\n",
    "<center>(Author: Chen Ken, Lee Ovien, Chuang Shawn；Date of published: 2019/9/5；AI . FREE Team Website: https://aifreeblog.herokuapp.com/)</center>"
   ]
  },
  {
   "cell_type": "markdown",
   "metadata": {
    "colab_type": "text",
    "id": "_DeL-QEpKohy"
   },
   "source": [
    "# 運算子(Operator)"
   ]
  },
  {
   "cell_type": "markdown",
   "metadata": {
    "colab_type": "text",
    "id": "RbtpSepcLFaX"
   },
   "source": [
    "* 這個章節，我們將教導什麼事運算子，並用一些實例來引導大家了解這個單元"
   ]
  },
  {
   "cell_type": "markdown",
   "metadata": {
    "colab_type": "text",
    "id": "8E9DzMEPKodT"
   },
   "source": [
    "* 基本運算"
   ]
  },
  {
   "cell_type": "code",
   "execution_count": 1,
   "metadata": {
    "colab": {},
    "colab_type": "code",
    "id": "pPUp6RjVKU_C"
   },
   "outputs": [],
   "source": [
    "a = 1\n",
    "b = 2\n",
    "c = a + b\n",
    "d = a - b\n",
    "e = a * b"
   ]
  },
  {
   "cell_type": "markdown",
   "metadata": {
    "colab_type": "text",
    "id": "BTErLy4qLcBC"
   },
   "source": [
    "* 並透過print()來觀察以上計算結果"
   ]
  },
  {
   "cell_type": "code",
   "execution_count": 4,
   "metadata": {
    "colab": {},
    "colab_type": "code",
    "id": "G68ma_l4LbWV"
   },
   "outputs": [
    {
     "name": "stdout",
     "output_type": "stream",
     "text": [
      "a = 1\n",
      "b = 2\n",
      "c = 3\n",
      "d = -1\n",
      "e = 2\n"
     ]
    }
   ],
   "source": [
    "print(\"a =\",a)\n",
    "print(\"b =\",b)\n",
    "print(\"c =\",c)\n",
    "print(\"d =\",d)\n",
    "print(\"e =\",e)"
   ]
  },
  {
   "cell_type": "markdown",
   "metadata": {
    "colab_type": "text",
    "id": "5cTk0UziKzjd"
   },
   "source": [
    "* 其中常見的運算需要特別注意： / 為直接相除、 // 為取商、 % 為取餘數。"
   ]
  },
  {
   "cell_type": "code",
   "execution_count": 8,
   "metadata": {
    "colab": {},
    "colab_type": "code",
    "id": "r28ZmHbjK5bp"
   },
   "outputs": [
    {
     "name": "stdout",
     "output_type": "stream",
     "text": [
      "f = 2.3333333333333335\n",
      "g = 2\n",
      "h = 1\n"
     ]
    }
   ],
   "source": [
    "f = 7 / 3\n",
    "g = 7 // 3\n",
    "h = 7 % 3\n",
    "\n",
    "#觀察計算結果\n",
    "print(\"f =\",f)\n",
    "print(\"g =\",g)\n",
    "print(\"h =\",h)"
   ]
  },
  {
   "cell_type": "markdown",
   "metadata": {
    "colab_type": "text",
    "id": "h6k1giEoK9gv"
   },
   "source": [
    "* 邏輯運算，常作為判別結果用途，回傳的值為 True 或 False。"
   ]
  },
  {
   "cell_type": "code",
   "execution_count": 12,
   "metadata": {
    "colab": {},
    "colab_type": "code",
    "id": "KVK9XssqLAr2"
   },
   "outputs": [
    {
     "name": "stdout",
     "output_type": "stream",
     "text": [
      "a = 1 , b = 2\n",
      "False (a是否等於b)\n",
      "False (a是否大於b)\n",
      "True (a是否小於b)\n",
      "False (a是否大於等於b)\n",
      "True (a是否小於等於b)\n",
      "True (a是否不等於b)\n"
     ]
    }
   ],
   "source": [
    "a == b #a是否等於b\n",
    "a > b  #a是否大於b\n",
    "a < b  #a是否小於b\n",
    "a >= b  #a是否大於等於b\n",
    "a <= b  #a是否小於等於b\n",
    "a != b  #a是否不等於b\n",
    "\n",
    "#觀察判斷結果\n",
    "print(\"a =\",a,\", b =\", b)\n",
    "print(a == b, \"(a是否等於b)\")\n",
    "print(a > b,  \"(a是否大於b)\")\n",
    "print(a < b,  \"(a是否小於b)\")\n",
    "print(a >= b,  \"(a是否大於等於b)\")\n",
    "print(a <= b,  \"(a是否小於等於b)\")\n",
    "print(a != b,  \"(a是否不等於b)\")"
   ]
  },
  {
   "cell_type": "markdown",
   "metadata": {},
   "source": [
    "## 課程文件\n",
    "\n",
    "#### Python Basics 課程清單\n",
    "- <a href=\"https://colab.research.google.com/github/AI-FREE-Team/Python-Basics/blob/master/documents/Lesson00%20Preface.ipynb\">Lesson00 Preface 課程前言</a> \n",
    "\n",
    "- <a href=\"https://colab.research.google.com/github/AI-FREE-Team/Python-Basics/blob/master/documents/Lesson01%20Variable.ipynb\">Lesson01 Variable 變數</a> (Last Chapter! --上一堂課程--)\n",
    "\n",
    "- <a href=\"https://colab.research.google.com/github/AI-FREE-Team/Python-Basics/blob/master/documents/Lesson02%20Operator.ipynb\">Lesson02 Operator 運算子</a> (We are here now! --本篇課程--)\n",
    "\n",
    "- <a href=\"https://colab.research.google.com/github/AI-FREE-Team/Python-Basics/blob/master/documents/Lesson03%20Data%20Structure.ipynb\">Lesson03 Data Structure 資料結構</a> (Next Chapter! --下一堂課程--)\n",
    "\n",
    "- <a href=\"https://colab.research.google.com/github/AI-FREE-Team/Python-Basics/blob/master/documents/Lesson04%20String.ipynb\">Lesson04 String 字串</a>\n",
    "\n",
    "- <a href=\"https://colab.research.google.com/github/AI-FREE-Team/Python-Basics/blob/master/documents/Lesson05%20List.ipynb\">Lesson05 List 列表</a>\n",
    "\n",
    "- <a href=\"https://colab.research.google.com/github/AI-FREE-Team/Python-Basics/blob/master/documents/Lesson06%20Tuple.ipynb\">Lesson06 Tuple 元組</a>\n",
    "\n",
    "- <a href=\"https://colab.research.google.com/github/AI-FREE-Team/Python-Basics/blob/master/documents/Lesson07%20Range.ipynb\">Lesson07 Range 範圍</a>\n",
    "\n",
    "- <a href=\"https://colab.research.google.com/github/AI-FREE-Team/Python-Basics/blob/master/documents/Lesson08%20Set.ipynb\">Lesson08 Set 集合</a>\n",
    "\n",
    "- <a href=\"https://colab.research.google.com/github/AI-FREE-Team/Python-Basics/blob/master/documents/Lesson09%20Dictionary.ipynb\">Lesson09 Dictionary 字典</a>\n",
    "\n",
    "- <a href=\"https://colab.research.google.com/github/AI-FREE-Team/Python-Basics/blob/master/documents/Lesson10%20If-else.ipynb\">Lesson10 If-else 條件語法</a>\n",
    "\n",
    "- <a href=\"https://colab.research.google.com/github/AI-FREE-Team/Python-Basics/blob/master/documents/Lesson11%20While-loop.ipynb\">Lesson11 While 迴圈</a>\n",
    "\n",
    "- <a href=\"https://colab.research.google.com/github/AI-FREE-Team/Python-Basics/blob/master/documents/Lesson12%20For-loop.ipynb\">Lesson12 For 迴圈</a>\n",
    "\n",
    "- <a href=\"https://colab.research.google.com/github/AI-FREE-Team/Python-Basics/blob/master/documents/Lesson13%20Function.ipynb\">Lesson13 Function 函式</a>\n",
    "\n",
    "- <a href=\"https://colab.research.google.com/github/AI-FREE-Team/Python-Basics/blob/master/documents/Lesson14%20Input-output.ipynb\">Lesson14 Input/Output 輸入/輸出</a>\n",
    "\n",
    "- <a href=\"https://colab.research.google.com/github/AI-FREE-Team/Python-Basics/blob/master/documents/Lesson15%20Class.ipynb\">Lesson15 Class 類別</a>"
   ]
  },
  {
   "cell_type": "code",
   "execution_count": null,
   "metadata": {},
   "outputs": [],
   "source": []
  }
 ],
 "metadata": {
  "colab": {
   "collapsed_sections": [],
   "name": "course2:Operator.ipynb",
   "provenance": [],
   "version": "0.3.2"
  },
  "kernelspec": {
   "display_name": "Python 3",
   "language": "python",
   "name": "python3"
  },
  "language_info": {
   "codemirror_mode": {
    "name": "ipython",
    "version": 3
   },
   "file_extension": ".py",
   "mimetype": "text/x-python",
   "name": "python",
   "nbconvert_exporter": "python",
   "pygments_lexer": "ipython3",
   "version": "3.7.3"
  }
 },
 "nbformat": 4,
 "nbformat_minor": 1
}
