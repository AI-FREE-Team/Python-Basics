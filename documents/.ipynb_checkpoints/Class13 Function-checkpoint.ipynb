{
 "cells": [
  {
   "cell_type": "markdown",
   "metadata": {
    "colab_type": "text",
    "id": "Sw_7LN9o6UEE"
   },
   "source": [
    "![人工智慧 - 自由團隊](https://raw.githubusercontent.com/chenkenanalytic/img/master/af/aifreeteam.png)\n",
    "\n",
    "\n",
    "<center>Welcome to the first course of《Python: from business analytics to Artificial Intelligence》--【Python Basics】, by AI . FREE Team.</center>\n",
    "\n",
    "<br>\n",
    "\n",
    "<center>歡迎大家來到 AI . FREE Team 《Pyhon 從商業分析到人工智慧》的第一堂課，Python 基礎教學！ </center>\n",
    "\n",
    "<br>\n",
    "\n",
    "<center>(Author: Chen Ken, Lee Ovien, Chuang Shawn；Date of published: 2019/9/5；AI . FREE Team Website: https://aifreeblog.herokuapp.com/)</center>\n"
   ]
  },
  {
   "cell_type": "markdown",
   "metadata": {
    "colab_type": "text",
    "id": "siKedwsY6XQ5"
   },
   "source": [
    "# Function(函式)"
   ]
  },
  {
   "cell_type": "markdown",
   "metadata": {
    "colab_type": "text",
    "id": "TGebvOK6owak"
   },
   "source": [
    "* 函數是組織好的，可重複使用的，用來實現單一，或相關聯功能的代碼段。\n",
    "\n",
    "* 函數能**提高應用的模塊性**，和**代碼的重複利用率**。你已經知道Python提供了許多內建函數，比如print()。但你也可以自己創建函數，這被叫做*用戶自定義函數*。"
   ]
  },
  {
   "cell_type": "markdown",
   "metadata": {
    "colab_type": "text",
    "id": "p5XqCU62psp5"
   },
   "source": [
    "## 定義一個函數"
   ]
  },
  {
   "cell_type": "markdown",
   "metadata": {
    "colab_type": "text",
    "id": "K0uJB8AcpzLk"
   },
   "source": [
    "你可以定義一個由自己想要功能的函數，以下是簡單的規則：\n",
    "\n",
    "* 函數代碼塊以 def 關鍵詞開頭，後接函數標識符名稱和圓括號()。\n",
    "* 任何傳入參數和自變量必須放在圓括號中間。圓括號之間可以用於定義參數。\n",
    "* 函數的第一行語句可以選擇性地使用文檔字符串—用於存放函數說明。\n",
    "* 函數內容以冒號起始，並且縮進。\n",
    "* return [表達式] 結束函數，選擇性地返回一個值給調用方。不帶表達式的return相當於返回 None"
   ]
  },
  {
   "cell_type": "code",
   "execution_count": 0,
   "metadata": {
    "colab": {},
    "colab_type": "code",
    "id": "ybaZKHqf58mW"
   },
   "outputs": [],
   "source": [
    "# def functionname( parameters ):\n",
    "#   function_suite\n",
    "#   return [expression]"
   ]
  },
  {
   "cell_type": "markdown",
   "metadata": {
    "colab_type": "text",
    "id": "gbbIKDF-qwqS"
   },
   "source": [
    "* 默認情況下，參數值和參數名稱是按函數聲明中定義的順序匹配起來的。"
   ]
  },
  {
   "cell_type": "markdown",
   "metadata": {
    "colab_type": "text",
    "id": "kqwJ-fY4rYI9"
   },
   "source": [
    "* 以下爲一個簡單的Python函數，它將一個字符串作爲傳入參數，再打印到標準顯示設備上。"
   ]
  },
  {
   "cell_type": "code",
   "execution_count": 0,
   "metadata": {
    "colab": {
     "base_uri": "https://localhost:8080/",
     "height": 68
    },
    "colab_type": "code",
    "executionInfo": {
     "elapsed": 697,
     "status": "ok",
     "timestamp": 1566869510998,
     "user": {
      "displayName": "電機工程系李佑謙",
      "photoUrl": "",
      "userId": "05735385076343474033"
     },
     "user_tz": -480
    },
    "id": "uy4S_yUDqrx_",
    "outputId": "2d6763bc-ffe2-4aa7-97e7-83b0b3e6cfe1"
   },
   "outputs": [
    {
     "name": "stdout",
     "output_type": "stream",
     "text": [
      "康乃狄克州\n",
      "阿拉巴馬州\n",
      "維吉尼亞州\n"
     ]
    }
   ],
   "source": [
    "def printme(str1):\n",
    "   \"打印傳入的字符串到標準顯示設備上\"\n",
    "   print(str1)\n",
    "   return\n",
    "printme('康乃狄克州')\n",
    "printme('阿拉巴馬州')\n",
    "printme('維吉尼亞州')"
   ]
  },
  {
   "cell_type": "markdown",
   "metadata": {
    "colab_type": "text",
    "id": "8WZR7JV1swni"
   },
   "source": [
    "* 也可以不加return"
   ]
  },
  {
   "cell_type": "code",
   "execution_count": 0,
   "metadata": {
    "colab": {
     "base_uri": "https://localhost:8080/",
     "height": 34
    },
    "colab_type": "code",
    "executionInfo": {
     "elapsed": 858,
     "status": "ok",
     "timestamp": 1566869523666,
     "user": {
      "displayName": "電機工程系李佑謙",
      "photoUrl": "",
      "userId": "05735385076343474033"
     },
     "user_tz": -480
    },
    "id": "65-viq6jsw8l",
    "outputId": "0eab81a8-505a-4f73-cc41-427c74f03366"
   },
   "outputs": [
    {
     "name": "stdout",
     "output_type": "stream",
     "text": [
      "康乃狄克州\n"
     ]
    }
   ],
   "source": [
    "def printme(str):\n",
    "   \"打印傳入的字符串到標準顯示設備上\"\n",
    "   print(str)\n",
    "printme('康乃狄克州')"
   ]
  },
  {
   "cell_type": "markdown",
   "metadata": {
    "colab_type": "text",
    "id": "zvNJS3t9uUw1"
   },
   "source": [
    "## * 可更改(mutable)與不可更改(immutable)對象"
   ]
  },
  {
   "cell_type": "markdown",
   "metadata": {
    "colab_type": "text",
    "id": "n-Ea9pYxuOjG"
   },
   "source": [
    "* 在 python 中，strings, tuples, 和 numbers 是**不可更改**的對象，而 list,dict 等則是**可以修改**的對象。\n",
    "\n",
    "* **不可變類型：變量賦值 a=5 後再賦值 a=10，這裏實際是新生成一個 int 值對象 10，再讓 a 指向它，而 5 被丟棄，不是改變a的值，相當於新生成了a。**\n",
    "\n",
    "* 可變類型：變量賦值 la=[1,2,3,4] 後再賦值 la[2]=5 則是將 list la 的第三個元素值更改，本身la沒有動，只是其內部的一部分值被修改了。\n",
    "\n",
    "python 函數的參數傳遞：\n",
    "\n",
    "* **不可變類型**：類似 c++ 的值傳遞，如 整數、字符串、元組。如fun（a），**傳遞的只是a的值，沒有影響a對象本身**。比如在 fun（a）內部修改 a 的值，只是修改另一個複製的對象，不會影響 a 本身。\n",
    "\n",
    "* **可變類型**：類似 c++ 的引用傳遞，如list，dict。如 fun（la），則是將 la 真正的傳過去，修改後fun外部的la也會受影響\n",
    "\n",
    "* python 中一切都是對象，嚴格意義我們不能說值傳遞還是引用傳遞，我們應該說傳不可變對象和傳可變對象。"
   ]
  },
  {
   "cell_type": "markdown",
   "metadata": {
    "colab_type": "text",
    "id": "xkZz7EkLuf3o"
   },
   "source": [
    "## python不可變對象實例"
   ]
  },
  {
   "cell_type": "code",
   "execution_count": 0,
   "metadata": {
    "colab": {
     "base_uri": "https://localhost:8080/",
     "height": 34
    },
    "colab_type": "code",
    "executionInfo": {
     "elapsed": 995,
     "status": "ok",
     "timestamp": 1566871414417,
     "user": {
      "displayName": "電機工程系李佑謙",
      "photoUrl": "",
      "userId": "05735385076343474033"
     },
     "user_tz": -480
    },
    "id": "mRPe9oSGv9nE",
    "outputId": "39ba2ec9-6974-4f8e-896b-d33c2e8d4220"
   },
   "outputs": [
    {
     "name": "stdout",
     "output_type": "stream",
     "text": [
      "2\n"
     ]
    }
   ],
   "source": [
    "def cng(a):\n",
    "  a = 10\n",
    "  return(a)\n",
    " \n",
    "b = 2\n",
    "cng(b)\n",
    "print(b) # 结果是2"
   ]
  },
  {
   "cell_type": "markdown",
   "metadata": {
    "colab_type": "text",
    "id": "IUwWQedOv0gU"
   },
   "source": [
    "* 實例中有 int 對象 2，指向它的變量是 b，在傳遞給 ChangeInt 函數時，按傳值的方式複製了變量 b，a 和 b 都指向了同一個 Int 對象，在 a=10 時，則新生成一個 int 值對象 10，並讓 a 指向它。"
   ]
  },
  {
   "cell_type": "markdown",
   "metadata": {
    "colab_type": "text",
    "id": "nU8NoFQiytyT"
   },
   "source": [
    "## 可變對象實例"
   ]
  },
  {
   "cell_type": "code",
   "execution_count": 0,
   "metadata": {
    "colab": {
     "base_uri": "https://localhost:8080/",
     "height": 51
    },
    "colab_type": "code",
    "executionInfo": {
     "elapsed": 936,
     "status": "ok",
     "timestamp": 1566871352333,
     "user": {
      "displayName": "電機工程系李佑謙",
      "photoUrl": "",
      "userId": "05735385076343474033"
     },
     "user_tz": -480
    },
    "id": "nHXEZsLnznaz",
    "outputId": "945de0fc-528e-4f29-9aa6-c1dfaeae4b25"
   },
   "outputs": [
    {
     "name": "stdout",
     "output_type": "stream",
     "text": [
      "[10, 20, 30, [1, 2, 3, 4]]\n",
      "[10, 20, 30, [1, 2, 3, 4]]\n"
     ]
    }
   ],
   "source": [
    "def changeme( list1 ):\n",
    "   \"修改傳入的列表\"\n",
    "   list1.append([1,2,3,4]);\n",
    "   print(list1) \n",
    "   return\n",
    " \n",
    "# 調用changeme函數\n",
    "mylist = [10,20,30];\n",
    "changeme( mylist );\n",
    "print(mylist) "
   ]
  },
  {
   "cell_type": "markdown",
   "metadata": {
    "colab_type": "text",
    "id": "Rq7Hoprhzgx4"
   },
   "source": [
    "## 參數"
   ]
  },
  {
   "cell_type": "markdown",
   "metadata": {
    "colab_type": "text",
    "id": "IjPxQmKu0g2-"
   },
   "source": [
    "以下是調用函數時可使用的正式參數類型：\n",
    "* 必備參數\n",
    "* 關鍵字參數\n",
    "* 默認參數\n",
    "* 不定長參數\n"
   ]
  },
  {
   "cell_type": "markdown",
   "metadata": {
    "colab_type": "text",
    "id": "UzXpesbO3fnO"
   },
   "source": [
    "#### 必備參數"
   ]
  },
  {
   "cell_type": "markdown",
   "metadata": {
    "colab_type": "text",
    "id": "U8AxjLx9393v"
   },
   "source": [
    "* 必備參數須以正確的順序傳入函數。調用時的數量必須和聲明時的一樣。\n",
    "\n",
    "* 調用printme()函數，你必須傳入一個參數，不然會出現語法錯誤："
   ]
  },
  {
   "cell_type": "code",
   "execution_count": 0,
   "metadata": {
    "colab": {
     "base_uri": "https://localhost:8080/",
     "height": 199
    },
    "colab_type": "code",
    "executionInfo": {
     "elapsed": 795,
     "status": "error",
     "timestamp": 1566872692178,
     "user": {
      "displayName": "電機工程系李佑謙",
      "photoUrl": "",
      "userId": "05735385076343474033"
     },
     "user_tz": -480
    },
    "id": "JzXHMfWn0aeu",
    "outputId": "9c5301a4-fb3b-4f30-9196-90260454dc7f"
   },
   "outputs": [
    {
     "ename": "TypeError",
     "evalue": "ignored",
     "output_type": "error",
     "traceback": [
      "\u001b[0;31m---------------------------------------------------------------------------\u001b[0m",
      "\u001b[0;31mTypeError\u001b[0m                                 Traceback (most recent call last)",
      "\u001b[0;32m<ipython-input-15-d60ecb9e41b5>\u001b[0m in \u001b[0;36m<module>\u001b[0;34m()\u001b[0m\n\u001b[1;32m      4\u001b[0m \u001b[0;34m\u001b[0m\u001b[0m\n\u001b[1;32m      5\u001b[0m \u001b[0;31m#調用printme函數\u001b[0m\u001b[0;34m\u001b[0m\u001b[0;34m\u001b[0m\u001b[0;34m\u001b[0m\u001b[0m\n\u001b[0;32m----> 6\u001b[0;31m \u001b[0mprintme\u001b[0m\u001b[0;34m(\u001b[0m\u001b[0;34m)\u001b[0m\u001b[0;34m\u001b[0m\u001b[0;34m\u001b[0m\u001b[0m\n\u001b[0m",
      "\u001b[0;31mTypeError\u001b[0m: printme() missing 1 required positional argument: 'str'"
     ]
    }
   ],
   "source": [
    "#可寫函數說明\n",
    "def printme( str ):\n",
    "   print(str)\n",
    "   return\n",
    " \n",
    "#調用printme函數\n",
    "printme()"
   ]
  },
  {
   "cell_type": "markdown",
   "metadata": {
    "colab_type": "text",
    "id": "3otmGhA34BeZ"
   },
   "source": [
    "#### 關鍵字參數"
   ]
  },
  {
   "cell_type": "markdown",
   "metadata": {
    "colab_type": "text",
    "id": "Q2u6ZA3I4GJJ"
   },
   "source": [
    "* 關鍵字參數和函數調用關係緊密，函數調用使用關鍵字參數來確定傳入的參數值。\n",
    "\n",
    "* 使用關鍵字參數允許函數調用時參數的順序與聲明時不一致，因爲 Python 解釋器能夠用參數名匹配參數值。\n",
    "\n",
    "* 以下實例在函數 printme() 調用時使用參數名："
   ]
  },
  {
   "cell_type": "code",
   "execution_count": 0,
   "metadata": {
    "colab": {
     "base_uri": "https://localhost:8080/",
     "height": 34
    },
    "colab_type": "code",
    "executionInfo": {
     "elapsed": 744,
     "status": "ok",
     "timestamp": 1566872567036,
     "user": {
      "displayName": "電機工程系李佑謙",
      "photoUrl": "",
      "userId": "05735385076343474033"
     },
     "user_tz": -480
    },
    "id": "cS6RF0l_4Spp",
    "outputId": "cebac87e-5971-43f0-88f7-c41659d189a7"
   },
   "outputs": [
    {
     "name": "stdout",
     "output_type": "stream",
     "text": [
      "My string\n"
     ]
    }
   ],
   "source": [
    "#可寫函數說明\n",
    "def printme(pristr):\n",
    "   print(pristr);\n",
    "   return;\n",
    " \n",
    "#調用printme函數\n",
    "printme(pristr=\"My string\");"
   ]
  },
  {
   "cell_type": "markdown",
   "metadata": {
    "colab_type": "text",
    "id": "9LC6_QqZ4h05"
   },
   "source": [
    "* 下例能將關鍵字參數順序不重要展示得更清楚："
   ]
  },
  {
   "cell_type": "code",
   "execution_count": 0,
   "metadata": {
    "colab": {
     "base_uri": "https://localhost:8080/",
     "height": 51
    },
    "colab_type": "code",
    "executionInfo": {
     "elapsed": 949,
     "status": "ok",
     "timestamp": 1566872711339,
     "user": {
      "displayName": "電機工程系李佑謙",
      "photoUrl": "",
      "userId": "05735385076343474033"
     },
     "user_tz": -480
    },
    "id": "93CF0TLl4qn4",
    "outputId": "68b832fa-2745-4ff2-efce-78b919efc781"
   },
   "outputs": [
    {
     "name": "stdout",
     "output_type": "stream",
     "text": [
      "Name:  miki\n",
      "Age  50\n"
     ]
    }
   ],
   "source": [
    "#可寫函數說明\n",
    "def printinfo( name, age ):\n",
    "   print(\"Name: \",name)\n",
    "   print(\"Age \",age)\n",
    "   return;\n",
    " \n",
    "#調用printinfo函數\n",
    "printinfo(age=17,name=\"soren\")"
   ]
  },
  {
   "cell_type": "markdown",
   "metadata": {
    "colab_type": "text",
    "id": "efLVILyL6ouq"
   },
   "source": [
    "#### 默認參數"
   ]
  },
  {
   "cell_type": "markdown",
   "metadata": {
    "colab_type": "text",
    "id": "NVZhdqNE6ryf"
   },
   "source": [
    "* 調用函數時，默認參數的值如果沒有傳入，則被認爲是默認值。下例會打印默認的age，如果age沒有被傳入："
   ]
  },
  {
   "cell_type": "code",
   "execution_count": 0,
   "metadata": {
    "colab": {
     "base_uri": "https://localhost:8080/",
     "height": 85
    },
    "colab_type": "code",
    "executionInfo": {
     "elapsed": 812,
     "status": "ok",
     "timestamp": 1566873395162,
     "user": {
      "displayName": "電機工程系李佑謙",
      "photoUrl": "",
      "userId": "05735385076343474033"
     },
     "user_tz": -480
    },
    "id": "eOvLnDL87RsF",
    "outputId": "592dc828-7924-496c-d3b5-fa2ecba93788"
   },
   "outputs": [
    {
     "name": "stdout",
     "output_type": "stream",
     "text": [
      "Anthony\n",
      "33\n",
      "miki\n",
      "25\n"
     ]
    }
   ],
   "source": [
    "#可寫函數說明\n",
    "def printinfo(name,age=25):\n",
    "   print(name)\n",
    "   print(age)\n",
    "   return\n",
    " \n",
    "#調用printinfo函數\n",
    "printinfo(age=33,name=\"Anthony\");\n",
    "printinfo(name=\"miki\");"
   ]
  },
  {
   "cell_type": "markdown",
   "metadata": {
    "colab_type": "text",
    "id": "fL3iXuXE5Dra"
   },
   "source": [
    "#### 不定長參數"
   ]
  },
  {
   "cell_type": "markdown",
   "metadata": {
    "colab_type": "text",
    "id": "0FhYzCk85aZ2"
   },
   "source": [
    "* 你可能需要一個函數能處理比當初聲明時更多的參數。這些參數叫做不定長參數，和上述2種參數不同，聲明時不會命名。基本語法如下："
   ]
  },
  {
   "cell_type": "code",
   "execution_count": 0,
   "metadata": {
    "colab": {},
    "colab_type": "code",
    "id": "XgSxtyna5k2W"
   },
   "outputs": [],
   "source": [
    "#def functionname([formal_args,] *var_args_tuple ):\n",
    "#   function_suite\n",
    "#   return [expression]"
   ]
  },
  {
   "cell_type": "markdown",
   "metadata": {
    "colab_type": "text",
    "id": "UPEkZTm95iEh"
   },
   "source": [
    "* 加了星號（*）的變量名會存放所有未命名的變量參數。不定長參數實例如下："
   ]
  },
  {
   "cell_type": "code",
   "execution_count": 0,
   "metadata": {
    "colab": {
     "base_uri": "https://localhost:8080/",
     "height": 102
    },
    "colab_type": "code",
    "executionInfo": {
     "elapsed": 419,
     "status": "ok",
     "timestamp": 1566873071106,
     "user": {
      "displayName": "電機工程系李佑謙",
      "photoUrl": "",
      "userId": "05735385076343474033"
     },
     "user_tz": -480
    },
    "id": "4ey3br8H5uU6",
    "outputId": "6ef8ee43-e902-4e10-ab6e-b7da8cbff23a"
   },
   "outputs": [
    {
     "name": "stdout",
     "output_type": "stream",
     "text": [
      "10\n",
      "\n",
      "70\n",
      "60\n",
      "50\n"
     ]
    }
   ],
   "source": [
    "# 可寫函數說明\n",
    "def printinfo( prm1, *vartuple ):\n",
    "   print(prm1)\n",
    "   for var in vartuple:\n",
    "      print(var)\n",
    "   return\n",
    " \n",
    "# 調用printinfo 函數\n",
    "printinfo(10)\n",
    "print('') # 換行\n",
    "printinfo(70,60,50)"
   ]
  },
  {
   "cell_type": "markdown",
   "metadata": {
    "colab_type": "text",
    "id": "iNBMpvtE6hAL"
   },
   "source": [
    "## 匿名函數"
   ]
  },
  {
   "cell_type": "markdown",
   "metadata": {
    "colab_type": "text",
    "id": "-X6HJfC07uHh"
   },
   "source": [
    "python 使用 **lambda** 來創建匿名函數。\n",
    "\n",
    "* lambda只是一個表達式，函數體比def簡單很多。\n",
    "* lambda的主體是一個表達式，而不是一個代碼塊。僅僅能在lambda表達式中封裝有限的邏輯進去。\n",
    "* lambda函數擁有自己的命名空間，且不能訪問自有參數列表之外或全局命名空間裏的參數。\n",
    "* 雖然lambda函數看起來只能寫一行，卻不等同於C或C++的內聯函數，後者的目的是調用小函數時不佔用棧內存從而增加運行效率。"
   ]
  },
  {
   "cell_type": "markdown",
   "metadata": {
    "colab_type": "text",
    "id": "jV-Fid8j79dU"
   },
   "source": [
    "* lambda函數的語法只包含一個語句，如下："
   ]
  },
  {
   "cell_type": "code",
   "execution_count": 0,
   "metadata": {
    "colab": {},
    "colab_type": "code",
    "id": "E14xNWm57-Tl"
   },
   "outputs": [],
   "source": [
    "# lambda [arg1 [,arg2,.....argn]]:expression"
   ]
  },
  {
   "cell_type": "code",
   "execution_count": 0,
   "metadata": {
    "colab": {
     "base_uri": "https://localhost:8080/",
     "height": 51
    },
    "colab_type": "code",
    "executionInfo": {
     "elapsed": 722,
     "status": "ok",
     "timestamp": 1566873529579,
     "user": {
      "displayName": "電機工程系李佑謙",
      "photoUrl": "",
      "userId": "05735385076343474033"
     },
     "user_tz": -480
    },
    "id": "VCc-V4H-8B-x",
    "outputId": "51a45c5d-07c1-4423-aa5a-b10940f53579"
   },
   "outputs": [
    {
     "name": "stdout",
     "output_type": "stream",
     "text": [
      "相加後的值爲 :  30\n",
      "相加後的值爲 :  40\n"
     ]
    }
   ],
   "source": [
    "# 可寫函數說明\n",
    "sum = lambda arg1, arg2: arg1 + arg2;\n",
    " \n",
    "# 調用sum函數\n",
    "print(\"相加後的值爲 : \",sum( 10, 20 ))\n",
    "print(\"相加後的值爲 : \",sum( 20, 20 ))"
   ]
  },
  {
   "cell_type": "markdown",
   "metadata": {
    "colab_type": "text",
    "id": "kd-1dtut8ZD4"
   },
   "source": [
    "## return語句"
   ]
  },
  {
   "cell_type": "markdown",
   "metadata": {
    "colab_type": "text",
    "id": "o9IPk8J68jvW"
   },
   "source": [
    "* return語句[表達式]退出函數，選擇性地向調用方返回一個表達式。**不帶參數值的return語句返回None**。之前的例子都沒有示範如何返回數值，下例便告訴你怎麼做： "
   ]
  },
  {
   "cell_type": "code",
   "execution_count": 0,
   "metadata": {
    "colab": {
     "base_uri": "https://localhost:8080/",
     "height": 34
    },
    "colab_type": "code",
    "executionInfo": {
     "elapsed": 1025,
     "status": "ok",
     "timestamp": 1566873744653,
     "user": {
      "displayName": "電機工程系李佑謙",
      "photoUrl": "",
      "userId": "05735385076343474033"
     },
     "user_tz": -480
    },
    "id": "oLHQNWAI8fle",
    "outputId": "8fff9afc-a9cf-4fa4-9f2f-6bc29cea43cc"
   },
   "outputs": [
    {
     "name": "stdout",
     "output_type": "stream",
     "text": [
      "函數內 :  30\n"
     ]
    }
   ],
   "source": [
    "# 可寫函數說明\n",
    "def sum( arg1, arg2 ):\n",
    "   # 返回2個參數的和.\"\n",
    "   total = arg1 + arg2\n",
    "   print(\"函數內 : \",total)\n",
    "   return(total)\n",
    " \n",
    "# 調用sum函數\n",
    "total = sum( 10, 20 )"
   ]
  },
  {
   "cell_type": "markdown",
   "metadata": {
    "colab_type": "text",
    "id": "7amnPgOO9HdS"
   },
   "source": [
    "## 變量作用域"
   ]
  },
  {
   "cell_type": "markdown",
   "metadata": {
    "colab_type": "text",
    "id": "_m3QhC2m9K_B"
   },
   "source": [
    "變量的作用域決定了在哪一部分程序你可以訪問哪個特定的變量名稱。兩種最基本的變量作用域如下：\n",
    "* 全域變數\n",
    "* 區域變數"
   ]
  },
  {
   "cell_type": "markdown",
   "metadata": {
    "colab_type": "text",
    "id": "myHPsSMC9SPW"
   },
   "source": [
    "#### 全域變數和區域變數"
   ]
  },
  {
   "cell_type": "markdown",
   "metadata": {
    "colab_type": "text",
    "id": "NJvFy45bAHsf"
   },
   "source": [
    "* **定義在函數內部**的變量擁有一個區域作用域，**定義在函數外**的擁有全域作用域。\n",
    "\n",
    "* **區域變數**只能在其被聲明的函數內部訪問，而**全域變數**可以在整個程序範圍內訪問。調用函數時，所有在**函數內聲明的變量**名稱都將被加入到作用域中。如下實例："
   ]
  },
  {
   "cell_type": "code",
   "execution_count": 0,
   "metadata": {
    "colab": {
     "base_uri": "https://localhost:8080/",
     "height": 51
    },
    "colab_type": "code",
    "executionInfo": {
     "elapsed": 1012,
     "status": "ok",
     "timestamp": 1566874889304,
     "user": {
      "displayName": "電機工程系李佑謙",
      "photoUrl": "",
      "userId": "05735385076343474033"
     },
     "user_tz": -480
    },
    "id": "txSUtPvyBAjh",
    "outputId": "d36cf54f-04a9-42a2-9e0a-e623cc16e748"
   },
   "outputs": [
    {
     "name": "stdout",
     "output_type": "stream",
     "text": [
      "函數內是局部變量:  30\n",
      "函數外是全局變量 :  0\n"
     ]
    }
   ],
   "source": [
    "total = 0 # 這是一個全域變數\n",
    "# 可寫函數說明\n",
    "def sum( prm1, prm2 ):\n",
    "   #返回2個參數的和.\"\n",
    "   total = prm1 + prm2 # total在這裏是區域變數.\n",
    "   print(\"函數內是區域變數: \",total)\n",
    "   return total\n",
    " \n",
    "#調用sum函數\n",
    "sum(10,20);\n",
    "print(\"函數外是全域變數 : \",total)"
   ]
  },
  {
   "cell_type": "markdown",
   "metadata": {
    "colab_type": "text",
    "id": "KYovpVCvA6Kd"
   },
   "source": [
    "* 恭喜完成此章節"
   ]
  }
 ],
 "metadata": {
  "colab": {
   "collapsed_sections": [],
   "name": "course13:function.ipynb",
   "provenance": [],
   "version": "0.3.2"
  },
  "kernelspec": {
   "display_name": "Python 3",
   "language": "python",
   "name": "python3"
  },
  "language_info": {
   "codemirror_mode": {
    "name": "ipython",
    "version": 3
   },
   "file_extension": ".py",
   "mimetype": "text/x-python",
   "name": "python",
   "nbconvert_exporter": "python",
   "pygments_lexer": "ipython3",
   "version": "3.7.3"
  }
 },
 "nbformat": 4,
 "nbformat_minor": 1
}
