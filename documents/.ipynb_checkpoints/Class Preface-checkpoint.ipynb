{
 "cells": [
  {
   "cell_type": "markdown",
   "metadata": {
    "colab_type": "text",
    "id": "Rib_rBYNuDI3"
   },
   "source": [
    "![人工智慧 - 自由團隊](https://raw.githubusercontent.com/chenkenanalytic/img/master/af/aifreeteam.png)\n",
    "\n",
    "\n",
    "<center>Welcome to the first course of《Python: from business analytics to Artificial Intelligence》--【Python Basics】, by AI . FREE Team.</center>\n",
    "\n",
    "<br>\n",
    "\n",
    "<center>歡迎大家來到 AI . FREE Team 《Pyhon 從商業分析到人工智慧》的第一堂課，Python 基礎教學！ </center>\n",
    "\n",
    "<br>\n",
    "\n",
    "<center>(Author: Chen Ken, Lee Keras, 痘痘男；Date of published: 2019/9/5；AI . FREE Team Website: https://aifreeblog.herokuapp.com/)</center>\n",
    "\n",
    "\n",
    "\n",
    "\n",
    "\n"
   ]
  },
  {
   "cell_type": "markdown",
   "metadata": {
    "colab_type": "text",
    "id": "0LEJHkfYJTNU"
   },
   "source": [
    "# Preface 前言"
   ]
  },
  {
   "cell_type": "markdown",
   "metadata": {
    "colab_type": "text",
    "id": "lo-XP-5gAYLW"
   },
   "source": [
    "## 1. Why Python? 為何選擇 Python？"
   ]
  },
  {
   "cell_type": "markdown",
   "metadata": {
    "colab_type": "text",
    "id": "yf6Hp8n9GXAg"
   },
   "source": [
    "在眾多的程式語言當中，我們選擇 Python 做為初學者入門數據分析、人工智慧的語言，而不是 R, C, Matlab or Java 等其他語言，相對這些語言來說，Python 有以下優勢：\n",
    "\n",
    "\n",
    "1.   學習快速 (Python 屬於高階語言，較能使開發者快速讀懂程式碼)\n",
    "2.   資源豐富 (Python 的開源開發社群廣大，許多國際企業也都公開自家的開源套件；例如：Google, Facebook)\n",
    "3.   用途廣泛 (Python 不僅能作為商業分析、開發 AI 的工具、應用在科研領域，還能做為開發網頁的框架，如Django...)\n",
    "\n"
   ]
  },
  {
   "cell_type": "markdown",
   "metadata": {
    "colab_type": "text",
    "id": "D0XaUjY4JiZ9"
   },
   "source": [
    "## 2. Why Colab? 為何選擇 Colab 介面進行學習？"
   ]
  },
  {
   "cell_type": "markdown",
   "metadata": {
    "colab_type": "text",
    "id": "Bp2ZDcoyJtnu"
   },
   "source": [
    "Colab 為 Google 推出的免費雲端 Python 程式語言開發介面 (基於Jupyter notebook environment 開發)，優點如下：\n",
    "\n",
    "\n",
    "1.   不用花費大量時間設定「開發環境」\n",
    "2.   提供許多整合性服務 (與Google Drive連結、Github開發社群、相關 Python 開源套件導入...)\n",
    "3.   提供免費雲端運算資源 (GPU, TPU 能使開發 AI 運算速度更快)\n",
    "4.   高度便利性 (可隨時隨地學習 -- 在有網路 & 電腦的狀況下)\n",
    "\n",
    "提供給讀者們： Google 官方 Colab 介紹文件 (https://colab.research.google.com/notebooks/welcome.ipynb)"
   ]
  },
  {
   "cell_type": "markdown",
   "metadata": {
    "colab_type": "text",
    "id": "QA90qYogNbjg"
   },
   "source": [
    "# Python Basics 基礎教學"
   ]
  },
  {
   "cell_type": "markdown",
   "metadata": {
    "colab_type": "text",
    "id": "sZPa1lEfnDcw"
   },
   "source": [
    "## Print 使用"
   ]
  },
  {
   "cell_type": "markdown",
   "metadata": {
    "colab_type": "text",
    "id": "xl_obAOHOAQz"
   },
   "source": [
    "一如程式語言學習的傳統，我們先從 Print 開始；Print 就如字面上意思，將東西列印出來。 (請以 Ctrl + Enter 執行下方程式語言列)\n",
    "\n",
    "> Print(\"Hello World!\")\n",
    "\n",
    "\n"
   ]
  },
  {
   "cell_type": "code",
   "execution_count": 0,
   "metadata": {
    "colab": {},
    "colab_type": "code",
    "id": "jOBwRHanNk7Q"
   },
   "outputs": [],
   "source": [
    "print(\"Hello World!\")"
   ]
  },
  {
   "cell_type": "markdown",
   "metadata": {
    "colab_type": "text",
    "id": "XF4mEjBHOtQs"
   },
   "source": [
    "執行成功後，你將看到：\n",
    "\n",
    "```\n",
    "Hello World!\n",
    "```\n",
    " *   \"print()\" 的使用為程式語言開發的基礎工具，還有許多不同的使用方式，請多嘗試看看不同使用方法。\n",
    "\n",
    "\n"
   ]
  },
  {
   "cell_type": "markdown",
   "metadata": {
    "colab_type": "text",
    "id": "z8a-OLPrnKUQ"
   },
   "source": [
    "## Variables 變數認識"
   ]
  },
  {
   "cell_type": "markdown",
   "metadata": {
    "colab_type": "text",
    "id": "JN8bNrZYoBZU"
   },
   "source": [
    "變數是什麼呢？相信大家並不陌生，這邊舉 BMI 計算為例，讓大家初步認識變數在程式語言開發中的使用。"
   ]
  },
  {
   "cell_type": "markdown",
   "metadata": {
    "colab_type": "text",
    "id": "ERLX_MhjoMoj"
   },
   "source": [
    "\n",
    "\n",
    "*   **先訂定第一個變數 height(高度) 為 1.8 (m)**   (請按 Ctrl + enter 執行下列)\n",
    "\n"
   ]
  },
  {
   "cell_type": "code",
   "execution_count": 0,
   "metadata": {
    "colab": {},
    "colab_type": "code",
    "id": "zK8aYkk2Omty"
   },
   "outputs": [],
   "source": [
    "height = 1.8"
   ]
  },
  {
   "cell_type": "markdown",
   "metadata": {
    "colab_type": "text",
    "id": "UgH2R4qlpwyv"
   },
   "source": [
    "*   **訂定第二個變數 weight(體重) 為 80 (kg**) (請按 Ctrl + enter 執行下列)"
   ]
  },
  {
   "cell_type": "code",
   "execution_count": 0,
   "metadata": {
    "colab": {},
    "colab_type": "code",
    "id": "3tyHvKRYmZNV"
   },
   "outputs": [],
   "source": [
    "weight = 80"
   ]
  },
  {
   "cell_type": "markdown",
   "metadata": {
    "colab_type": "text",
    "id": "fnqaHdCTqasC"
   },
   "source": [
    "*   套入計算 BMI 的公式：  **體重(kg) / 身高的平方(m * m)** (請按 Ctrl + enter 執行下列)"
   ]
  },
  {
   "cell_type": "code",
   "execution_count": 0,
   "metadata": {
    "colab": {},
    "colab_type": "code",
    "id": "wsF0GziCqWhK"
   },
   "outputs": [],
   "source": [
    "BMI = weight / (height*height)"
   ]
  },
  {
   "cell_type": "markdown",
   "metadata": {
    "colab_type": "text",
    "id": "mb6QzyrMrEjj"
   },
   "source": [
    "*   查看計算結果 (以print來進行查看)"
   ]
  },
  {
   "cell_type": "code",
   "execution_count": 0,
   "metadata": {
    "colab": {},
    "colab_type": "code",
    "id": "m8u7au2PrDBM"
   },
   "outputs": [],
   "source": [
    "print(\"您的身高為： \" + str(height) + \"m (公尺)\")\n",
    "print(\"您的體重為： \" + str(weight) + \"kg (公斤)\")\n",
    "print(\"您的BMI為： \" + str(BMI))"
   ]
  },
  {
   "cell_type": "markdown",
   "metadata": {
    "colab_type": "text",
    "id": "LKacVqLosLLx"
   },
   "source": [
    "以上簡單製作出 BMI 的計算工具，請嘗試看看修改身高 or 體重，來體會如何使用變數！"
   ]
  },
  {
   "cell_type": "markdown",
   "metadata": {
    "colab_type": "text",
    "id": "8RXaB3VUsclH"
   },
   "source": [
    "## Numbers & Operators 數值與運算"
   ]
  },
  {
   "cell_type": "markdown",
   "metadata": {
    "colab_type": "text",
    "id": "mdyzAoqXvMje"
   },
   "source": [
    "### Calculations 算數符號基礎認識\n",
    "\n",
    "*   \"+\"→加、 \" - \"→減、 \"*\"→乘 、 \"/\"  → 除\n",
    "*   \"// \" ,  \"%\"    →  商數、餘數\n",
    "*   \"**\" → 指數\n",
    "\n",
    "讓我們來看範例實作："
   ]
  },
  {
   "cell_type": "code",
   "execution_count": 0,
   "metadata": {
    "colab": {},
    "colab_type": "code",
    "id": "_-9gL0MGsNRz"
   },
   "outputs": [],
   "source": [
    "a = 5\n",
    "b = 6\n",
    "c = 7\n",
    "\n",
    "# \" + \" → 加\n",
    "d = a + b\n",
    "print('d = a + b =', a , '+' , b , '=' , d )\n",
    "\n",
    "# \" - \" → 減\n",
    "e = b - a\n",
    "print('e = b - a =', b , '-' , a , '=' , e )\n",
    "\n",
    "# \" * \" → 乘\n",
    "f = b * c\n",
    "print('f = b * c =', b , '*' , c , '=' , f )\n",
    "\n",
    "# \" / \" → 除\n",
    "g = c / a\n",
    "print('g = c / a =', c , '/' , a , '=' , g )\n",
    "\n",
    "# \" // \" → 商數\n",
    "h = c // a\n",
    "print('h = c // a =', c , '//' , a , '=' , h )\n",
    "\n",
    "# \" % \" → 餘數\n",
    "i = c % a\n",
    "print('i = c % a =', c , '%' , a , '=' , i )\n",
    "\n",
    "# \" ** \" → 指數\n",
    "j = a ** 2\n",
    "print('a = a ** 2 =', a , '**', '2 =', j )"
   ]
  },
  {
   "cell_type": "markdown",
   "metadata": {
    "colab_type": "text",
    "id": "H2UY3Oou0-mM"
   },
   "source": [
    "### Comparison 比較/判別符號認識\n",
    "\n",
    "※ 判別符號出來的結果為 \"True\" or \"False\"。\n",
    "\n",
    "*   \"==\" → 等於、\">=\" → 大於等於、\"<=\" → 小於等於\n",
    "*   \"!=\" → 不等於、\">\" → 大於、\"<\" → 小於\n",
    "\n",
    "(p.s. \"=\" 在 python 中並非「等於」，而是「指定變數數值」，例： k = 1 → 指定變數 k 的數值為 1)\n",
    "\n",
    "讓我們來看範例實作："
   ]
  },
  {
   "cell_type": "code",
   "execution_count": 0,
   "metadata": {
    "colab": {},
    "colab_type": "code",
    "id": "9-hx-mXXzH6O"
   },
   "outputs": [],
   "source": [
    "k = 1\n",
    "l = 1\n",
    "m = 2\n",
    "\n",
    "# \"==\" → 等於\n",
    "print(\" k 等於 l：\", k == l)\n",
    "\n",
    "# \">=\" → 大於等於\n",
    "print(\" k 大於等於 l：\", k >= l)\n",
    "\n",
    "# \"<=\" → 小於等於\n",
    "print(\" m 小於等於 k：\", m <= k)\n",
    "\n",
    "# \"!=\" → 不等於\n",
    "print(\" k 不等於 l：\", k != l)\n",
    "\n",
    "# \">\" → 大於\n",
    "print(\" m 大於 l\", m > l)\n",
    "\n",
    "# \"<\" → 小於\n",
    "print(\" m 小於 k\", m < k)"
   ]
  },
  {
   "cell_type": "markdown",
   "metadata": {
    "colab_type": "text",
    "id": "YeKvwPzk5bMz"
   },
   "source": [
    "以上簡單針對常見的數值運算作簡介，若有興趣進一步更深一層的認識，數值運算的細節內容，歡迎參考下列網站！\n",
    "\n",
    "**Reference 其他參考資料：**http://www.runoob.com/python/python-operators.html"
   ]
  },
  {
   "cell_type": "markdown",
   "metadata": {
    "colab_type": "text",
    "id": "5ix_JEOk6MBu"
   },
   "source": [
    "## Python Data Structure 資料結構\n",
    "\n",
    "基本 Pyhton 共有四種資料結構，分別為：\n",
    "\n",
    "\n",
    "\n",
    "*   List\n",
    "*   Tuple\n",
    "*   Set\n",
    "*   Dictionary\n",
    "\n",
    "( 官方參考文件：https://docs.python.org/3/tutorial/datastructures.html )\n"
   ]
  },
  {
   "cell_type": "markdown",
   "metadata": {
    "colab_type": "text",
    "id": "TRBtegbNpxrl"
   },
   "source": [
    "### List 列表\n",
    "\n",
    "- 在定義列表時，以中括號進行表示 (\" [ ] \")\n",
    "- 在列表中可以放入多種不同的「變數類型」與「資料結構」\n",
    "- 在列表中，元素的索引值起始值為 0 (索引值： index)\n",
    "- 在列表中，元素的\"負數\"索引值代表倒數的元件 (例： -1 → 倒數第一個)\n",
    "- 在列表中，各個元素間的呈現，以逗點作為分隔\n",
    "\n",
    "以下就讓我們簡單地來看一下列表的使用吧！"
   ]
  },
  {
   "cell_type": "code",
   "execution_count": 0,
   "metadata": {
    "colab": {},
    "colab_type": "code",
    "id": "Tqdv71om3xoN"
   },
   "outputs": [],
   "source": [
    "# 創建一個人名清單\n",
    "name_list = ['Jack', 'Ken', 'Ryan', 'Tom', 'Wayne']\n",
    "\n",
    "# 找出名單第一個人名\n",
    "print('第一個人名：', name_list[0])\n",
    "\n",
    "# 找出名單最後一個人名\n",
    "print('最後一個人名：', name_list[-1])\n",
    "\n",
    "# 找出全部的人名\n",
    "print('全部名單：', name_list)\n",
    "\n",
    "# 找出前三個人名 (index 為 0, 1, 2)\n",
    "print('前三個人名：', name_list[0:3])\n",
    "\n",
    "# 找出倒數三人的人名 (index 為 -1, -2, -3 or 2, 3, 4)\n",
    "print('倒數三人的人名：', name_list[-3:])\n",
    "print('倒數三人的人名：', name_list[2:5])"
   ]
  },
  {
   "cell_type": "markdown",
   "metadata": {
    "colab_type": "text",
    "id": "mKbcAeB2ec0a"
   },
   "source": [
    "List 的引數有許多表達方式，內容的元素也可以放入各式不同屬性的資料種類，以上做簡單的範例，有興趣深入瞭解的讀者，歡迎參考：http://www.runoob.com/python/python-lists.html。 (網址中有更詳盡的各式用法)"
   ]
  },
  {
   "cell_type": "code",
   "execution_count": 0,
   "metadata": {
    "colab": {},
    "colab_type": "code",
    "id": "t-YBlBRTuXUK"
   },
   "outputs": [],
   "source": []
  }
 ],
 "metadata": {
  "accelerator": "GPU",
  "colab": {
   "collapsed_sections": [
    "lo-XP-5gAYLW",
    "D0XaUjY4JiZ9",
    "sZPa1lEfnDcw",
    "z8a-OLPrnKUQ"
   ],
   "name": "AI . FREE Team - Python 從商業分析到人工智慧_第一堂課.ipynb",
   "provenance": [],
   "toc_visible": true,
   "version": "0.3.2"
  },
  "kernelspec": {
   "display_name": "Python 3",
   "language": "python",
   "name": "python3"
  },
  "language_info": {
   "codemirror_mode": {
    "name": "ipython",
    "version": 3
   },
   "file_extension": ".py",
   "mimetype": "text/x-python",
   "name": "python",
   "nbconvert_exporter": "python",
   "pygments_lexer": "ipython3",
   "version": "3.7.3"
  }
 },
 "nbformat": 4,
 "nbformat_minor": 1
}
