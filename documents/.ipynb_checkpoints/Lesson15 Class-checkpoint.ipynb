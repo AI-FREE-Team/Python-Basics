{
 "cells": [
  {
   "cell_type": "markdown",
   "metadata": {
    "colab_type": "text",
    "id": "vAHJ2WG5QN1I"
   },
   "source": [
    "![人工智慧 - 自由團隊](https://raw.githubusercontent.com/chenkenanalytic/img/master/af/aifreeteam.png)\n",
    "\n",
    "\n",
    "<center>Welcome to the course《Python: from business analytics to Artificial Intelligence》by AI . FREE Team.</center>\n",
    "<br>\n",
    "<center>歡迎大家來到 AI . FREE Team 《Python 從商業分析到人工智慧》的 Python 基礎教學 - Lesson 15 類別 (1-15)。 </center>\n",
    "<br>\n",
    "\n",
    "<center>(Author: Chen Ken, Lee Ovien, Chuang Shawn；Date of published: 2019/9/5；AI . FREE Team Website: https://aifreeblog.herokuapp.com/)</center>"
   ]
  },
  {
   "cell_type": "markdown",
   "metadata": {
    "colab_type": "text",
    "id": "4VkEHs-aRGbW"
   },
   "source": [
    "# Class(類別)"
   ]
  },
  {
   "cell_type": "markdown",
   "metadata": {
    "colab_type": "text",
    "id": "Csvd5juOEG91"
   },
   "source": [
    "Python 是物件導向的程式語言 ( Object-oriented programming )，在python中幾乎所有東西都是物件，具有其屬性跟方法。\n",
    "\n",
    "而類別就像是建構函數，由開發者去創造一個物件的\"藍圖\"。"
   ]
  },
  {
   "cell_type": "markdown",
   "metadata": {
    "colab_type": "text",
    "id": "mrJqg1-mV2WM"
   },
   "source": [
    "## 建立基本屬性"
   ]
  },
  {
   "cell_type": "code",
   "execution_count": 0,
   "metadata": {
    "colab": {
     "base_uri": "https://localhost:8080/",
     "height": 34
    },
    "colab_type": "code",
    "executionInfo": {
     "elapsed": 758,
     "status": "ok",
     "timestamp": 1567135560014,
     "user": {
      "displayName": "電機工程系莊翔宇",
      "photoUrl": "",
      "userId": "06232090834761520364"
     },
     "user_tz": -480
    },
    "id": "t4uVmD67W--c",
    "outputId": "b31a34e4-9191-4519-9e9a-274328c5d712"
   },
   "outputs": [
    {
     "name": "stdout",
     "output_type": "stream",
     "text": [
      "apple\n"
     ]
    }
   ],
   "source": [
    "class fruit():\n",
    "  def __init__(self, kind):\n",
    "    self.kind = kind\n",
    "  \n",
    "a = fruit(\"apple\")  #建立一個名叫dog的Animal實體(物件)\n",
    "print(a.kind)"
   ]
  },
  {
   "cell_type": "markdown",
   "metadata": {
    "colab_type": "text",
    "id": "QU3rdrMLWH4-"
   },
   "source": [
    "建構一個類別 fruit\n",
    "\n",
    "代表之後的大家都可以取用這個class的屬性\n",
    "\n",
    "\n",
    "\n",
    "`def __init__(self):`\n",
    "\n",
    "* 這邊代表宣告時會自動執行的函式\n",
    "\n",
    "**也就是宣告類別的 \"起手式 \"**\n",
    "\n",
    "所以一般會拿來放基礎的屬性設定\n",
    "\n",
    "如上面範例，添加了一個 kind 屬性"
   ]
  },
  {
   "cell_type": "code",
   "execution_count": 0,
   "metadata": {
    "colab": {
     "base_uri": "https://localhost:8080/",
     "height": 68
    },
    "colab_type": "code",
    "executionInfo": {
     "elapsed": 746,
     "status": "ok",
     "timestamp": 1567135560015,
     "user": {
      "displayName": "電機工程系莊翔宇",
      "photoUrl": "",
      "userId": "06232090834761520364"
     },
     "user_tz": -480
    },
    "id": "PSLTbrNeYHAT",
    "outputId": "6728b541-b80c-472a-9355-73e2dd1a0441"
   },
   "outputs": [
    {
     "name": "stdout",
     "output_type": "stream",
     "text": [
      "Amy\n",
      "17\n",
      "18\n"
     ]
    }
   ],
   "source": [
    "# 建構一個 family 類別\n",
    "class family():\n",
    "  # 函式 __init__ 會自動執行\n",
    "  def __init__(self,name,age):\n",
    "    # self是class本身,所以第一個不用更動,而這邊新增兩個屬性,一個是名字,另一個是年齡\n",
    "    self.name = name\n",
    "    self.age = age\n",
    "    \n",
    "Amy = family('Amy',17)\n",
    "print(Amy.name)\n",
    "print(Amy.age)\n",
    "\n",
    "# 可以透過這樣修改實體的屬性\n",
    "Amy.age = 18\n",
    "print(Amy.age)"
   ]
  },
  {
   "cell_type": "markdown",
   "metadata": {
    "colab_type": "text",
    "id": "FgIBoDl3Y_KK"
   },
   "source": [
    "## 取用自己的方法\n"
   ]
  },
  {
   "cell_type": "code",
   "execution_count": 0,
   "metadata": {
    "colab": {
     "base_uri": "https://localhost:8080/",
     "height": 34
    },
    "colab_type": "code",
    "executionInfo": {
     "elapsed": 729,
     "status": "ok",
     "timestamp": 1567135560016,
     "user": {
      "displayName": "電機工程系莊翔宇",
      "photoUrl": "",
      "userId": "06232090834761520364"
     },
     "user_tz": -480
    },
    "id": "W_lidOmsNm9D",
    "outputId": "6f307f24-ab1c-4b70-c386-c7d40324e6ec"
   },
   "outputs": [
    {
     "data": {
      "text/plain": [
       "'ken'"
      ]
     },
     "execution_count": 3,
     "metadata": {
      "tags": []
     },
     "output_type": "execute_result"
    }
   ],
   "source": [
    "class family():\n",
    "  def __init__(self,name,age):\n",
    "    self.name = name\n",
    "    self.age = age\n",
    "  def Name(self):\n",
    "    return self.name\n",
    "   \n",
    "Ken = family('ken',22)\n",
    "Ken.Name()"
   ]
  },
  {
   "cell_type": "code",
   "execution_count": 0,
   "metadata": {
    "colab": {
     "base_uri": "https://localhost:8080/",
     "height": 68
    },
    "colab_type": "code",
    "executionInfo": {
     "elapsed": 717,
     "status": "ok",
     "timestamp": 1567135560017,
     "user": {
      "displayName": "電機工程系莊翔宇",
      "photoUrl": "",
      "userId": "06232090834761520364"
     },
     "user_tz": -480
    },
    "id": "RXP7gGoOTclx",
    "outputId": "4bc19ede-056e-47d8-98cb-7cfbacce3bf8"
   },
   "outputs": [
    {
     "name": "stdout",
     "output_type": "stream",
     "text": [
      "0\n",
      "0\n",
      "24.691358024691358\n"
     ]
    }
   ],
   "source": [
    "class Human:\n",
    "    def __init__(self,h=0,w=0):\n",
    "      # 可在參數後面帶值\n",
    "        self.height=h\n",
    "        self.weight=w\n",
    "    def BMI(self):\n",
    "        return self.weight / ((self.height/100)**2)\n",
    "\n",
    "\n",
    "steve = Human() \n",
    "# 這樣即使在宣告的時候沒有帶參數也可以建立一個實體\n",
    "print(steve.height)\n",
    "print(steve.height)\n",
    "      \n",
    "luffy = Human(180,80)\n",
    "print(luffy.BMI())"
   ]
  },
  {
   "cell_type": "markdown",
   "metadata": {
    "colab_type": "text",
    "id": "Fumeo85ra7xe"
   },
   "source": [
    "## 繼承\n",
    "在創造類別的時候可以\" 繼承 \" 父類別，用法是在建構類別的時候透過 super().__ init__() 帶入父類別。\n",
    "\n",
    "```\n",
    "class Woman(Human):\n",
    "  def __init__(self,h,w,bust=0,waist=0,hip=0):\n",
    "    super().__init__(h,w)\n",
    "```\n",
    "\n",
    "\n",
    "這種關係就像是父與子，\" Human \"有的屬性及方法會被\" Woman \"繼承。"
   ]
  },
  {
   "cell_type": "code",
   "execution_count": 0,
   "metadata": {
    "colab": {
     "base_uri": "https://localhost:8080/",
     "height": 51
    },
    "colab_type": "code",
    "executionInfo": {
     "elapsed": 704,
     "status": "ok",
     "timestamp": 1567135560019,
     "user": {
      "displayName": "電機工程系莊翔宇",
      "photoUrl": "",
      "userId": "06232090834761520364"
     },
     "user_tz": -480
    },
    "id": "ISFnk5xvUtdx",
    "outputId": "b8a8752c-5aa0-42c3-cead-5ff4e6a3419f"
   },
   "outputs": [
    {
     "name": "stdout",
     "output_type": "stream",
     "text": [
      "19.834710743801654\n",
      "bust= 83,waist= 64,hip= 84\n"
     ]
    }
   ],
   "source": [
    "class Woman(Human):\n",
    "    def __init__(self,h,w,bust=0,waist=0,hip=0):\n",
    "        super().__init__(h,w)\n",
    "        self.bust=bust\n",
    "        self.waist=waist\n",
    "        self.hip=hip\n",
    "    def printBWH(self):\n",
    "        print(\"bust= {},waist= {},hip= {}\".format(self.bust,self.waist,self.hip))\n",
    "        \n",
    "nana = Woman(165,54,83,64,84)\n",
    "# 父類別 的方法 BMI()\n",
    "print(nana.BMI())\n",
    "# 子類別 的方法 printBWH()\n",
    "nana.printBWH()"
   ]
  },
  {
   "cell_type": "markdown",
   "metadata": {
    "cellView": "both",
    "colab": {},
    "colab_type": "code",
    "id": "KIEJD5CgWMH_"
   },
   "source": [
    "## 課程文件\n",
    "\n",
    "#### Python Basics 課程清單\n",
    "- <a href=\"https://colab.research.google.com/github/AI-FREE-Team/Python-Basics/blob/master/documents/Lesson00%20Preface.ipynb\">Lesson00 Preface 課程前言</a> \n",
    "\n",
    "- <a href=\"https://colab.research.google.com/github/AI-FREE-Team/Python-Basics/blob/master/documents/Lesson01%20Variable.ipynb\">Lesson01 Variable 變數</a> \n",
    "\n",
    "- <a href=\"https://colab.research.google.com/github/AI-FREE-Team/Python-Basics/blob/master/documents/Lesson02%20Operator.ipynb\">Lesson02 Operator 運算子</a>\n",
    "\n",
    "- <a href=\"https://colab.research.google.com/github/AI-FREE-Team/Python-Basics/blob/master/documents/Lesson03%20Data%20Structure.ipynb\">Lesson03 Data Structure 資料結構</a> \n",
    "\n",
    "- <a href=\"https://colab.research.google.com/github/AI-FREE-Team/Python-Basics/blob/master/documents/Lesson04%20String.ipynb\">Lesson04 String 字串</a>\n",
    "\n",
    "- <a href=\"https://colab.research.google.com/github/AI-FREE-Team/Python-Basics/blob/master/documents/Lesson05%20List.ipynb\">Lesson05 List 列表</a> \n",
    "\n",
    "- <a href=\"https://colab.research.google.com/github/AI-FREE-Team/Python-Basics/blob/master/documents/Lesson06%20Tuple.ipynb\">Lesson06 Tuple 元組</a> (Last Chapter! --上一堂課程--)\n",
    "\n",
    "- <a href=\"https://colab.research.google.com/github/AI-FREE-Team/Python-Basics/blob/master/documents/Lesson07%20Range.ipynb\">Lesson07 Range 範圍</a> (We are here now! --本篇課程--)\n",
    "\n",
    "- <a href=\"https://colab.research.google.com/github/AI-FREE-Team/Python-Basics/blob/master/documents/Lesson08%20Set.ipynb\">Lesson08 Set 集合</a> (Next Chapter! --下一堂課程--)\n",
    "\n",
    "- <a href=\"https://colab.research.google.com/github/AI-FREE-Team/Python-Basics/blob/master/documents/Lesson09%20Dictionary.ipynb\">Lesson09 Dictionary 字典</a>\n",
    "\n",
    "- <a href=\"https://colab.research.google.com/github/AI-FREE-Team/Python-Basics/blob/master/documents/Lesson10%20If-else.ipynb\">Lesson10 If-else 條件語法</a>\n",
    "\n",
    "- <a href=\"https://colab.research.google.com/github/AI-FREE-Team/Python-Basics/blob/master/documents/Lesson11%20While-loop.ipynb\">Lesson11 While 迴圈</a>\n",
    "\n",
    "- <a href=\"https://colab.research.google.com/github/AI-FREE-Team/Python-Basics/blob/master/documents/Lesson12%20For-loop.ipynb\">Lesson12 For 迴圈</a>\n",
    "\n",
    "- <a href=\"https://colab.research.google.com/github/AI-FREE-Team/Python-Basics/blob/master/documents/Lesson13%20Function.ipynb\">Lesson13 Function 函式</a>\n",
    "\n",
    "- <a href=\"https://colab.research.google.com/github/AI-FREE-Team/Python-Basics/blob/master/documents/Lesson14%20Input-output.ipynb\">Lesson14 Input/Output 輸入/輸出</a>\n",
    "\n",
    "- <a href=\"https://colab.research.google.com/github/AI-FREE-Team/Python-Basics/blob/master/documents/Lesson15%20Class.ipynb\">Lesson15 Class 類別</a>"
   ]
  }
 ],
 "metadata": {
  "colab": {
   "collapsed_sections": [],
   "name": "course15:Class.ipynb",
   "provenance": [],
   "version": "0.3.2"
  },
  "kernelspec": {
   "display_name": "Python 3",
   "language": "python",
   "name": "python3"
  },
  "language_info": {
   "codemirror_mode": {
    "name": "ipython",
    "version": 3
   },
   "file_extension": ".py",
   "mimetype": "text/x-python",
   "name": "python",
   "nbconvert_exporter": "python",
   "pygments_lexer": "ipython3",
   "version": "3.7.3"
  }
 },
 "nbformat": 4,
 "nbformat_minor": 1
}
