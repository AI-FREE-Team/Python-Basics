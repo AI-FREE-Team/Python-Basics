{
 "cells": [
  {
   "cell_type": "markdown",
   "metadata": {
    "colab_type": "text",
    "id": "Rib_rBYNuDI3"
   },
   "source": [
    "![人工智慧 - 自由團隊](https://raw.githubusercontent.com/chenkenanalytic/img/master/af/aifreeteam.png)\n",
    "\n",
    "\n",
    "<center>Welcome to the course《Python: from business analytics to Artificial Intelligence》by AI . FREE Team.</center>\n",
    "<br>\n",
    "<center>歡迎大家來到 AI . FREE Team 《Python 從商業分析到人工智慧》的 Python 基礎教學 - Lesson 01 變數 (1-01)。 </center>\n",
    "<br>\n",
    "\n",
    "<center>(Author: Chen Ken, Lee Ovien, Chuang Shawn；Date of published: 2019/9/5；AI . FREE Team Website: https://aifreeblog.herokuapp.com/)</center>\n",
    "\n",
    "\n",
    "\n",
    "\n",
    "\n"
   ]
  },
  {
   "cell_type": "markdown",
   "metadata": {
    "colab_type": "text",
    "id": "z8a-OLPrnKUQ"
   },
   "source": [
    "## Variables 變數認識"
   ]
  },
  {
   "cell_type": "markdown",
   "metadata": {
    "colab_type": "text",
    "id": "JN8bNrZYoBZU"
   },
   "source": [
    "變數是什麼呢？相信大家並不陌生，這邊舉 BMI 計算為例，讓大家初步認識變數在程式語言開發中的使用。"
   ]
  },
  {
   "cell_type": "markdown",
   "metadata": {
    "colab_type": "text",
    "id": "ERLX_MhjoMoj"
   },
   "source": [
    "\n",
    "\n",
    "*   **先訂定第一個變數 height(高度) 為 1.8 (m)**   (請按 Ctrl + enter 執行下列)\n",
    "\n"
   ]
  },
  {
   "cell_type": "code",
   "execution_count": 0,
   "metadata": {
    "colab": {},
    "colab_type": "code",
    "id": "zK8aYkk2Omty"
   },
   "outputs": [],
   "source": [
    "height = 1.8"
   ]
  },
  {
   "cell_type": "markdown",
   "metadata": {
    "colab_type": "text",
    "id": "UgH2R4qlpwyv"
   },
   "source": [
    "*   **訂定第二個變數 weight(體重) 為 80 (kg**) (請按 Ctrl + enter 執行下列)"
   ]
  },
  {
   "cell_type": "code",
   "execution_count": 0,
   "metadata": {
    "colab": {},
    "colab_type": "code",
    "id": "3tyHvKRYmZNV"
   },
   "outputs": [],
   "source": [
    "weight = 80"
   ]
  },
  {
   "cell_type": "markdown",
   "metadata": {
    "colab_type": "text",
    "id": "fnqaHdCTqasC"
   },
   "source": [
    "*   套入計算 BMI 的公式：  **體重(kg) / 身高的平方(m * m)** (請按 Ctrl + enter 執行下列)"
   ]
  },
  {
   "cell_type": "code",
   "execution_count": 0,
   "metadata": {
    "colab": {},
    "colab_type": "code",
    "id": "wsF0GziCqWhK"
   },
   "outputs": [],
   "source": [
    "BMI = weight / (height*height)"
   ]
  },
  {
   "cell_type": "markdown",
   "metadata": {
    "colab_type": "text",
    "id": "mb6QzyrMrEjj"
   },
   "source": [
    "*   查看計算結果 (以print來進行查看)"
   ]
  },
  {
   "cell_type": "code",
   "execution_count": 0,
   "metadata": {
    "colab": {
     "base_uri": "https://localhost:8080/",
     "height": 68
    },
    "colab_type": "code",
    "executionInfo": {
     "elapsed": 1258,
     "status": "ok",
     "timestamp": 1565280877753,
     "user": {
      "displayName": "電機工程系莊翔宇",
      "photoUrl": "",
      "userId": "06232090834761520364"
     },
     "user_tz": -480
    },
    "id": "m8u7au2PrDBM",
    "outputId": "93360dbe-8475-4ea0-ad92-bf3d6de448a6"
   },
   "outputs": [
    {
     "name": "stdout",
     "output_type": "stream",
     "text": [
      "您的身高為： 1.8m (公尺)\n",
      "您的體重為： 80kg (公斤)\n",
      "您的BMI為： 24.691358024691358\n"
     ]
    }
   ],
   "source": [
    "print(\"您的身高為： \" + str(height) + \"m (公尺)\")\n",
    "print(\"您的體重為： \" + str(weight) + \"kg (公斤)\")\n",
    "print(\"您的BMI為： \" + str(BMI))"
   ]
  },
  {
   "cell_type": "markdown",
   "metadata": {
    "colab_type": "text",
    "id": "LKacVqLosLLx"
   },
   "source": [
    "* 以上簡單製作出 BMI 的計算工具，請嘗試看看修改身高 or 體重，來體會如何使用變數！"
   ]
  },
  {
   "cell_type": "markdown",
   "metadata": {
    "colab_type": "text",
    "id": "1_praOaBX-i7"
   },
   "source": [
    "* 變數可以是任何型態，且大小寫有區分。"
   ]
  },
  {
   "cell_type": "code",
   "execution_count": 0,
   "metadata": {
    "colab": {
     "base_uri": "https://localhost:8080/",
     "height": 51
    },
    "colab_type": "code",
    "executionInfo": {
     "elapsed": 1151,
     "status": "ok",
     "timestamp": 1565280883892,
     "user": {
      "displayName": "電機工程系莊翔宇",
      "photoUrl": "",
      "userId": "06232090834761520364"
     },
     "user_tz": -480
    },
    "id": "rF-pX6KbIMRL",
    "outputId": "3c196431-51d0-474a-8f79-7bca1c3c52ce"
   },
   "outputs": [
    {
     "name": "stdout",
     "output_type": "stream",
     "text": [
      "Hello Word\n",
      "a A\n"
     ]
    }
   ],
   "source": [
    "str1='Hello'\n",
    "str2='Word'\n",
    "i=100\n",
    "a='a'\n",
    "A='A'\n",
    "print(str1+' '+str2)\n",
    "print(a,A)"
   ]
  },
  {
   "cell_type": "markdown",
   "metadata": {
    "colab_type": "text",
    "id": "ybAqJR3JKXQR"
   },
   "source": [
    "* 變數開頭不能為數字，不能使用保留字，ex：if、for、True、in、return..。"
   ]
  },
  {
   "cell_type": "code",
   "execution_count": 0,
   "metadata": {
    "colab": {
     "base_uri": "https://localhost:8080/",
     "height": 131
    },
    "colab_type": "code",
    "executionInfo": {
     "elapsed": 1209,
     "status": "error",
     "timestamp": 1565280887074,
     "user": {
      "displayName": "電機工程系莊翔宇",
      "photoUrl": "",
      "userId": "06232090834761520364"
     },
     "user_tz": -480
    },
    "id": "tuAC8WFtKkth",
    "outputId": "1cc9b45a-5388-4bb9-b55f-8e53748c41a3"
   },
   "outputs": [
    {
     "ename": "SyntaxError",
     "evalue": "ignored",
     "output_type": "error",
     "traceback": [
      "\u001b[0;36m  File \u001b[0;32m\"<ipython-input-6-3e99c3c52a87>\"\u001b[0;36m, line \u001b[0;32m2\u001b[0m\n\u001b[0;31m    if=2\u001b[0m\n\u001b[0m      ^\u001b[0m\n\u001b[0;31mSyntaxError\u001b[0m\u001b[0;31m:\u001b[0m invalid syntax\n"
     ]
    }
   ],
   "source": [
    "5=5\n",
    "if=2\n",
    "for=3"
   ]
  },
  {
   "cell_type": "markdown",
   "metadata": {
    "colab_type": "text",
    "id": "TtEknGI82pkG"
   },
   "source": [
    "* 以上這些為python內建的變數，所以當你是用這些當做變數時，將不會具有變數的屬性(賦值、運算等等的...)"
   ]
  },
  {
   "cell_type": "markdown",
   "metadata": {
    "colab_type": "text",
    "id": "4n-jQS9-3MDx"
   },
   "source": [
    "* 而這些內建的變數，將在後面的章節逐一介紹"
   ]
  }
 ],
 "metadata": {
  "accelerator": "GPU",
  "colab": {
   "collapsed_sections": [],
   "name": "course1:Variables.ipynb",
   "provenance": [],
   "toc_visible": true,
   "version": "0.3.2"
  },
  "kernelspec": {
   "display_name": "Python 3",
   "language": "python",
   "name": "python3"
  },
  "language_info": {
   "codemirror_mode": {
    "name": "ipython",
    "version": 3
   },
   "file_extension": ".py",
   "mimetype": "text/x-python",
   "name": "python",
   "nbconvert_exporter": "python",
   "pygments_lexer": "ipython3",
   "version": "3.7.3"
  }
 },
 "nbformat": 4,
 "nbformat_minor": 1
}
