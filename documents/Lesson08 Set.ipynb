{
 "cells": [
  {
   "cell_type": "markdown",
   "metadata": {
    "colab_type": "text",
    "id": "eIYX18qMb_Ug"
   },
   "source": [
    "![人工智慧 - 自由團隊](https://raw.githubusercontent.com/chenkenanalytic/img/master/af/aifreeteam.png)\n",
    "\n",
    "\n",
    "<center>Welcome to the first course of《Python: from business analytics to Artificial Intelligence》--【Python Basics】, by AI . FREE Team.</center>\n",
    "\n",
    "<br>\n",
    "\n",
    "<center>歡迎大家來到 AI . FREE Team 《Pyhon 從商業分析到人工智慧》的第一堂課，Python 基礎教學！ </center>\n",
    "\n",
    "<br>\n",
    "\n",
    "<center>(Author: Chen Ken, Lee Ovien, Chuang Shawn；Date of published: 2019/9/5；AI . FREE Team Website: https://aifreeblog.herokuapp.com/)</center>\n"
   ]
  },
  {
   "cell_type": "markdown",
   "metadata": {
    "colab_type": "text",
    "id": "g_qwNxi1cBz6"
   },
   "source": [
    "# Set ( 元組 )"
   ]
  },
  {
   "cell_type": "markdown",
   "metadata": {
    "colab_type": "text",
    "id": "zh8NQDatdJ9t"
   },
   "source": [
    "* set() 函數創建一個無序不重複元素集，可進行關係測試，刪除重複數據，還可以計算交集、差集、並集等。"
   ]
  },
  {
   "cell_type": "code",
   "execution_count": 0,
   "metadata": {
    "colab": {},
    "colab_type": "code",
    "id": "4pNYZD3jbj8p"
   },
   "outputs": [],
   "source": [
    "# class set([iterable])\n",
    "# iterable -- 可迭代對象對象；"
   ]
  },
  {
   "cell_type": "markdown",
   "metadata": {
    "colab_type": "text",
    "id": "cPj-rQaVg23D"
   },
   "source": [
    "## 實例"
   ]
  },
  {
   "cell_type": "markdown",
   "metadata": {
    "colab_type": "text",
    "id": "unbQorm4eufQ"
   },
   "source": [
    "* 以下實例展示了 set 的使用方法："
   ]
  },
  {
   "cell_type": "code",
   "execution_count": 0,
   "metadata": {
    "colab": {
     "base_uri": "https://localhost:8080/",
     "height": 102
    },
    "colab_type": "code",
    "executionInfo": {
     "elapsed": 649,
     "status": "ok",
     "timestamp": 1566145137680,
     "user": {
      "displayName": "電機工程系李佑謙",
      "photoUrl": "",
      "userId": "05735385076343474033"
     },
     "user_tz": -480
    },
    "id": "wtt9P1TehM6_",
    "outputId": "afd4b6e9-d0fe-46f0-d6b4-a68b5b84f91c"
   },
   "outputs": [
    {
     "name": "stdout",
     "output_type": "stream",
     "text": [
      "{'b', 'o', 'u', 'n', 'r'} {'e', 'l', 'g', 'o'}\n",
      "{'b', 'o', 'u', 'n', 'r'} {'e', 'l', 'g', 'o'}\n",
      "{'b', 'o', 'u', 'n', 'r'} {'e', 'l', 'g', 'o'}\n",
      "{'b', 'o', 'u', 'n', 'r'} {'e', 'l', 'g', 'o'}\n",
      "{'b', 'o', 'u', 'n', 'r'} {'e', 'l', 'g', 'o'}\n"
     ]
    }
   ],
   "source": [
    "x = set('runoob')\n",
    "y = set('google')\n",
    "print(x,y)\n",
    "\n",
    "x, y\n",
    "(set(['b','r','u','o','n']), set(['e','o','g','l'])) # 重複的被刪除\n",
    "print(x,y)\n",
    "\n",
    "x & y  # 交集\n",
    "set(['o'])\n",
    "print(x,y)\n",
    "\n",
    "x | y  # 並集\n",
    "set(['b', 'e', 'g', 'l', 'o', 'n', 'r', 'u'])\n",
    "print(x,y)\n",
    "\n",
    "x - y  # 差集\n",
    "set(['r','b','u','n'])\n",
    "print(x,y)"
   ]
  },
  {
   "cell_type": "markdown",
   "metadata": {
    "colab_type": "text",
    "id": "glPs_dsjhLtx"
   },
   "source": [
    "* 恭喜!完成本章節"
   ]
  },
  {
   "cell_type": "code",
   "execution_count": 0,
   "metadata": {
    "colab": {},
    "colab_type": "code",
    "id": "WWuRos0rhvod"
   },
   "outputs": [],
   "source": []
  }
 ],
 "metadata": {
  "colab": {
   "collapsed_sections": [],
   "name": "course8:set.ipynb",
   "provenance": [],
   "version": "0.3.2"
  },
  "kernelspec": {
   "display_name": "Python 3",
   "language": "python",
   "name": "python3"
  },
  "language_info": {
   "codemirror_mode": {
    "name": "ipython",
    "version": 3
   },
   "file_extension": ".py",
   "mimetype": "text/x-python",
   "name": "python",
   "nbconvert_exporter": "python",
   "pygments_lexer": "ipython3",
   "version": "3.7.3"
  }
 },
 "nbformat": 4,
 "nbformat_minor": 1
}
