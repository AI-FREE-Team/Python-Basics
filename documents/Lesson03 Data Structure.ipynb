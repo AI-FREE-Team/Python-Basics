{
 "cells": [
  {
   "cell_type": "markdown",
   "metadata": {
    "colab_type": "text",
    "id": "RWTQ7_7Gdw15"
   },
   "source": [
    "![人工智慧 - 自由團隊](https://raw.githubusercontent.com/chenkenanalytic/img/master/af/aifreeteam.png)\n",
    "\n",
    "\n",
    "<center>Welcome to the course《Python: from business analytics to Artificial Intelligence》by AI . FREE Team.</center>\n",
    "<br>\n",
    "<center>歡迎大家來到 AI . FREE Team 《Python 從商業分析到人工智慧》的 Python 基礎教學 - Lesson 03 資料結構 (1-03)。 </center>\n",
    "<br>\n",
    "\n",
    "<center>(Author: Chen Ken, Lee Ovien, Chuang Shawn；Date of published: 2019/9/5；AI . FREE Team Website: https://aifreeblog.herokuapp.com/)</center>\n"
   ]
  },
  {
   "cell_type": "markdown",
   "metadata": {
    "colab_type": "text",
    "id": "d93VGy45dhXV"
   },
   "source": [
    "# 可變與不可變物件"
   ]
  },
  {
   "cell_type": "markdown",
   "metadata": {
    "colab_type": "text",
    "id": "uP4lqkQwsDbU"
   },
   "source": [
    "#### 諸如（int，float，bool，str，tuple，unicode）等內建型別的物件是不可變的。像（list，set，dict）這樣的內建型別的物件是可變的"
   ]
  },
  {
   "cell_type": "markdown",
   "metadata": {
    "colab_type": "text",
    "id": "-_n68K1usVIH"
   },
   "source": [
    "* 我們如何確定我們的變數是一個可變物件還是不可變物件。為此，我們應該瞭解“**ID**”和“**TYPE**”函式的用途。"
   ]
  },
  {
   "cell_type": "code",
   "execution_count": 0,
   "metadata": {
    "colab": {
     "base_uri": "https://localhost:8080/",
     "height": 68
    },
    "colab_type": "code",
    "executionInfo": {
     "elapsed": 704,
     "status": "ok",
     "timestamp": 1565712016901,
     "user": {
      "displayName": "電機工程系李佑謙",
      "photoUrl": "",
      "userId": "05735385076343474033"
     },
     "user_tz": -480
    },
    "id": "WVby7QIpdgcp",
    "outputId": "5124a3e4-0a12-4c7b-f9a0-69ff268bdd58"
   },
   "outputs": [
    {
     "name": "stdout",
     "output_type": "stream",
     "text": [
      "139891698998064\n",
      "139891698998064\n",
      "x是否=y : True\n"
     ]
    }
   ],
   "source": [
    "x =\"Holberton\" \n",
    "y =\"Holberton\" \n",
    "print(id(x))\n",
    "print(id(y))\n",
    "print(\"x是否=y :\", x is y)"
   ]
  },
  {
   "cell_type": "markdown",
   "metadata": {
    "colab_type": "text",
    "id": "avUiP4-ruYlL"
   },
   "source": [
    "* ID就像是一個變數的地址，每個地址都只會存放一個東西，如上述範例中 139891698998064 這組ID就放了\"Holberton\"。"
   ]
  },
  {
   "cell_type": "code",
   "execution_count": 0,
   "metadata": {
    "colab": {
     "base_uri": "https://localhost:8080/",
     "height": 51
    },
    "colab_type": "code",
    "executionInfo": {
     "elapsed": 699,
     "status": "ok",
     "timestamp": 1565712117280,
     "user": {
      "displayName": "電機工程系李佑謙",
      "photoUrl": "",
      "userId": "05735385076343474033"
     },
     "user_tz": -480
    },
    "id": "yJI8b0zFtb89",
    "outputId": "889c1e11-104f-4cbc-ff54-7e6345eeb239"
   },
   "outputs": [
    {
     "name": "stdout",
     "output_type": "stream",
     "text": [
      "<class 'int'>\n",
      "<class 'str'>\n"
     ]
    }
   ],
   "source": [
    "num = 2\n",
    "print(type(num))\n",
    "string1 = \"It's a string\"\n",
    "print(type(string1))"
   ]
  },
  {
   "cell_type": "markdown",
   "metadata": {
    "colab_type": "text",
    "id": "YZX5stgdusx-"
   },
   "source": [
    "* TYPE就是每個變數的型別，不同的型別，存放的資料也不同，例如：int存放整數、float存放浮點數、list存放陣列等等..."
   ]
  },
  {
   "cell_type": "markdown",
   "metadata": {
    "colab_type": "text",
    "id": "7C_Ifi9OtzUT"
   },
   "source": [
    "#### 現在我們已經看到了如何比較兩個簡單的字串變數來找出型別和ID。因此，使用這兩個函式，我們可以檢查不同型別的物件是如何與變數相關聯以及如何更改物件的。\n",
    "\n",
    "* 可變物件 list,dict,set\n",
    "* 不可變物件 int,string,float,tuple"
   ]
  },
  {
   "cell_type": "code",
   "execution_count": 0,
   "metadata": {
    "colab": {
     "base_uri": "https://localhost:8080/",
     "height": 102
    },
    "colab_type": "code",
    "executionInfo": {
     "elapsed": 648,
     "status": "ok",
     "timestamp": 1565712755666,
     "user": {
      "displayName": "電機工程系李佑謙",
      "photoUrl": "",
      "userId": "05735385076343474033"
     },
     "user_tz": -480
    },
    "id": "rkIidcNiuRm_",
    "outputId": "4c1bdb7f-8347-4c30-d72d-0bca5bbd3a52"
   },
   "outputs": [
    {
     "name": "stdout",
     "output_type": "stream",
     "text": [
      "10969088 10\n",
      "139892257508856 test\n",
      "139892257508856 test\n",
      "139892257508856 test\n"
     ]
    },
    {
     "data": {
      "text/plain": [
       "True"
      ]
     },
     "execution_count": 20,
     "metadata": {
      "tags": []
     },
     "output_type": "execute_result"
    }
   ],
   "source": [
    "x = 10\n",
    "y = \"test\"\n",
    "print(id(x),x)\n",
    "print(id(y),y)\n",
    "x = y\n",
    "print(id(x),x)\n",
    "print(id(y),y)"
   ]
  },
  {
   "cell_type": "markdown",
   "metadata": {
    "colab_type": "text",
    "id": "hGOCrcrvwQBi"
   },
   "source": [
    "* 在這個程式我們可以發現,在python的世界 = 不只是賦值,而且還把地址也一併更改了"
   ]
  },
  {
   "cell_type": "code",
   "execution_count": 0,
   "metadata": {
    "colab": {
     "base_uri": "https://localhost:8080/",
     "height": 34
    },
    "colab_type": "code",
    "executionInfo": {
     "elapsed": 642,
     "status": "ok",
     "timestamp": 1565712989205,
     "user": {
      "displayName": "電機工程系李佑謙",
      "photoUrl": "",
      "userId": "05735385076343474033"
     },
     "user_tz": -480
    },
    "id": "VAXt1oYDwyar",
    "outputId": "510b1514-c787-4820-cfe6-46bb792b7dc7"
   },
   "outputs": [
    {
     "data": {
      "text/plain": [
       "False"
      ]
     },
     "execution_count": 25,
     "metadata": {
      "tags": []
     },
     "output_type": "execute_result"
    }
   ],
   "source": [
    "id(x)!=id(y)"
   ]
  },
  {
   "cell_type": "code",
   "execution_count": 0,
   "metadata": {
    "colab": {
     "base_uri": "https://localhost:8080/",
     "height": 34
    },
    "colab_type": "code",
    "executionInfo": {
     "elapsed": 834,
     "status": "ok",
     "timestamp": 1565712990444,
     "user": {
      "displayName": "電機工程系李佑謙",
      "photoUrl": "",
      "userId": "05735385076343474033"
     },
     "user_tz": -480
    },
    "id": "XrbHp44NxC8d",
    "outputId": "f02f061f-f570-45e0-8753-199b93b684d2"
   },
   "outputs": [
    {
     "data": {
      "text/plain": [
       "True"
      ]
     },
     "execution_count": 26,
     "metadata": {
      "tags": []
     },
     "output_type": "execute_result"
    }
   ],
   "source": [
    "id(x)!=id(10)"
   ]
  },
  {
   "cell_type": "markdown",
   "metadata": {
    "colab_type": "text",
    "id": "bDd-5cCzxHVF"
   },
   "source": [
    "* x被標記的物件被改變。**物件10從未被修改過**。不可變物件在建立後**不允許修改**"
   ]
  },
  {
   "cell_type": "markdown",
   "metadata": {
    "colab_type": "text",
    "id": "sYX2lP1jxsDX"
   },
   "source": [
    "#### 我們再來看看可變物件的例子"
   ]
  },
  {
   "cell_type": "code",
   "execution_count": 0,
   "metadata": {
    "colab": {
     "base_uri": "https://localhost:8080/",
     "height": 68
    },
    "colab_type": "code",
    "executionInfo": {
     "elapsed": 840,
     "status": "ok",
     "timestamp": 1565713376020,
     "user": {
      "displayName": "電機工程系李佑謙",
      "photoUrl": "",
      "userId": "05735385076343474033"
     },
     "user_tz": -480
    },
    "id": "xZNDFPJdxyV8",
    "outputId": "748c1f83-ea86-4fea-bee4-25f818af0da7"
   },
   "outputs": [
    {
     "name": "stdout",
     "output_type": "stream",
     "text": [
      "[1, 2, 3]\n",
      "[1, 2, 3] [1, 2, 3]\n"
     ]
    },
    {
     "data": {
      "text/plain": [
       "True"
      ]
     },
     "execution_count": 33,
     "metadata": {
      "tags": []
     },
     "output_type": "execute_result"
    }
   ],
   "source": [
    "m = list([1,2,3])\n",
    "print(m)\n",
    "n = m\n",
    "print(n,m)\n",
    "id(m)==id(n)"
   ]
  },
  {
   "cell_type": "markdown",
   "metadata": {
    "colab_type": "text",
    "id": "ObMbTB1_yOFG"
   },
   "source": [
    "* 接下來我們使用python內建的功能pop(),pop()功能是把陣列的最後一個物件丟出來,詳細用法之後章節會介紹"
   ]
  },
  {
   "cell_type": "code",
   "execution_count": 0,
   "metadata": {
    "colab": {
     "base_uri": "https://localhost:8080/",
     "height": 51
    },
    "colab_type": "code",
    "executionInfo": {
     "elapsed": 673,
     "status": "ok",
     "timestamp": 1565713500796,
     "user": {
      "displayName": "電機工程系李佑謙",
      "photoUrl": "",
      "userId": "05735385076343474033"
     },
     "user_tz": -480
    },
    "id": "Jn3DScDQyGfP",
    "outputId": "e0a65680-cfae-418f-f8e7-f539d23e07a1"
   },
   "outputs": [
    {
     "name": "stdout",
     "output_type": "stream",
     "text": [
      "[1, 2]\n",
      "[1, 2]\n"
     ]
    }
   ],
   "source": [
    "m.pop()\n",
    "print(m)\n",
    "print(n)"
   ]
  },
  {
   "cell_type": "markdown",
   "metadata": {
    "colab_type": "text",
    "id": "0xpNu9bizFvC"
   },
   "source": [
    "* 我們可以看到m,n之間是有連動性的,我們使用id來檢查"
   ]
  },
  {
   "cell_type": "code",
   "execution_count": 0,
   "metadata": {
    "colab": {
     "base_uri": "https://localhost:8080/",
     "height": 34
    },
    "colab_type": "code",
    "executionInfo": {
     "elapsed": 677,
     "status": "ok",
     "timestamp": 1565713590385,
     "user": {
      "displayName": "電機工程系李佑謙",
      "photoUrl": "",
      "userId": "05735385076343474033"
     },
     "user_tz": -480
    },
    "id": "EwVjINU_zSLi",
    "outputId": "11e2fff6-3ee6-43cd-a6f8-d26af341b26a"
   },
   "outputs": [
    {
     "data": {
      "text/plain": [
       "True"
      ]
     },
     "execution_count": 39,
     "metadata": {
      "tags": []
     },
     "output_type": "execute_result"
    }
   ],
   "source": [
    "print(id(m))\n",
    "print(id(n))\n",
    "id(m)== id(n)"
   ]
  },
  {
   "cell_type": "markdown",
   "metadata": {
    "colab_type": "text",
    "id": "mCpdNvtGzUJt"
   },
   "source": [
    "* 上述的例子,m和n將在修改後指向同一個列表物件。列表物件現在將包含[1，2]。"
   ]
  },
  {
   "cell_type": "markdown",
   "metadata": {
    "colab_type": "text",
    "id": "sK9-MO2rzg0r"
   },
   "source": [
    "* Python以不同方式處理可變物件和不可變物件。\n",
    "* *不可變的訪問比可變物件更快。*\n",
    "* 當你需要改變物件的大小，例如列表，字典等等時，可變物件是很好用的。當你需要確保* 你建立的物件始終保持不變時，**使用不可變物件**。\n",
    "* 不可變物件對於**“更改”**而言基本上是緩慢的，因為這樣做涉及到建立副本。更改可變物件很快速。\n",
   ]
  },
  {
   "cell_type": "markdown",
   "metadata": {},
   "source": [
    "## 課程文件\n",
    "\n",
    "#### Python Basics 課程清單\n",
    "- <a href=\"https://colab.research.google.com/github/AI-FREE-Team/Python-Basics/blob/master/documents/Lesson00%20Preface.ipynb\">Lesson00 Preface 課程前言</a> \n",
    "\n",
    "- <a href=\"https://colab.research.google.com/github/AI-FREE-Team/Python-Basics/blob/master/documents/Lesson01%20Variable.ipynb\">Lesson01 Variable 變數</a> \n",
    "\n",
    "- <a href=\"https://colab.research.google.com/github/AI-FREE-Team/Python-Basics/blob/master/documents/Lesson02%20Operator.ipynb\">Lesson02 Operator 運算子</a> (Last Chapter! --上一堂課程--)\n",
    "\n",
    "- <a href=\"https://colab.research.google.com/github/AI-FREE-Team/Python-Basics/blob/master/documents/Lesson03%20Data%20Structure.ipynb\">Lesson03 Data Structure 資料結構</a> (We are here now! --本篇課程--)\n",
    "\n",
    "- <a href=\"https://colab.research.google.com/github/AI-FREE-Team/Python-Basics/blob/master/documents/Lesson04%20String.ipynb\">Lesson04 String 字串</a> (Next Chapter! --下一堂課程--)\n",
    "\n",
    "- <a href=\"https://colab.research.google.com/github/AI-FREE-Team/Python-Basics/blob/master/documents/Lesson05%20List.ipynb\">Lesson05 List 列表</a>\n",
    "\n",
    "- <a href=\"https://colab.research.google.com/github/AI-FREE-Team/Python-Basics/blob/master/documents/Lesson06%20Tuple.ipynb\">Lesson06 Tuple 元組</a>\n",
    "\n",
    "- <a href=\"https://colab.research.google.com/github/AI-FREE-Team/Python-Basics/blob/master/documents/Lesson07%20Range.ipynb\">Lesson07 Range 範圍</a>\n",
    "\n",
    "- <a href=\"https://colab.research.google.com/github/AI-FREE-Team/Python-Basics/blob/master/documents/Lesson08%20Set.ipynb\">Lesson08 Set 集合</a>\n",
    "\n",
    "- <a href=\"https://colab.research.google.com/github/AI-FREE-Team/Python-Basics/blob/master/documents/Lesson09%20Dictionary.ipynb\">Lesson09 Dictionary 字典</a>\n",
    "\n",
    "- <a href=\"https://colab.research.google.com/github/AI-FREE-Team/Python-Basics/blob/master/documents/Lesson10%20If-else.ipynb\">Lesson10 If-else 條件語法</a>\n",
    "\n",
    "- <a href=\"https://colab.research.google.com/github/AI-FREE-Team/Python-Basics/blob/master/documents/Lesson11%20While-loop.ipynb\">Lesson11 While 迴圈</a>\n",
    "\n",
    "- <a href=\"https://colab.research.google.com/github/AI-FREE-Team/Python-Basics/blob/master/documents/Lesson12%20For-loop.ipynb\">Lesson12 For 迴圈</a>\n",
    "\n",
    "- <a href=\"https://colab.research.google.com/github/AI-FREE-Team/Python-Basics/blob/master/documents/Lesson13%20Function.ipynb\">Lesson13 Function 函式</a>\n",
    "\n",
    "- <a href=\"https://colab.research.google.com/github/AI-FREE-Team/Python-Basics/blob/master/documents/Lesson14%20Input-output.ipynb\">Lesson14 Input/Output 輸入/輸出</a>\n",
    "\n",
    "- <a href=\"https://colab.research.google.com/github/AI-FREE-Team/Python-Basics/blob/master/documents/Lesson15%20Class.ipynb\">Lesson15 Class 類別</a>"
   ]
  },
  {
   "cell_type": "code",
   "execution_count": null,
   "metadata": {},
   "outputs": [],
   "source": []
  }
 ],
 "metadata": {
  "colab": {
   "collapsed_sections": [],
   "name": "AI . FREE Team - Python Basics: Lesson 03 Data Structure 資料結構.ipynb",
   "provenance": [],
   "version": "0.3.2"
  },
  "kernelspec": {
   "display_name": "Python 3",
   "language": "python",
   "name": "python3"
  },
  "language_info": {
   "codemirror_mode": {
    "name": "ipython",
    "version": 3
   },
   "file_extension": ".py",
   "mimetype": "text/x-python",
   "name": "python",
   "nbconvert_exporter": "python",
   "pygments_lexer": "ipython3",
   "version": "3.7.3"
  }
 },
 "nbformat": 4,
 "nbformat_minor": 1
}
