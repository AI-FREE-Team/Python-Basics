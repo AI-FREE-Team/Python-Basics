{
  "nbformat": 4,
  "nbformat_minor": 0,
  "metadata": {
    "accelerator": "GPU",
    "colab": {
      "name": "AI . FREE Team - Python Basics: Lesson 01 Variable 變數.ipynb",
      "provenance": [],
      "collapsed_sections": [],
      "toc_visible": true
    },
    "kernelspec": {
      "display_name": "Python 3",
      "language": "python",
      "name": "python3"
    },
    "language_info": {
      "codemirror_mode": {
        "name": "ipython",
        "version": 3
      },
      "file_extension": ".py",
      "mimetype": "text/x-python",
      "name": "python",
      "nbconvert_exporter": "python",
      "pygments_lexer": "ipython3",
      "version": "3.7.3"
    }
  },
  "cells": [
    {
      "cell_type": "markdown",
      "metadata": {
        "colab_type": "text",
        "id": "Rib_rBYNuDI3"
      },
      "source": [
        "![人工智慧 - 自由團隊](https://raw.githubusercontent.com/chenkenanalytic/img/master/af/aifreeteam.png)\n",
        "\n",
        "\n",
        "<center>Welcome to the course《Python: from business analytics to Artificial Intelligence》by AI . FREE Team.</center>\n",
        "<br>\n",
        "<center>歡迎大家來到 AI . FREE Team 《Python 從商業分析到人工智慧》的 Python 基礎教學 - Lesson 01 變數 (1-01)。 </center>\n",
        "<br>\n",
        "\n",
        "<center>(Author: Chen Ken, Lee Ovien, Chuang Shawn；Date of published: 2019/9/5；AI . FREE Team Website: https://aifreeblog.herokuapp.com/)</center>\n",
        "<br>\n",
        "\n",
        "\n",
        "<center>本課教學影片：<a href=\"https://youtu.be/DNMInSwgWK0\">https://youtu.be/DNMInSwgWK0</a></center>\n",
        "\n",
        "\n"
      ]
    },
    {
      "cell_type": "markdown",
      "metadata": {
        "colab_type": "text",
        "id": "z8a-OLPrnKUQ"
      },
      "source": [
        "## Variables 變數認識"
      ]
    },
    {
      "cell_type": "markdown",
      "metadata": {
        "colab_type": "text",
        "id": "JN8bNrZYoBZU"
      },
      "source": [
        "變數是什麼呢？相信大家並不陌生，這邊舉 BMI 計算為例，讓大家初步認識變數在程式語言開發中的使用。"
      ]
    },
    {
      "cell_type": "markdown",
      "metadata": {
        "colab_type": "text",
        "id": "ERLX_MhjoMoj"
      },
      "source": [
        "\n",
        "\n",
        "*   **訂定第一個變數 height(高度) 為 1.8 (m)**\n",
        "*   **訂定第二個變數 weight(體重) 為 80 (kg**) \n",
        "*   套入計算 BMI 的公式：  **體重(kg) / 身高的平方(m * m)** \n",
        "*   查看計算結果 (以print來進行查看)\n",
        "\n",
        "※ **(請按 Ctrl + enter 執行下列)**\n"
      ]
    },
    {
      "cell_type": "code",
      "metadata": {
        "colab_type": "code",
        "id": "zK8aYkk2Omty",
        "colab": {},
        "outputId": "8dc0af5b-49e7-4ee3-a488-2b805d7d1107"
      },
      "source": [
        "# 訂定第一個變數 height(高度)\n",
        "height = 1.8\n",
        "\n",
        "# 訂定第二個變數 weight(體重)\n",
        "weight = 80\n",
        "\n",
        "# 套入計算 BMI 的公式： 體重(kg) / 身高的平方(m * m)\n",
        "BMI = weight / (height*height)\n",
        "\n",
        "#將計算結果以 Print 呈現出來\n",
        "print(\"您的身高為： \" + str(height) + \"m (公尺)\")\n",
        "print(\"您的體重為： \" + str(weight) + \"kg (公斤)\")\n",
        "print(\"您的BMI為： \" + str(BMI))"
      ],
      "execution_count": 0,
      "outputs": [
        {
          "output_type": "stream",
          "text": [
            "您的身高為： 1.8m (公尺)\n",
            "您的體重為： 80kg (公斤)\n",
            "您的BMI為： 24.691358024691358\n"
          ],
          "name": "stdout"
        }
      ]
    },
    {
      "cell_type": "markdown",
      "metadata": {
        "colab_type": "text",
        "id": "LKacVqLosLLx"
      },
      "source": [
        "* 以上簡單製作出 BMI 的計算工具，請嘗試看看修改身高 or 體重，來體會如何使用變數！"
      ]
    },
    {
      "cell_type": "markdown",
      "metadata": {
        "colab_type": "text",
        "id": "1_praOaBX-i7"
      },
      "source": [
        "* 變數可以是任何型態，且大小寫有區分。"
      ]
    },
    {
      "cell_type": "code",
      "metadata": {
        "colab_type": "code",
        "id": "rF-pX6KbIMRL",
        "outputId": "3c196431-51d0-474a-8f79-7bca1c3c52ce",
        "colab": {
          "base_uri": "https://localhost:8080/",
          "height": 51
        }
      },
      "source": [
        "str1='Hello'\n",
        "str2='World'\n",
        "i=100\n",
        "a='a'\n",
        "A='A'\n",
        "\n",
        "print(str1+' '+str2)\n",
        "print(a,A)"
      ],
      "execution_count": 0,
      "outputs": [
        {
          "output_type": "stream",
          "text": [
            "Hello World\n",
            "a A\n"
          ],
          "name": "stdout"
        }
      ]
    },
    {
      "cell_type": "markdown",
      "metadata": {
        "colab_type": "text",
        "id": "ybAqJR3JKXQR"
      },
      "source": [
        "* 變數開頭不能為數字，不能使用保留字，ex：if、for、True、in、return..。"
      ]
    },
    {
      "cell_type": "code",
      "metadata": {
        "colab_type": "code",
        "id": "tuAC8WFtKkth",
        "outputId": "1cc9b45a-5388-4bb9-b55f-8e53748c41a3",
        "colab": {
          "base_uri": "https://localhost:8080/",
          "height": 131
        }
      },
      "source": [
        "5=5\n",
        "if=2\n",
        "for=3"
      ],
      "execution_count": 0,
      "outputs": [
        {
          "output_type": "error",
          "ename": "SyntaxError",
          "evalue": "ignored",
          "traceback": [
            "\u001b[0;36m  File \u001b[0;32m\"<ipython-input-6-3e99c3c52a87>\"\u001b[0;36m, line \u001b[0;32m2\u001b[0m\n\u001b[0;31m    if=2\u001b[0m\n\u001b[0m      ^\u001b[0m\n\u001b[0;31mSyntaxError\u001b[0m\u001b[0;31m:\u001b[0m invalid syntax\n"
          ]
        }
      ]
    },
    {
      "cell_type": "markdown",
      "metadata": {
        "colab_type": "text",
        "id": "TtEknGI82pkG"
      },
      "source": [
        "* 以上這些為python內建的變數，所以當你是用這些當做變數時，將不會具有變數的屬性(賦值、運算等等的...)"
      ]
    },
    {
      "cell_type": "markdown",
      "metadata": {
        "colab_type": "text",
        "id": "4n-jQS9-3MDx"
      },
      "source": [
        "* 而這些內建的變數，將在後面的章節逐一介紹"
      ]
    },
    {
      "cell_type": "markdown",
      "metadata": {
        "id": "BXheQaEkxpjk",
        "colab_type": "text"
      },
      "source": [
        "## 課程文件\n",
        "\n",
        "#### Python Basics 課程清單\n",
        "- <a href=\"https://colab.research.google.com/github/AI-FREE-Team/Python-Basics/blob/master/documents/Lesson00%20Preface.ipynb\">Lesson00 Preface 課程前言</a> (Last Chapter! --上一堂課程--)\n",
        "\n",
        "- <a href=\"https://colab.research.google.com/github/AI-FREE-Team/Python-Basics/blob/master/documents/Lesson01%20Variable.ipynb\">Lesson01 Variable 變數</a> (We are here now! --本篇課程--)\n",
        "\n",
        "- <a href=\"https://colab.research.google.com/github/AI-FREE-Team/Python-Basics/blob/master/documents/Lesson02%20Operator.ipynb\">Lesson02 Operator 運算子</a> (Next Chapter! --下一堂課程--)\n",
        "\n",
        "- <a href=\"https://colab.research.google.com/github/AI-FREE-Team/Python-Basics/blob/master/documents/Lesson03%20Data%20Structure.ipynb\">Lesson03 Data Structure 資料結構</a>\n",
        "\n",
        "- <a href=\"https://colab.research.google.com/github/AI-FREE-Team/Python-Basics/blob/master/documents/Lesson04%20String.ipynb\">Lesson04 String 字串</a>\n",
        "\n",
        "- <a href=\"https://colab.research.google.com/github/AI-FREE-Team/Python-Basics/blob/master/documents/Lesson05%20List.ipynb\">Lesson05 List 列表</a>\n",
        "\n",
        "- <a href=\"https://colab.research.google.com/github/AI-FREE-Team/Python-Basics/blob/master/documents/Lesson06%20Tuple.ipynb\">Lesson06 Tuple 元組</a>\n",
        "\n",
        "- <a href=\"https://colab.research.google.com/github/AI-FREE-Team/Python-Basics/blob/master/documents/Lesson07%20Range.ipynb\">Lesson07 Range 範圍</a>\n",
        "\n",
        "- <a href=\"https://colab.research.google.com/github/AI-FREE-Team/Python-Basics/blob/master/documents/Lesson08%20Set.ipynb\">Lesson08 Set 集合</a>\n",
        "\n",
        "- <a href=\"https://colab.research.google.com/github/AI-FREE-Team/Python-Basics/blob/master/documents/Lesson09%20Dictionary.ipynb\">Lesson09 Dictionary 字典</a>\n",
        "\n",
        "- <a href=\"https://colab.research.google.com/github/AI-FREE-Team/Python-Basics/blob/master/documents/Lesson10%20If-else.ipynb\">Lesson10 If-else 條件語法</a>\n",
        "\n",
        "- <a href=\"https://colab.research.google.com/github/AI-FREE-Team/Python-Basics/blob/master/documents/Lesson11%20While-loop.ipynb\">Lesson11 While 迴圈</a>\n",
        "\n",
        "- <a href=\"https://colab.research.google.com/github/AI-FREE-Team/Python-Basics/blob/master/documents/Lesson12%20For-loop.ipynb\">Lesson12 For 迴圈</a>\n",
        "\n",
        "- <a href=\"https://colab.research.google.com/github/AI-FREE-Team/Python-Basics/blob/master/documents/Lesson13%20Function.ipynb\">Lesson13 Function 函式</a>\n",
        "\n",
        "- <a href=\"https://colab.research.google.com/github/AI-FREE-Team/Python-Basics/blob/master/documents/Lesson14%20Input-output.ipynb\">Lesson14 Input/Output 輸入/輸出</a>\n",
        "\n",
        "- <a href=\"https://colab.research.google.com/github/AI-FREE-Team/Python-Basics/blob/master/documents/Lesson15%20Class.ipynb\">Lesson15 Class 類別</a>"
      ]
    },
    {
      "cell_type": "code",
      "metadata": {
        "id": "e86vXUUmxpjn",
        "colab_type": "code",
        "colab": {}
      },
      "source": [
        ""
      ],
      "execution_count": 0,
      "outputs": []
    }
  ]
}