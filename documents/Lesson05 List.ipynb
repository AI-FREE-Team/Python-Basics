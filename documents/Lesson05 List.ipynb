{
 "cells": [
  {
   "cell_type": "markdown",
   "metadata": {
    "colab_type": "text",
    "id": "S4F7QCIWGiLv"
   },
   "source": [
    "![人工智慧 - 自由團隊](https://raw.githubusercontent.com/chenkenanalytic/img/master/af/aifreeteam.png)\n",
    "\n",
    "\n",
    "<center>Welcome to the first course of《Python: from business analytics to Artificial Intelligence》--【Python Basics】, by AI . FREE Team.</center>\n",
    "\n",
    "<br>\n",
    "\n",
    "<center>歡迎大家來到 AI . FREE Team 《Pyhon 從商業分析到人工智慧》的第一堂課，Python 基礎教學！ </center>\n",
    "\n",
    "<br>\n",
    "\n",
    "<center>(Author: Chen Ken, Lee Ovien, Chuang Shawn；Date of published: 2019/9/5；AI . FREE Team Website: https://aifreeblog.herokuapp.com/)</center>\n"
   ]
  },
  {
   "cell_type": "markdown",
   "metadata": {
    "colab_type": "text",
    "id": "TLv_LsGDGma8"
   },
   "source": [
    "# List(陣列)"
   ]
  },
  {
   "cell_type": "markdown",
   "metadata": {
    "colab_type": "text",
    "id": "VuApaOlPHnxt"
   },
   "source": [
    "* 就像C一樣,陣列是Python中最基本的數據結構。陣列中的每個元素都分配一個數字-它的位置或索引，第一個索引是0，第二個索引是1，依此類推。\n",
    "* Python有6個陣列的內置類型，但最常見的是列表和元組。\n",
    "* 陣列都可以進行的操作包括索引，切片，加，乘，檢查成員。"
   ]
  },
  {
   "cell_type": "code",
   "execution_count": 0,
   "metadata": {
    "colab": {
     "base_uri": "https://localhost:8080/",
     "height": 68
    },
    "colab_type": "code",
    "executionInfo": {
     "elapsed": 1281,
     "status": "ok",
     "timestamp": 1566054826104,
     "user": {
      "displayName": "電機工程系李佑謙",
      "photoUrl": "",
      "userId": "05735385076343474033"
     },
     "user_tz": -480
    },
    "id": "TTxT3byHFrgC",
    "outputId": "6db99c59-00af-4734-caa8-bd18adb7ca2b"
   },
   "outputs": [
    {
     "name": "stdout",
     "output_type": "stream",
     "text": [
      "['C', 'Pyhotn', 1969, 1991]\n",
      "[1, 2, 3, 4, 5]\n",
      "['A', 'B', 'C', 'D']\n"
     ]
    }
   ],
   "source": [
    "list1 = ['C','Pyhotn',1969,1991]\n",
    "print(list1)\n",
    "list2 = [1, 2, 3, 4, 5 ]\n",
    "print(list2)\n",
    "list3 = [\"A\",\"B\",\"C\",\"D\"]\n",
    "print(list3)\n",
    "# 與字串的索引一樣，陣列索引從0開始。"
   ]
  },
  {
   "cell_type": "markdown",
   "metadata": {
    "colab_type": "text",
    "id": "A32JEE98H1CU"
   },
   "source": [
    "* 使用下標索引來訪問陣列中的值，同樣你也可以使用方括號的形式截取字符，如下所示：\n"
   ]
  },
  {
   "cell_type": "code",
   "execution_count": 0,
   "metadata": {
    "colab": {
     "base_uri": "https://localhost:8080/",
     "height": 51
    },
    "colab_type": "code",
    "executionInfo": {
     "elapsed": 696,
     "status": "ok",
     "timestamp": 1566054980894,
     "user": {
      "displayName": "電機工程系李佑謙",
      "photoUrl": "",
      "userId": "05735385076343474033"
     },
     "user_tz": -480
    },
    "id": "Wg0XxkeiJXcW",
    "outputId": "98e3a185-ab69-4114-8757-9a12019b9def"
   },
   "outputs": [
    {
     "name": "stdout",
     "output_type": "stream",
     "text": [
      "list1[0]:  C\n",
      "list2[1:5]:  [2, 3, 4, 5]\n"
     ]
    }
   ],
   "source": [
    "print(\"list1[0]: \",list1[0])\n",
    "print(\"list2[1:5]: \",list2[1:5])"
   ]
  },
  {
   "cell_type": "markdown",
   "metadata": {
    "colab_type": "text",
    "id": "KapqHdhLKYm7"
   },
   "source": [
    "## 更新陣列元素"
   ]
  },
  {
   "cell_type": "markdown",
   "metadata": {
    "colab_type": "text",
    "id": "ySs9bYqNJwTr"
   },
   "source": [
    "* 你可以對陣列的數據項進行修改或更新，你也可以使用append()方法來添加列表項，如下所示："
   ]
  },
  {
   "cell_type": "code",
   "execution_count": 0,
   "metadata": {
    "colab": {
     "base_uri": "https://localhost:8080/",
     "height": 34
    },
    "colab_type": "code",
    "executionInfo": {
     "elapsed": 646,
     "status": "ok",
     "timestamp": 1566055355761,
     "user": {
      "displayName": "電機工程系李佑謙",
      "photoUrl": "",
      "userId": "05735385076343474033"
     },
     "user_tz": -480
    },
    "id": "7tllHerYJ3Fx",
    "outputId": "b5bf1eec-2a3b-435e-bf1d-c9118e3a9903"
   },
   "outputs": [
    {
     "name": "stdout",
     "output_type": "stream",
     "text": [
      "['1991', 'Python']\n"
     ]
    }
   ],
   "source": [
    "test=[]          ## 空列表\n",
    "test.append('1991')   ## 使用 append() 添加元素\n",
    "test.append('Python')\n",
    "print(test)"
   ]
  },
  {
   "cell_type": "markdown",
   "metadata": {
    "colab_type": "text",
    "id": "ZIEm2EhfKVPv"
   },
   "source": [
    "## 刪除陣列元素"
   ]
  },
  {
   "cell_type": "code",
   "execution_count": 0,
   "metadata": {
    "colab": {
     "base_uri": "https://localhost:8080/",
     "height": 51
    },
    "colab_type": "code",
    "executionInfo": {
     "elapsed": 669,
     "status": "ok",
     "timestamp": 1566055365291,
     "user": {
      "displayName": "電機工程系李佑謙",
      "photoUrl": "",
      "userId": "05735385076343474033"
     },
     "user_tz": -480
    },
    "id": "ZxhqPrS0KlGn",
    "outputId": "6e6959b4-d142-4511-f153-6995d768df3c"
   },
   "outputs": [
    {
     "name": "stdout",
     "output_type": "stream",
     "text": [
      "['Python']\n",
      "[]\n"
     ]
    }
   ],
   "source": [
    "del(test[0])\n",
    "print(test)\n",
    "del(test[0])\n",
    "print(test)"
   ]
  },
  {
   "cell_type": "markdown",
   "metadata": {
    "colab_type": "text",
    "id": "-8YuT7T7LIa3"
   },
   "source": [
    "## Pyhton操作符號"
   ]
  },
  {
   "cell_type": "markdown",
   "metadata": {
    "colab_type": "text",
    "id": "FmOg8DHZLQxv"
   },
   "source": [
    "* 陣列對 + 和 * 的操作符與字符串相似。+ 號用於組合陣列，* 號用於重複陣列。\n",
    "\n",
    "* 如下所示："
   ]
  },
  {
   "cell_type": "code",
   "execution_count": 0,
   "metadata": {
    "colab": {
     "base_uri": "https://localhost:8080/",
     "height": 136
    },
    "colab_type": "code",
    "executionInfo": {
     "elapsed": 654,
     "status": "ok",
     "timestamp": 1566055671134,
     "user": {
      "displayName": "電機工程系李佑謙",
      "photoUrl": "",
      "userId": "05735385076343474033"
     },
     "user_tz": -480
    },
    "id": "ZuFDWjzZLOe8",
    "outputId": "ad4b4d9c-4b99-4751-8411-31ff24e9af88"
   },
   "outputs": [
    {
     "name": "stdout",
     "output_type": "stream",
     "text": [
      "3\n",
      "[1, 2, 3, 4, 5, 6]\n",
      "['Hi!', 'Hi!', 'Hi!', 'Hi!']\n",
      "True\n",
      "1\n",
      "2\n",
      "3\n"
     ]
    }
   ],
   "source": [
    "print(len([1, 2, 3]))\t# 長度\n",
    "\n",
    "print([1, 2, 3] + [4, 5, 6])\t#　組合\n",
    "\n",
    "print(['Hi!'] * 4) #\t重複\n",
    "\n",
    "print(3 in [1, 2, 3]) #\t元素是否存在於列表中 \n",
    "\n",
    "for x in [1, 2, 3]: \n",
    "  print(x) #\t1 2 3\t迭代"
   ]
  },
  {
   "cell_type": "markdown",
   "metadata": {
    "colab_type": "text",
    "id": "QTD-iDLBMTMi"
   },
   "source": [
    "## Python陣列截取"
   ]
  },
  {
   "cell_type": "markdown",
   "metadata": {
    "colab_type": "text",
    "id": "JyE8HOU_MdbG"
   },
   "source": [
    "* Python的陣列截取實例如下："
   ]
  },
  {
   "cell_type": "code",
   "execution_count": 0,
   "metadata": {
    "colab": {
     "base_uri": "https://localhost:8080/",
     "height": 68
    },
    "colab_type": "code",
    "executionInfo": {
     "elapsed": 664,
     "status": "ok",
     "timestamp": 1566055843494,
     "user": {
      "displayName": "電機工程系李佑謙",
      "photoUrl": "",
      "userId": "05735385076343474033"
     },
     "user_tz": -480
    },
    "id": "1hCrJ4QgMlBI",
    "outputId": "538cca3f-1bbe-4792-e6b0-2d9285c8bc99"
   },
   "outputs": [
    {
     "name": "stdout",
     "output_type": "stream",
     "text": [
      "cat\n",
      "book\n",
      "['book', 'cat']\n"
     ]
    }
   ],
   "source": [
    "list1 = ['apple','book','cat']\n",
    "print(list1[2]) # 讀取陣列中第三個元素\n",
    "print(list1[-2]) # 讀取陣列中倒數第二個元素\n",
    "print(list1[1:]) # 從第二個元素開始截取陣列"
   ]
  },
  {
   "cell_type": "markdown",
   "metadata": {
    "colab_type": "text",
    "id": "BF6ydYAOPOFA"
   },
   "source": [
    "* 已完成此章節,恭喜!"
   ]
  }
 ],
 "metadata": {
  "colab": {
   "collapsed_sections": [],
   "name": "course5:List.ipynb",
   "provenance": [],
   "version": "0.3.2"
  },
  "kernelspec": {
   "display_name": "Python 3",
   "language": "python",
   "name": "python3"
  },
  "language_info": {
   "codemirror_mode": {
    "name": "ipython",
    "version": 3
   },
   "file_extension": ".py",
   "mimetype": "text/x-python",
   "name": "python",
   "nbconvert_exporter": "python",
   "pygments_lexer": "ipython3",
   "version": "3.7.3"
  }
 },
 "nbformat": 4,
 "nbformat_minor": 1
}
