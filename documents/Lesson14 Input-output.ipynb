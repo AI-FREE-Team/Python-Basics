{
 "cells": [
  {
   "cell_type": "markdown",
   "metadata": {
    "colab_type": "text",
    "id": "YGr6yFrcHGgE"
   },
   "source": [
    "![人工智慧 - 自由團隊](https://raw.githubusercontent.com/chenkenanalytic/img/master/af/aifreeteam.png)\n",
    "\n",
    "\n",
    "<center>Welcome to the course《Python: from business analytics to Artificial Intelligence》by AI . FREE Team.</center>\n",
    "<br>\n",
    "<center>歡迎大家來到 AI . FREE Team 《Python 從商業分析到人工智慧》的 Python 基礎教學 - Lesson 14 輸入/輸出 (1-14)。 </center>\n",
    "<br>\n",
    "\n",
    "<center>(Author: Chen Ken, Lee Ovien, Chuang Shawn；Date of published: 2019/9/5；AI . FREE Team Website: https://aifreeblog.herokuapp.com/)</center>"
   ]
  },
  {
   "cell_type": "markdown",
   "metadata": {
    "colab_type": "text",
    "id": "AfiQKCL0HWUw"
   },
   "source": [
    "# Input/Output(輸入/輸出)"
   ]
  },
  {
   "cell_type": "markdown",
   "metadata": {
    "colab_type": "text",
    "id": "d8NENjCeRhqq"
   },
   "source": [
    "## 輸出格式美化"
   ]
  },
  {
   "cell_type": "markdown",
   "metadata": {
    "colab_type": "text",
    "id": "fQIMTATKHhT2"
   },
   "source": [
    "Python兩種輸出值的方式: 表達式語句和**print()**函數。\n",
    "\n",
    "第三種方式是使用文件對象的 **write()** 方法，標準輸出文件可以用 **sys.stdout** 引用。\n",
    "\n",
    "如果你希望輸出的形式更加多樣，可以使用 **str.format()** 函數來格式化輸出值。\n",
    "\n",
    "如果你希望將輸出的值轉成字符串，可以使用 **repr()** 或 **str()** 函數來實現。\n",
    "\n",
    "* str()： 函數返回一個用戶易讀的表達形式。\n",
    "* repr()： 產生一個解釋器易讀的表達形式。"
   ]
  },
  {
   "cell_type": "code",
   "execution_count": 0,
   "metadata": {
    "colab": {
     "base_uri": "https://localhost:8080/",
     "height": 119
    },
    "colab_type": "code",
    "executionInfo": {
     "elapsed": 957,
     "status": "ok",
     "timestamp": 1566962787394,
     "user": {
      "displayName": "電機工程系李佑謙",
      "photoUrl": "",
      "userId": "05735385076343474033"
     },
     "user_tz": -480
    },
    "id": "Y0rQhk6EGYA1",
    "outputId": "5a5eacc1-cb71-4592-ac2e-4689a0260258"
   },
   "outputs": [
    {
     "name": "stdout",
     "output_type": "stream",
     "text": [
      "s Hello, Runoob\n",
      "s Hello, Runoob\n",
      "0.14285714285714285\n",
      "x 的值爲：32.5,y 的值爲40000...\n",
      "'hello, runoob\\n'\n",
      "(32.5, 40000, ('Google', 'Runoob'))\n"
     ]
    }
   ],
   "source": [
    "s = 'Hello, Runoob'\n",
    "str(s)\n",
    "print('s',s)\n",
    "\n",
    "repr(s)\n",
    "print('s',s)\n",
    "\n",
    "str(1/7)\n",
    "print(str(1/7))\n",
    "\n",
    "x = 10 * 3.25\n",
    "y = 200 * 200\n",
    "s ='x 的值爲：'+ repr(x)+',y 的值爲'+repr(y)+'...'\n",
    "print(s)\n",
    "\n",
    "#  repr() 函數可以轉義字符串中的特殊字符\n",
    "hello = 'hello, runoob\\n'\n",
    "hellos = repr(hello)\n",
    "print(hellos)\n",
    "\n",
    "# repr() 的參數可以是 Python 的任何對象\n",
    "z = repr((x, y, ('Google', 'Runoob')))\n",
    "print(z)"
   ]
  },
  {
   "cell_type": "markdown",
   "metadata": {
    "colab_type": "text",
    "id": "fkJJnLWARQZ0"
   },
   "source": [
    "* 這裏有兩種方式輸出一個平方與立方的表:\n"
   ]
  },
  {
   "cell_type": "code",
   "execution_count": 0,
   "metadata": {
    "colab": {
     "base_uri": "https://localhost:8080/",
     "height": 187
    },
    "colab_type": "code",
    "executionInfo": {
     "elapsed": 828,
     "status": "ok",
     "timestamp": 1566963048834,
     "user": {
      "displayName": "電機工程系李佑謙",
      "photoUrl": "",
      "userId": "05735385076343474033"
     },
     "user_tz": -480
    },
    "id": "Zy_bPcU1RQu-",
    "outputId": "31e33c83-abd8-49ab-fbf1-7275dfe34adf"
   },
   "outputs": [
    {
     "name": "stdout",
     "output_type": "stream",
     "text": [
      " 1   1    1\n",
      " 2   4    8\n",
      " 3   9   27\n",
      " 4  16   64\n",
      " 5  25  125\n",
      " 6  36  216\n",
      " 7  49  343\n",
      " 8  64  512\n",
      " 9  81  729\n",
      "10 100 1000\n"
     ]
    }
   ],
   "source": [
    "for x in range(1, 11):\n",
    "  print(repr(x).rjust(2), repr(x*x).rjust(3), end=' ')\n",
    "  # 注意前一行 'end' 的使用\n",
    "  print(repr(x*x*x).rjust(4))"
   ]
  },
  {
   "cell_type": "markdown",
   "metadata": {
    "colab_type": "text",
    "id": "UpqXTT0nSzaT"
   },
   "source": [
    "注意：在第一個例子中, 每列間的空格由 print() 添加。\n",
    "\n",
    "這個例子展示了字符串對象的 **rjust()** 方法, 它可以將字符串靠右, 並在左邊填充空格。\n",
    "\n",
    "還有類似的方法, 如 **ljust()** 和 center()。 **這些方法並不會寫任何東西, 它們僅僅返回新的字符串。**\n",
    "\n",
    "另一個方法 **zfill(), 它會在數字的左邊填充 0**，如下所示："
   ]
  },
  {
   "cell_type": "code",
   "execution_count": 0,
   "metadata": {
    "colab": {
     "base_uri": "https://localhost:8080/",
     "height": 68
    },
    "colab_type": "code",
    "executionInfo": {
     "elapsed": 846,
     "status": "ok",
     "timestamp": 1566963500357,
     "user": {
      "displayName": "電機工程系李佑謙",
      "photoUrl": "",
      "userId": "05735385076343474033"
     },
     "user_tz": -480
    },
    "id": "VohmXeGwS7Gw",
    "outputId": "109a785c-fb92-41fd-9fa4-88059174fba6"
   },
   "outputs": [
    {
     "name": "stdout",
     "output_type": "stream",
     "text": [
      "00012\n",
      "-003.14\n",
      "3.14159265359\n"
     ]
    }
   ],
   "source": [
    "print('12'.zfill(5))\n",
    "\n",
    "print('-3.14'.zfill(7))\n",
    "\n",
    "print('3.14159265359'.zfill(5))\n"
   ]
  },
  {
   "cell_type": "markdown",
   "metadata": {
    "colab_type": "text",
    "id": "esFeTS71S6p5"
   },
   "source": [
    "* **str.format()** 的基本使用如下:\n",
    "\n"
   ]
  },
  {
   "cell_type": "code",
   "execution_count": 0,
   "metadata": {
    "colab": {
     "base_uri": "https://localhost:8080/",
     "height": 34
    },
    "colab_type": "code",
    "executionInfo": {
     "elapsed": 858,
     "status": "ok",
     "timestamp": 1566963805083,
     "user": {
      "displayName": "電機工程系李佑謙",
      "photoUrl": "",
      "userId": "05735385076343474033"
     },
     "user_tz": -480
    },
    "id": "YtQ8kn3fTvdt",
    "outputId": "47d26c73-4592-426d-f05e-c0e4cfe833cf"
   },
   "outputs": [
    {
     "name": "stdout",
     "output_type": "stream",
     "text": [
      "Taipei地址： \"Chung Cheng DC!\"\n"
     ]
    }
   ],
   "source": [
    "print('{}地址： \"{}!\"'.format('Taipei', 'Chung Cheng DC'))"
   ]
  },
  {
   "cell_type": "markdown",
   "metadata": {
    "colab_type": "text",
    "id": "hWiamBtKVGnU"
   },
   "source": [
    "括號及其裏面的字符將會被 **format()** 中的參數替換。\n",
    "\n",
    "在括號中的數字用於**指向傳入**對象在 format() 中的位置，如下所示："
   ]
  },
  {
   "cell_type": "code",
   "execution_count": 0,
   "metadata": {
    "colab": {
     "base_uri": "https://localhost:8080/",
     "height": 51
    },
    "colab_type": "code",
    "executionInfo": {
     "elapsed": 830,
     "status": "ok",
     "timestamp": 1566964084992,
     "user": {
      "displayName": "電機工程系李佑謙",
      "photoUrl": "",
      "userId": "05735385076343474033"
     },
     "user_tz": -480
    },
    "id": "bPfyCnmgVK-B",
    "outputId": "d14bdf28-109a-4085-d10e-23987a447d6d"
   },
   "outputs": [
    {
     "name": "stdout",
     "output_type": "stream",
     "text": [
      "Google 和 Intel\n",
      "Intel 和 Google\n"
     ]
    }
   ],
   "source": [
    "print('{0} 和 {1}'.format('Google', 'Intel'))\n",
    "\n",
    "print('{1} 和 {0}'.format('Google', 'Intel'))"
   ]
  },
  {
   "cell_type": "markdown",
   "metadata": {
    "colab_type": "text",
    "id": "YHwcjEGzVqN5"
   },
   "source": [
    "如果在 format() 中使用了關鍵字參數, 那麼它們的值會指向使用該名字的參數。"
   ]
  },
  {
   "cell_type": "code",
   "execution_count": 0,
   "metadata": {
    "colab": {
     "base_uri": "https://localhost:8080/",
     "height": 34
    },
    "colab_type": "code",
    "executionInfo": {
     "elapsed": 1153,
     "status": "ok",
     "timestamp": 1566964264449,
     "user": {
      "displayName": "電機工程系李佑謙",
      "photoUrl": "",
      "userId": "05735385076343474033"
     },
     "user_tz": -480
    },
    "id": "b08FNVfpV3Zn",
    "outputId": "455c46fc-dfaf-4e34-d236-d9bae4682b19"
   },
   "outputs": [
    {
     "name": "stdout",
     "output_type": "stream",
     "text": [
      "Jamie位置： Taiwan/Taipei\n"
     ]
    }
   ],
   "source": [
    "print('{name}位置： {address}'.format(name='Jamie', address='Taiwan/Taipei'))\n"
   ]
  },
  {
   "cell_type": "markdown",
   "metadata": {
    "colab_type": "text",
    "id": "4IRh7GaaWTAW"
   },
   "source": [
    "位置及關鍵字參數可以任意的結合:"
   ]
  },
  {
   "cell_type": "code",
   "execution_count": 0,
   "metadata": {
    "colab": {},
    "colab_type": "code",
    "id": "fHN3kOFgWWyw"
   },
   "outputs": [],
   "source": [
    "print('shopping list {0}, {1}, 和 {other}。'.format('fruit', 'Daily necessities', other='Potato chips'))"
   ]
  },
  {
   "cell_type": "markdown",
   "metadata": {
    "colab_type": "text",
    "id": "x7Nre4xBXSog"
   },
   "source": [
    "!a (使用 ascii()), !s (使用 str()) 和 !r (使用 repr()) 可以用於在格式化某個值之前對其進行轉化:"
   ]
  },
  {
   "cell_type": "code",
   "execution_count": 0,
   "metadata": {
    "colab": {
     "base_uri": "https://localhost:8080/",
     "height": 51
    },
    "colab_type": "code",
    "executionInfo": {
     "elapsed": 720,
     "status": "ok",
     "timestamp": 1566964610806,
     "user": {
      "displayName": "電機工程系李佑謙",
      "photoUrl": "",
      "userId": "05735385076343474033"
     },
     "user_tz": -480
    },
    "id": "NI4vsGihXYWn",
    "outputId": "86e73504-516a-48f6-ba4c-35429cb8da36"
   },
   "outputs": [
    {
     "name": "stdout",
     "output_type": "stream",
     "text": [
      "數學pi的值近似爲： 3.141592653589793。\n",
      "數學pi的值近似爲： 3.141592653589793。\n"
     ]
    }
   ],
   "source": [
    "import math\n",
    "print('數學pi的值近似爲： {}。'.format(math.pi))\n",
    "\n",
    "print('數學pi的值近似爲： {!r}。'.format(math.pi))"
   ]
  },
  {
   "cell_type": "markdown",
   "metadata": {
    "colab_type": "text",
    "id": "dlZldHfgXodq"
   },
   "source": [
    "可選項 : 和格式標識符可以跟着字段名。 這就允許對值進行更好的格式化。 下面的例子將 Pi 保留到小數點後三位："
   ]
  },
  {
   "cell_type": "code",
   "execution_count": 0,
   "metadata": {
    "colab": {
     "base_uri": "https://localhost:8080/",
     "height": 34
    },
    "colab_type": "code",
    "executionInfo": {
     "elapsed": 1068,
     "status": "ok",
     "timestamp": 1566971822377,
     "user": {
      "displayName": "電機工程系李佑謙",
      "photoUrl": "",
      "userId": "05735385076343474033"
     },
     "user_tz": -480
    },
    "id": "2WQsdWe3XsrX",
    "outputId": "0103e3d5-1624-425d-aca0-6ac7a57a78df"
   },
   "outputs": [
    {
     "name": "stdout",
     "output_type": "stream",
     "text": [
      "pi近似值爲 3.142。\n"
     ]
    }
   ],
   "source": [
    "print('pi近似值爲 {0:.3f}。'.format(math.pi))"
   ]
  },
  {
   "cell_type": "markdown",
   "metadata": {
    "colab_type": "text",
    "id": "8FVk2kJzzIwO"
   },
   "source": [
    "在:後傳入一個整數, 可以保證該域至少有這麼多的寬度。 用於美化表格時很有用。"
   ]
  },
  {
   "cell_type": "code",
   "execution_count": 0,
   "metadata": {
    "colab": {
     "base_uri": "https://localhost:8080/",
     "height": 68
    },
    "colab_type": "code",
    "executionInfo": {
     "elapsed": 768,
     "status": "ok",
     "timestamp": 1566972381732,
     "user": {
      "displayName": "電機工程系李佑謙",
      "photoUrl": "",
      "userId": "05735385076343474033"
     },
     "user_tz": -480
    },
    "id": "C7Gs9fgM0NuQ",
    "outputId": "45a9ff1f-ba12-4c13-8f03-4e0de80364c4"
   },
   "outputs": [
    {
     "name": "stdout",
     "output_type": "stream",
     "text": [
      "August     ==>          8\n",
      "March      ==>          3\n",
      "July       ==>          7\n"
     ]
    }
   ],
   "source": [
    "table = {'August': 8, 'March': 3, 'July': 7}\n",
    "for month, number in table.items():\n",
    "  print('{0:10} ==> {1:10d}'.format(month, number))"
   ]
  },
  {
   "cell_type": "markdown",
   "metadata": {
    "colab_type": "text",
    "id": "IeM3hrjj0fSx"
   },
   "source": [
    "如果你有一個很長的格式化字符串, 而你不想將它們分開, 那麼在格式化時通過變量名而非位置會是很好的事情。\n",
    "\n",
    "最簡單的就是傳入一個字典, 然後使用方括號 [] 來訪問鍵值 :"
   ]
  },
  {
   "cell_type": "code",
   "execution_count": 0,
   "metadata": {
    "colab": {
     "base_uri": "https://localhost:8080/",
     "height": 34
    },
    "colab_type": "code",
    "executionInfo": {
     "elapsed": 809,
     "status": "ok",
     "timestamp": 1566972431976,
     "user": {
      "displayName": "電機工程系李佑謙",
      "photoUrl": "",
      "userId": "05735385076343474033"
     },
     "user_tz": -480
    },
    "id": "UjtIG_Vh02D9",
    "outputId": "e8860822-19d3-49a1-a9fb-150bca76dcc2"
   },
   "outputs": [
    {
     "name": "stdout",
     "output_type": "stream",
     "text": [
      "March: 3; August: 8; July: 7\n"
     ]
    }
   ],
   "source": [
    "table = {'August': 8, 'March': 3, 'July': 7}\n",
    "print('March: {0[March]:d}; August: {0[August]:d}; July: {0[July]:d}'.format(table))"
   ]
  },
  {
   "cell_type": "markdown",
   "metadata": {
    "colab_type": "text",
    "id": "58TxYPCi4CXH"
   },
   "source": [
    "也可以通過在 table 變量前使用 ** 來實現相同的功能："
   ]
  },
  {
   "cell_type": "code",
   "execution_count": 0,
   "metadata": {
    "colab": {
     "base_uri": "https://localhost:8080/",
     "height": 34
    },
    "colab_type": "code",
    "executionInfo": {
     "elapsed": 765,
     "status": "ok",
     "timestamp": 1566973201847,
     "user": {
      "displayName": "電機工程系李佑謙",
      "photoUrl": "",
      "userId": "05735385076343474033"
     },
     "user_tz": -480
    },
    "id": "_i_DHrgf4B8C",
    "outputId": "17a70f5c-a42f-4094-90a2-420af2613937"
   },
   "outputs": [
    {
     "name": "stdout",
     "output_type": "stream",
     "text": [
      "March: 3; August: 8; July: 7\n"
     ]
    }
   ],
   "source": [
    "table = {'August': 8, 'March': 3, 'July': 7}\n",
    "print('March: {March:d}; August: {August:d}; July: {July:d}'.format(**table))"
   ]
  },
  {
   "cell_type": "markdown",
   "metadata": {
    "colab_type": "text",
    "id": "8DaNisib4c0q"
   },
   "source": [
    "## 讀取鍵盤輸入"
   ]
  },
  {
   "cell_type": "markdown",
   "metadata": {
    "colab_type": "text",
    "id": "jkHP_3I64h-C"
   },
   "source": [
    "Python提供了 input() 內置函數從標準輸入讀入一行文本，默認的標準輸入是鍵盤。\n",
    "\n",
    "input 可以接收一個Python表達式作爲輸入，並將運算結果返回"
   ]
  },
  {
   "cell_type": "code",
   "execution_count": 0,
   "metadata": {
    "colab": {
     "base_uri": "https://localhost:8080/",
     "height": 51
    },
    "colab_type": "code",
    "executionInfo": {
     "elapsed": 3703,
     "status": "ok",
     "timestamp": 1566973351970,
     "user": {
      "displayName": "電機工程系李佑謙",
      "photoUrl": "",
      "userId": "05735385076343474033"
     },
     "user_tz": -480
    },
    "id": "HPrsE65f4egh",
    "outputId": "8b52fe5c-7931-4012-df54-bbb05589928c"
   },
   "outputs": [
    {
     "name": "stdout",
     "output_type": "stream",
     "text": [
      "請輸入：asd\n",
      "你輸入的內容是:  asd\n"
     ]
    }
   ],
   "source": [
    "str1 = input(\"請輸入：\");\n",
    "print (\"你輸入的內容是: \", str1)"
   ]
  },
  {
   "cell_type": "markdown",
   "metadata": {},
   "source": [
    "## 課程文件\n",
    "\n",
    "#### Python Basics 課程清單\n",
    "- <a href=\"https://colab.research.google.com/github/AI-FREE-Team/Python-Basics/blob/master/documents/Lesson00%20Preface.ipynb\">Lesson00 Preface 課程前言</a> \n",
    "\n",
    "- <a href=\"https://colab.research.google.com/github/AI-FREE-Team/Python-Basics/blob/master/documents/Lesson01%20Variable.ipynb\">Lesson01 Variable 變數</a> \n",
    "\n",
    "- <a href=\"https://colab.research.google.com/github/AI-FREE-Team/Python-Basics/blob/master/documents/Lesson02%20Operator.ipynb\">Lesson02 Operator 運算子</a>\n",
    "\n",
    "- <a href=\"https://colab.research.google.com/github/AI-FREE-Team/Python-Basics/blob/master/documents/Lesson03%20Data%20Structure.ipynb\">Lesson03 Data Structure 資料結構</a> \n",
    "\n",
    "- <a href=\"https://colab.research.google.com/github/AI-FREE-Team/Python-Basics/blob/master/documents/Lesson04%20String.ipynb\">Lesson04 String 字串</a>\n",
    "\n",
    "- <a href=\"https://colab.research.google.com/github/AI-FREE-Team/Python-Basics/blob/master/documents/Lesson05%20List.ipynb\">Lesson05 List 列表</a> \n",
    "\n",
    "- <a href=\"https://colab.research.google.com/github/AI-FREE-Team/Python-Basics/blob/master/documents/Lesson06%20Tuple.ipynb\">Lesson06 Tuple 元組</a> \n",
    "\n",
    "- <a href=\"https://colab.research.google.com/github/AI-FREE-Team/Python-Basics/blob/master/documents/Lesson07%20Range.ipynb\">Lesson07 Range 範圍</a> \n",
    "\n",
    "- <a href=\"https://colab.research.google.com/github/AI-FREE-Team/Python-Basics/blob/master/documents/Lesson08%20Set.ipynb\">Lesson08 Set 集合</a> \n",
    "\n",
    "- <a href=\"https://colab.research.google.com/github/AI-FREE-Team/Python-Basics/blob/master/documents/Lesson09%20Dictionary.ipynb\">Lesson09 Dictionary 字典</a>\n",
    "\n",
    "- <a href=\"https://colab.research.google.com/github/AI-FREE-Team/Python-Basics/blob/master/documents/Lesson10%20If-else.ipynb\">Lesson10 If-else 條件語法</a>\n",
    "\n",
    "- <a href=\"https://colab.research.google.com/github/AI-FREE-Team/Python-Basics/blob/master/documents/Lesson11%20While-loop.ipynb\">Lesson11 While 迴圈</a>\n",
    "\n",
    "- <a href=\"https://colab.research.google.com/github/AI-FREE-Team/Python-Basics/blob/master/documents/Lesson12%20For-loop.ipynb\">Lesson12 For 迴圈</a>\n",
    "\n",
    "- <a href=\"https://colab.research.google.com/github/AI-FREE-Team/Python-Basics/blob/master/documents/Lesson13%20Function.ipynb\">Lesson13 Function 函式</a> (Last Chapter! --上一堂課程--)\n",
    "\n",
    "- <a href=\"https://colab.research.google.com/github/AI-FREE-Team/Python-Basics/blob/master/documents/Lesson14%20Input-output.ipynb\">Lesson14 Input/Output 輸入/輸出</a> (We are here now! --本篇課程--)\n",
    "\n",
    "- <a href=\"https://colab.research.google.com/github/AI-FREE-Team/Python-Basics/blob/master/documents/Lesson15%20Class.ipynb\">Lesson15 Class 類別</a> (Next Chapter! --下一堂課程--)"
   ]
  },
  {
   "cell_type": "code",
   "execution_count": null,
   "metadata": {},
   "outputs": [],
   "source": []
  }
 ],
 "metadata": {
  "colab": {
   "collapsed_sections": [],
   "name": "AI . FREE Team - Python Basics: Lesson 14 Input/output 輸入/輸出.ipynb",
   "provenance": [],
   "version": "0.3.2"
  },
  "kernelspec": {
   "display_name": "Python 3",
   "language": "python",
   "name": "python3"
  },
  "language_info": {
   "codemirror_mode": {
    "name": "ipython",
    "version": 3
   },
   "file_extension": ".py",
   "mimetype": "text/x-python",
   "name": "python",
   "nbconvert_exporter": "python",
   "pygments_lexer": "ipython3",
   "version": "3.7.3"
  }
 },
 "nbformat": 4,
 "nbformat_minor": 1
}
