{
 "cells": [
  {
   "cell_type": "markdown",
   "metadata": {
    "colab_type": "text",
    "id": "Rib_rBYNuDI3"
   },
   "source": [
    "![人工智慧 - 自由團隊](https://raw.githubusercontent.com/chenkenanalytic/img/master/af/aifreeteam.png)\n",
    "\n",
    "<center>Welcome to the course《Python: from business analytics to Artificial Intelligence》by AI . FREE Team.</center>\n",
    "<br>\n",
    "<center>歡迎大家來到 AI . FREE Team 《Python 從商業分析到人工智慧》的 Python 基礎教學 - Lesson 0 前言 (1-0)。 </center>\n",
    "<br>\n",
    "\n",
    "<center>(Author: Chen Ken, Lee Ovien, Chuang Shawn；Date of published: 2019/9/5；AI . FREE Team Website: https://aifreeblog.herokuapp.com/)</center>\n",
    "\n",
    "\n",
    "\n",
    "\n",
    "\n"
   ]
  },
  {
   "cell_type": "markdown",
   "metadata": {
    "colab_type": "text",
    "id": "0LEJHkfYJTNU"
   },
   "source": [
    "# Preface 前言"
   ]
  },
  {
   "cell_type": "markdown",
   "metadata": {
    "colab_type": "text",
    "id": "lo-XP-5gAYLW"
   },
   "source": [
    "## 1. Why Python? 為何選擇 Python？"
   ]
  },
  {
   "cell_type": "markdown",
   "metadata": {
    "colab_type": "text",
    "id": "yf6Hp8n9GXAg"
   },
   "source": [
    "在眾多的程式語言當中，我們選擇 Python 做為初學者入門數據分析、人工智慧的語言，而不是 R, C, Matlab or Java 等其他語言，相對這些語言來說，Python 有以下優勢：\n",
    "\n",
    "\n",
    "1.   學習快速 (Python 屬於高階語言，較能使開發者快速讀懂程式碼)\n",
    "2.   資源豐富 (Python 的開源開發社群廣大，許多國際企業也都公開自家的開源套件；例如：Google, Facebook)\n",
    "3.   用途廣泛 (Python 不僅能作為商業分析、開發 AI 的工具、應用在科研領域，還能做為開發網頁的框架，如Django...)\n",
    "\n"
   ]
  },
  {
   "cell_type": "markdown",
   "metadata": {
    "colab_type": "text",
    "id": "D0XaUjY4JiZ9"
   },
   "source": [
    "## 2. Why Colab? 為何選擇 Colab 介面進行學習？"
   ]
  },
  {
   "cell_type": "markdown",
   "metadata": {
    "colab_type": "text",
    "id": "Bp2ZDcoyJtnu"
   },
   "source": [
    "Colab 為 Google 推出的免費雲端 Python 程式語言開發介面 (基於Jupyter notebook environment 開發)，優點如下：\n",
    "\n",
    "\n",
    "1.   不用花費大量時間設定「開發環境」\n",
    "2.   提供許多整合性服務 (與Google Drive連結、Github開發社群、相關 Python 開源套件導入...)\n",
    "3.   提供免費雲端運算資源 (GPU, TPU 能使開發 AI 運算速度更快)\n",
    "4.   高度便利性 (可隨時隨地學習 -- 在有網路 & 電腦的狀況下)\n",
    "\n",
    "提供給讀者們： Google 官方 Colab 介紹文件 (https://colab.research.google.com/notebooks/welcome.ipynb)"
   ]
  },
  {
   "cell_type": "markdown",
   "metadata": {
    "colab_type": "text",
    "id": "QA90qYogNbjg"
   },
   "source": [
    "# 第一堂課 Python Basics 基礎教學"
   ]
  },
  {
   "cell_type": "markdown",
   "metadata": {
    "colab_type": "text",
    "id": "sZPa1lEfnDcw"
   },
   "source": [
    "## 範例教學 - Print\n"
   ]
  },
  {
   "cell_type": "markdown",
   "metadata": {
    "colab_type": "text",
    "id": "xl_obAOHOAQz"
   },
   "source": [
    "一如程式語言學習的傳統，我們先從 Print 開始；Print 就如字面上意思，將東西列印出來。 (請以 Ctrl + Enter 執行下方程式語言列)\n",
    "\n",
    "> Print(\"Hello World!\")\n",
    "\n",
    "\n"
   ]
  },
  {
   "cell_type": "code",
   "execution_count": 1,
   "metadata": {
    "colab": {},
    "colab_type": "code",
    "id": "jOBwRHanNk7Q"
   },
   "outputs": [
    {
     "name": "stdout",
     "output_type": "stream",
     "text": [
      "Hello World!\n"
     ]
    }
   ],
   "source": [
    "print(\"Hello World!\")"
   ]
  },
  {
   "cell_type": "markdown",
   "metadata": {
    "colab_type": "text",
    "id": "XF4mEjBHOtQs"
   },
   "source": [
    "執行成功後，你將看到：\n",
    "\n",
    "```\n",
    "Hello World!\n",
    "```\n",
    " *   \"print()\" 的使用為程式語言開發的基礎工具，還有許多不同的使用方式，請多嘗試看看不同使用方法。\n",
    "\n",
    "\n"
   ]
  },
  {
   "cell_type": "markdown",
   "metadata": {},
   "source": [
    "## 課程文件\n",
    "\n",
    "#### Python Basics 課程清單\n",
    "- <a href=\"https://colab.research.google.com/github/AI-FREE-Team/Python-Basics/blob/master/documents/Class%20Preface.ipynb\">Lesson00 Preface 課程前言</a> (We are here now! --本篇課程--)\n",
    "\n",
    "- <a href=\"https://colab.research.google.com/github/AI-FREE-Team/Python-Basics/blob/master/documents/Class01%20Variable.ipynb\">Lesson01 Variable 變數</a> (Next Chapter! --下一堂課程--)\n",
    "\n",
    "- <a href=\"https://colab.research.google.com/github/AI-FREE-Team/Python-Basics/blob/master/documents/Class02%20Operator.ipynb\">Lesson02 Operator 運算子</a>\n",
    "\n",
    "- <a href=\"https://colab.research.google.com/github/AI-FREE-Team/Python-Basics/blob/master/documents/Class03%20Data%20Structure.ipynb\">Lesson03 Data Structure 資料結構</a>\n",
    "\n",
    "- <a href=\"https://colab.research.google.com/github/AI-FREE-Team/Python-Basics/blob/master/documents/Class04%20String.ipynb\">Lesson04 String 字串</a>\n",
    "\n",
    "- <a href=\"https://colab.research.google.com/github/AI-FREE-Team/Python-Basics/blob/master/documents/Class05%20List.ipynb\">Lesson05 List 列表</a>\n",
    "\n",
    "- <a href=\"https://colab.research.google.com/github/AI-FREE-Team/Python-Basics/blob/master/documents/Class06%20Tuple.ipynb\">Lesson06 Tuple 元組</a>\n",
    "\n",
    "- <a href=\"https://colab.research.google.com/github/AI-FREE-Team/Python-Basics/blob/master/documents/Class07%20Range.ipynb\">Lesson07 Range 範圍</a>\n",
    "\n",
    "- <a href=\"https://colab.research.google.com/github/AI-FREE-Team/Python-Basics/blob/master/documents/Class08%20Set.ipynb\">Lesson08 Set 集合</a>\n",
    "\n",
    "- <a href=\"https://colab.research.google.com/github/AI-FREE-Team/Python-Basics/blob/master/documents/Class09%20Dictionary.ipynb\">Lesson09 Dictionary 字典</a>\n",
    "\n",
    "- <a href=\"https://colab.research.google.com/github/AI-FREE-Team/Python-Basics/blob/master/documents/Class10%20If-else.ipynb\">Lesson10 If-else 條件語法</a>\n",
    "\n",
    "- <a href=\"https://colab.research.google.com/github/AI-FREE-Team/Python-Basics/blob/master/documents/Class11%20While-loop.ipynb\">Lesson11 While 迴圈</a>\n",
    "\n",
    "- <a href=\"https://colab.research.google.com/github/AI-FREE-Team/Python-Basics/blob/master/documents/Class12%20For-loop.ipynb\">Lesson12 For 迴圈</a>\n",
    "\n",
    "- <a href=\"https://colab.research.google.com/github/AI-FREE-Team/Python-Basics/blob/master/documents/Class13%20Function.ipynb\">Lesson13 Function 函式</a>\n",
    "\n",
    "- <a href=\"https://colab.research.google.com/github/AI-FREE-Team/Python-Basics/blob/master/documents/Class14%20Input-output.ipynb\">Lesson14 Input/Output 輸入/輸出</a>\n",
    "\n",
    "- <a href=\"https://colab.research.google.com/github/AI-FREE-Team/Python-Basics/blob/master/documents/Class15%20Class.ipynb\">Lesson15 Class 類別</a>"
   ]
  },
  {
   "cell_type": "code",
   "execution_count": null,
   "metadata": {},
   "outputs": [],
   "source": []
  }
 ],
 "metadata": {
  "accelerator": "GPU",
  "colab": {
   "collapsed_sections": [
    "lo-XP-5gAYLW",
    "D0XaUjY4JiZ9",
    "sZPa1lEfnDcw",
    "z8a-OLPrnKUQ"
   ],
   "name": "AI . FREE Team - Python 從商業分析到人工智慧_第一堂課.ipynb",
   "provenance": [],
   "toc_visible": true,
   "version": "0.3.2"
  },
  "kernelspec": {
   "display_name": "Python 3",
   "language": "python",
   "name": "python3"
  },
  "language_info": {
   "codemirror_mode": {
    "name": "ipython",
    "version": 3
   },
   "file_extension": ".py",
   "mimetype": "text/x-python",
   "name": "python",
   "nbconvert_exporter": "python",
   "pygments_lexer": "ipython3",
   "version": "3.7.3"
  }
 },
 "nbformat": 4,
 "nbformat_minor": 1
}
