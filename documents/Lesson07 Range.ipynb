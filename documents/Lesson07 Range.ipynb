{
 "cells": [
  {
   "cell_type": "markdown",
   "metadata": {
    "colab_type": "text",
    "id": "S4F7QCIWGiLv"
   },
   "source": [
    "![人工智慧 - 自由團隊](https://raw.githubusercontent.com/chenkenanalytic/img/master/af/aifreeteam.png)\n",
    "\n",
    "\n",
    "<center>Welcome to the course《Python: from business analytics to Artificial Intelligence》by AI . FREE Team.</center>\n",
    "<br>\n",
    "<center>歡迎大家來到 AI . FREE Team 《Python 從商業分析到人工智慧》的 Python 基礎教學 - Lesson 07 範圍 (1-07)。 </center>\n",
    "<br>\n",
    "\n",
    "<center>(Author: Chen Ken, Lee Ovien, Chuang Shawn；Date of published: 2019/9/5；AI . FREE Team Website: https://aifreeblog.herokuapp.com/)</center>"
   ]
  },
  {
   "cell_type": "markdown",
   "metadata": {
    "colab_type": "text",
    "id": "F8f-ETEwOhkA"
   },
   "source": [
    "# Ranges ( 範圍 )\n"
   ]
  },
  {
   "cell_type": "markdown",
   "metadata": {
    "colab_type": "text",
    "id": "wgnzZIUAOoLD"
   },
   "source": [
    "\n",
    "\n",
    "*   Range 內的元素是不可變的，並且可以使用索引，通常用於迴圈(Loop)\n",
    "*   宣告方式為 range( start , stop, step )\n",
    "*   start : 計數從 start 為起點。如果沒有數字就是從0開始。\n",
    "*   stop : 計數到 stop 為終點。但不包括 stop 的數字。\n",
    "*   step : 移動步長，沒有數字就視為 1 。\n"
   ]
  },
  {
   "cell_type": "code",
   "execution_count": 16,
   "metadata": {
    "colab": {
     "base_uri": "https://localhost:8080/",
     "height": 221
    },
    "colab_type": "code",
    "executionInfo": {
     "elapsed": 841,
     "status": "ok",
     "timestamp": 1566141675125,
     "user": {
      "displayName": "電機工程系莊翔宇",
      "photoUrl": "",
      "userId": "06232090834761520364"
     },
     "user_tz": -480
    },
    "id": "-MZd6NbXNsf5",
    "outputId": "843e604e-9121-4e1f-8f12-dfd99b6f2c90"
   },
   "outputs": [
    {
     "name": "stdout",
     "output_type": "stream",
     "text": [
      "0,1,2,3,4,\n",
      "0 ~ 4,但不包括5\n",
      "\n",
      "3,4,5,6,7,8,9,\n",
      "從3開始,但不包括10\n",
      "\n",
      "3,5,7,9,\n",
      "從3開始,但不包括10,每次跳2\n",
      "\n",
      "可以遞增也可以遞減\n",
      "10,5,0,-5,-10,-15,-20,-25,\n",
      "從10開始,但不包括-30,每次跳-5\n"
     ]
    }
   ],
   "source": [
    "for i in range(5):\n",
    "  print(i,end=\",\")\n",
    "print()\n",
    "print(\"0 ~ 4,但不包括5\")\n",
    "\n",
    "print()\n",
    "for i in range(3,10):\n",
    "  print(i,end=\",\")\n",
    "print()  \n",
    "print(\"從3開始,但不包括10\")\n",
    "\n",
    "print()\n",
    "for i in range(3,10,2):\n",
    "  print(i,end=\",\")\n",
    "print()  \n",
    "print(\"從3開始,但不包括10,每次跳2\")\n",
    "\n",
    "print()\n",
    "print(\"可以遞增也可以遞減\")\n",
    "for i in range(10,-30,-5):\n",
    "  print(i,end=\",\")\n",
    "print()  \n",
    "print(\"從10開始,但不包括-30,每次跳-5\")"
   ]
  },
  {
   "cell_type": "markdown",
   "metadata": {
    "colab_type": "text",
    "id": "xToljETJSwbX"
   },
   "source": [
    "*  來看看其他用法"
   ]
  },
  {
   "cell_type": "code",
   "execution_count": 11,
   "metadata": {
    "colab": {
     "base_uri": "https://localhost:8080/",
     "height": 119
    },
    "colab_type": "code",
    "executionInfo": {
     "elapsed": 630,
     "status": "ok",
     "timestamp": 1566141387574,
     "user": {
      "displayName": "電機工程系莊翔宇",
      "photoUrl": "",
      "userId": "06232090834761520364"
     },
     "user_tz": -480
    },
    "id": "P0L0yXFNQ9Hj",
    "outputId": "a6307d57-76f7-49e4-9027-0aea99d564a8"
   },
   "outputs": [
    {
     "name": "stdout",
     "output_type": "stream",
     "text": [
      "[[0, 'jane']]\n",
      "[[0, 'jane'], [1, 'john']]\n",
      "[[0, 'jane'], [1, 'john'], [2, 'mark']]\n",
      "[[0, 'jane'], [1, 'john'], [2, 'mark'], [3, 'harry']]\n",
      "[[0, 'jane'], [1, 'john'], [2, 'mark'], [3, 'harry'], [4, 'mike']]\n",
      "[[0, 'jane'], [1, 'john'], [2, 'mark'], [3, 'harry'], [4, 'mike'], [5, 'ed']]\n"
     ]
    }
   ],
   "source": [
    "words = ['jane','john','mark','harry','mike','ed']\n",
    "wordlist = []\n",
    "for i in range(len(words)):\n",
    "  wordlist.append([i,words[i]])\n",
    "  print(wordlist)"
   ]
  },
  {
   "cell_type": "markdown",
   "metadata": {
    "colab_type": "text",
    "id": "qc2eXly9TXk7"
   },
   "source": [
    "*  也可以把 range 宣告成變數"
   ]
  },
  {
   "cell_type": "code",
   "execution_count": 15,
   "metadata": {
    "colab": {
     "base_uri": "https://localhost:8080/",
     "height": 136
    },
    "colab_type": "code",
    "executionInfo": {
     "elapsed": 695,
     "status": "ok",
     "timestamp": 1566141598136,
     "user": {
      "displayName": "電機工程系莊翔宇",
      "photoUrl": "",
      "userId": "06232090834761520364"
     },
     "user_tz": -480
    },
    "id": "ckJcY8e0TRBu",
    "outputId": "23af5576-7ea9-4f20-e4b0-fe648249c523"
   },
   "outputs": [
    {
     "name": "stdout",
     "output_type": "stream",
     "text": [
      "range(0, 10, 2)\n",
      "[0, 2, 4, 6, 8]\n",
      "True\n",
      "1\n",
      "6\n",
      "range(0, 6, 2)\n",
      "8\n"
     ]
    }
   ],
   "source": [
    "r = range(0,10,2)\n",
    "print(r)\n",
    "print(list(r))\n",
    "print(2 in r)\n",
    "print(r.index(2))\n",
    "print(r[3])\n",
    "print(r[:3])\n",
    "print(r[-1])"
   ]
  },
  {
   "cell_type": "markdown",
   "metadata": {
    "colab": {},
    "colab_type": "code",
    "id": "2ZLG-WJVTfOZ"
   },
   "source": [
    "## 課程文件\n",
    "\n",
    "#### Python Basics 課程清單\n",
    "- <a href=\"https://colab.research.google.com/github/AI-FREE-Team/Python-Basics/blob/master/documents/Lesson00%20Preface.ipynb\">Lesson00 Preface 課程前言</a> \n",
    "\n",
    "- <a href=\"https://colab.research.google.com/github/AI-FREE-Team/Python-Basics/blob/master/documents/Lesson01%20Variable.ipynb\">Lesson01 Variable 變數</a> \n",
    "\n",
    "- <a href=\"https://colab.research.google.com/github/AI-FREE-Team/Python-Basics/blob/master/documents/Lesson02%20Operator.ipynb\">Lesson02 Operator 運算子</a>\n",
    "\n",
    "- <a href=\"https://colab.research.google.com/github/AI-FREE-Team/Python-Basics/blob/master/documents/Lesson03%20Data%20Structure.ipynb\">Lesson03 Data Structure 資料結構</a> \n",
    "\n",
    "- <a href=\"https://colab.research.google.com/github/AI-FREE-Team/Python-Basics/blob/master/documents/Lesson04%20String.ipynb\">Lesson04 String 字串</a>\n",
    "\n",
    "- <a href=\"https://colab.research.google.com/github/AI-FREE-Team/Python-Basics/blob/master/documents/Lesson05%20List.ipynb\">Lesson05 List 列表</a> \n",
    "\n",
    "- <a href=\"https://colab.research.google.com/github/AI-FREE-Team/Python-Basics/blob/master/documents/Lesson06%20Tuple.ipynb\">Lesson06 Tuple 元組</a> (Last Chapter! --上一堂課程--)\n",
    "\n",
    "- <a href=\"https://colab.research.google.com/github/AI-FREE-Team/Python-Basics/blob/master/documents/Lesson07%20Range.ipynb\">Lesson07 Range 範圍</a> (We are here now! --本篇課程--)\n",
    "\n",
    "- <a href=\"https://colab.research.google.com/github/AI-FREE-Team/Python-Basics/blob/master/documents/Lesson08%20Set.ipynb\">Lesson08 Set 集合</a> (Next Chapter! --下一堂課程--)\n",
    "\n",
    "- <a href=\"https://colab.research.google.com/github/AI-FREE-Team/Python-Basics/blob/master/documents/Lesson09%20Dictionary.ipynb\">Lesson09 Dictionary 字典</a>\n",
    "\n",
    "- <a href=\"https://colab.research.google.com/github/AI-FREE-Team/Python-Basics/blob/master/documents/Lesson10%20If-else.ipynb\">Lesson10 If-else 條件語法</a>\n",
    "\n",
    "- <a href=\"https://colab.research.google.com/github/AI-FREE-Team/Python-Basics/blob/master/documents/Lesson11%20While-loop.ipynb\">Lesson11 While 迴圈</a>\n",
    "\n",
    "- <a href=\"https://colab.research.google.com/github/AI-FREE-Team/Python-Basics/blob/master/documents/Lesson12%20For-loop.ipynb\">Lesson12 For 迴圈</a>\n",
    "\n",
    "- <a href=\"https://colab.research.google.com/github/AI-FREE-Team/Python-Basics/blob/master/documents/Lesson13%20Function.ipynb\">Lesson13 Function 函式</a>\n",
    "\n",
    "- <a href=\"https://colab.research.google.com/github/AI-FREE-Team/Python-Basics/blob/master/documents/Lesson14%20Input-output.ipynb\">Lesson14 Input/Output 輸入/輸出</a>\n",
    "\n",
    "- <a href=\"https://colab.research.google.com/github/AI-FREE-Team/Python-Basics/blob/master/documents/Lesson15%20Class.ipynb\">Lesson15 Class 類別</a>"
   ]
  },
  {
   "cell_type": "code",
   "execution_count": null,
   "metadata": {},
   "outputs": [],
   "source": []
  }
 ],
 "metadata": {
  "colab": {
   "collapsed_sections": [],
   "name": "AI . FREE Team - Python Basics: Lesson 07 Range 範圍.ipynb",
   "provenance": [],
   "version": "0.3.2"
  },
  "kernelspec": {
   "display_name": "Python 3",
   "language": "python",
   "name": "python3"
  },
  "language_info": {
   "codemirror_mode": {
    "name": "ipython",
    "version": 3
   },
   "file_extension": ".py",
   "mimetype": "text/x-python",
   "name": "python",
   "nbconvert_exporter": "python",
   "pygments_lexer": "ipython3",
   "version": "3.7.3"
  }
 },
 "nbformat": 4,
 "nbformat_minor": 1
}
