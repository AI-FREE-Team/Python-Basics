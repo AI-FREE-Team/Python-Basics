{
 "cells": [
  {
   "cell_type": "markdown",
   "metadata": {
    "colab_type": "text",
    "id": "rGCLGcuEPVSa"
   },
   "source": [
    "![人工智慧 - 自由團隊](https://raw.githubusercontent.com/chenkenanalytic/img/master/af/aifreeteam.png)\n",
    "\n",
    "\n",
    "<center>Welcome to the course《Python: from business analytics to Artificial Intelligence》by AI . FREE Team.</center>\n",
    "<br>\n",
    "<center>歡迎大家來到 AI . FREE Team 《Python 從商業分析到人工智慧》的 Python 基礎教學 - Lesson 12 For 迴圈 (1-12)。 </center>\n",
    "<br>\n",
    "\n",
    "<center>(Author: Chen Ken, Lee Ovien, Chuang Shawn；Date of published: 2019/9/5；AI . FREE Team Website: https://aifreeblog.herokuapp.com/)</center>"
   ]
  },
  {
   "cell_type": "markdown",
   "metadata": {
    "colab_type": "text",
    "id": "EmvrmGKYPZz3"
   },
   "source": [
    "# For迴圈"
   ]
  },
  {
   "cell_type": "markdown",
   "metadata": {
    "colab_type": "text",
    "id": "jKOZ696hFiiu"
   },
   "source": [
    "* 就像while迴圈一樣 for循環可以遍歷任何序列的項目，如一個列表或者一個字符串。"
   ]
  },
  {
   "cell_type": "markdown",
   "metadata": {
    "colab_type": "text",
    "id": "FHG_5fQXH1RZ"
   },
   "source": [
    "* for循環的語法格式如下："
   ]
  },
  {
   "cell_type": "code",
   "execution_count": 0,
   "metadata": {
    "colab": {},
    "colab_type": "code",
    "id": "QZPQ2d5UPR-F"
   },
   "outputs": [],
   "source": [
    "#for iterating_var in sequence:\n",
    "#  statements(s)"
   ]
  },
  {
   "cell_type": "markdown",
   "metadata": {
    "colab_type": "text",
    "id": "E6dHdcF1IAv7"
   },
   "source": [
    "![替代文字](http://www.runoob.com/wp-content/uploads/2013/11/python_for_loop.jpg)"
   ]
  },
  {
   "cell_type": "code",
   "execution_count": 0,
   "metadata": {
    "colab": {
     "base_uri": "https://localhost:8080/",
     "height": 221
    },
    "colab_type": "code",
    "executionInfo": {
     "elapsed": 893,
     "status": "ok",
     "timestamp": 1566658988248,
     "user": {
      "displayName": "電機工程系李佑謙",
      "photoUrl": "",
      "userId": "05735385076343474033"
     },
     "user_tz": -480
    },
    "id": "C5da9vhyIbB4",
    "outputId": "73652b42-db7e-4861-f205-4be6209dbe60"
   },
   "outputs": [
    {
     "name": "stdout",
     "output_type": "stream",
     "text": [
      "當前字母 : N\n",
      "當前字母 : e\n",
      "當前字母 : w\n",
      "當前字母 :  \n",
      "當前字母 : Y\n",
      "當前字母 : o\n",
      "當前字母 : r\n",
      "當前字母 : k\n",
      "當前水果 : Detroit\n",
      "當前水果 : Arizona\n",
      "當前水果 : Georgia\n",
      "finish\n"
     ]
    }
   ],
   "source": [
    "for ex in 'New York':     # 第一個實例\n",
    "   print('當前字母 :',ex)\n",
    " \n",
    "fruits = ['Detroit','Arizona','Georgia']\n",
    "for fruit in fruits:        # 第二個實例\n",
    "   print('當前地名 :',fruit)\n",
    " \n",
    "print(\"finish\")"
   ]
  },
  {
   "cell_type": "markdown",
   "metadata": {
    "colab_type": "text",
    "id": "9JigJ0O_J6n_"
   },
   "source": [
    "## 通過序列索引迭代"
   ]
  },
  {
   "cell_type": "markdown",
   "metadata": {
    "colab_type": "text",
    "id": "b2Zg4xH_KAQd"
   },
   "source": [
    "* 另外一種執行循環的遍歷方式是通過索引，如下實例："
   ]
  },
  {
   "cell_type": "code",
   "execution_count": 0,
   "metadata": {
    "colab": {
     "base_uri": "https://localhost:8080/",
     "height": 85
    },
    "colab_type": "code",
    "executionInfo": {
     "elapsed": 678,
     "status": "ok",
     "timestamp": 1566659431765,
     "user": {
      "displayName": "電機工程系李佑謙",
      "photoUrl": "",
      "userId": "05735385076343474033"
     },
     "user_tz": -480
    },
    "id": "me4EMzYkIgjh",
    "outputId": "d061ca19-60cd-4b88-ca93-a17b1e9143e5"
   },
   "outputs": [
    {
     "name": "stdout",
     "output_type": "stream",
     "text": [
      "當前國家 : New Jersey\n",
      "當前國家 : Nevada\n",
      "當前國家 : Montana\n",
      "finish!\n"
     ]
    }
   ],
   "source": [
    "state = ['New Jersey', 'Nevada', 'Montana']\n",
    "for index in range(len(state)):\n",
    "   print('當前國家 :', state[index])\n",
    " \n",
    "print(\"finish!\")"
   ]
  },
  {
   "cell_type": "markdown",
   "metadata": {
    "colab_type": "text",
    "id": "skzu2KQtIFof"
   },
   "source": [
    "* 以上實例我們使用了內置函數 len() 和 range(),函數 len() 返回列表的長度，即元素的個數。 range返回一個序列的數。"
   ]
  },
  {
   "cell_type": "markdown",
   "metadata": {
    "colab_type": "text",
    "id": "uiOgQauwLnXY"
   },
   "source": [
    "## 循環使用 else 語句"
   ]
  },
  {
   "cell_type": "markdown",
   "metadata": {
    "colab_type": "text",
    "id": "AYXO0UP1Lsdy"
   },
   "source": [
    "* 在 python 中，for … else 表示這樣的意思，for 中的語句和普通的沒有區別，else 中的語句會在循環正常執行完（即 for 不是通過 break 跳出而中斷的）的情況下執行，while … else 也是一樣。"
   ]
  },
  {
   "cell_type": "code",
   "execution_count": 0,
   "metadata": {
    "colab": {
     "base_uri": "https://localhost:8080/",
     "height": 357
    },
    "colab_type": "code",
    "executionInfo": {
     "elapsed": 674,
     "status": "ok",
     "timestamp": 1566659661038,
     "user": {
      "displayName": "電機工程系李佑謙",
      "photoUrl": "",
      "userId": "05735385076343474033"
     },
     "user_tz": -480
    },
    "id": "hu7ybwNSL130",
    "outputId": "53336914-d848-4923-cdac-adf5b3e48fe3"
   },
   "outputs": [
    {
     "name": "stdout",
     "output_type": "stream",
     "text": [
      "0 是一個質數\n",
      "1 是一個質數\n",
      "2 是一個質數\n",
      "3 是一個質數\n",
      "4 等於 2 * 2\n",
      "5 是一個質數\n",
      "6 等於 2 * 3\n",
      "7 是一個質數\n",
      "8 等於 2 * 4\n",
      "9 等於 3 * 3\n",
      "10 等於 2 * 5\n",
      "11 是一個質數\n",
      "12 等於 2 * 6\n",
      "13 是一個質數\n",
      "14 等於 2 * 7\n",
      "15 等於 3 * 5\n",
      "16 等於 2 * 8\n",
      "17 是一個質數\n",
      "18 等於 2 * 9\n",
      "19 是一個質數\n"
     ]
    }
   ],
   "source": [
    "for num in range(0,20):  # 迭代 10 到 20 之間的數字\n",
    "   for i in range(2,num): # 根據因子迭代\n",
    "      if num%i == 0:      # 確定第一個因子\n",
    "         j=num/i          # 計算第二個因子\n",
    "         print('%d 等於 %d * %d' % (num,i,j))\n",
    "         break            # 跳出當前循環\n",
    "   else:                  # 循環的 else 部分\n",
    "      print(num, '是一個質數')"
   ]
  },
  {
   "cell_type": "markdown",
   "metadata": {
    "colab_type": "text",
    "id": "nqDzLTZ4MVln"
   },
   "source": [
    "## 課程文件\n",
    "\n",
    "#### Python Basics 課程清單\n",
    "- <a href=\"https://colab.research.google.com/github/AI-FREE-Team/Python-Basics/blob/master/documents/Lesson00%20Preface.ipynb\">Lesson00 Preface 課程前言</a> \n",
    "\n",
    "- <a href=\"https://colab.research.google.com/github/AI-FREE-Team/Python-Basics/blob/master/documents/Lesson01%20Variable.ipynb\">Lesson01 Variable 變數</a> \n",
    "\n",
    "- <a href=\"https://colab.research.google.com/github/AI-FREE-Team/Python-Basics/blob/master/documents/Lesson02%20Operator.ipynb\">Lesson02 Operator 運算子</a>\n",
    "\n",
    "- <a href=\"https://colab.research.google.com/github/AI-FREE-Team/Python-Basics/blob/master/documents/Lesson03%20Data%20Structure.ipynb\">Lesson03 Data Structure 資料結構</a> \n",
    "\n",
    "- <a href=\"https://colab.research.google.com/github/AI-FREE-Team/Python-Basics/blob/master/documents/Lesson04%20String.ipynb\">Lesson04 String 字串</a>\n",
    "\n",
    "- <a href=\"https://colab.research.google.com/github/AI-FREE-Team/Python-Basics/blob/master/documents/Lesson05%20List.ipynb\">Lesson05 List 列表</a> \n",
    "\n",
    "- <a href=\"https://colab.research.google.com/github/AI-FREE-Team/Python-Basics/blob/master/documents/Lesson06%20Tuple.ipynb\">Lesson06 Tuple 元組</a> \n",
    "\n",
    "- <a href=\"https://colab.research.google.com/github/AI-FREE-Team/Python-Basics/blob/master/documents/Lesson07%20Range.ipynb\">Lesson07 Range 範圍</a> \n",
    "\n",
    "- <a href=\"https://colab.research.google.com/github/AI-FREE-Team/Python-Basics/blob/master/documents/Lesson08%20Set.ipynb\">Lesson08 Set 集合</a> \n",
    "\n",
    "- <a href=\"https://colab.research.google.com/github/AI-FREE-Team/Python-Basics/blob/master/documents/Lesson09%20Dictionary.ipynb\">Lesson09 Dictionary 字典</a>\n",
    "\n",
    "- <a href=\"https://colab.research.google.com/github/AI-FREE-Team/Python-Basics/blob/master/documents/Lesson10%20If-else.ipynb\">Lesson10 If-else 條件語法</a>\n",
    "\n",
    "- <a href=\"https://colab.research.google.com/github/AI-FREE-Team/Python-Basics/blob/master/documents/Lesson11%20While-loop.ipynb\">Lesson11 While 迴圈</a> (Last Chapter! --上一堂課程--)\n",
    "\n",
    "- <a href=\"https://colab.research.google.com/github/AI-FREE-Team/Python-Basics/blob/master/documents/Lesson12%20For-loop.ipynb\">Lesson12 For 迴圈</a> (We are here now! --本篇課程--)\n",
    "\n",
    "- <a href=\"https://colab.research.google.com/github/AI-FREE-Team/Python-Basics/blob/master/documents/Lesson13%20Function.ipynb\">Lesson13 Function 函式</a> (Next Chapter! --下一堂課程--)\n",
    "\n",
    "- <a href=\"https://colab.research.google.com/github/AI-FREE-Team/Python-Basics/blob/master/documents/Lesson14%20Input-output.ipynb\">Lesson14 Input/Output 輸入/輸出</a>\n",
    "\n",
    "- <a href=\"https://colab.research.google.com/github/AI-FREE-Team/Python-Basics/blob/master/documents/Lesson15%20Class.ipynb\">Lesson15 Class 類別</a>"
   ]
  },
  {
   "cell_type": "code",
   "execution_count": null,
   "metadata": {},
   "outputs": [],
   "source": []
  }
 ],
 "metadata": {
  "colab": {
   "collapsed_sections": [],
   "name": "AI . FREE Team - Python Basics: Lesson 12 For 迴圈.ipynb",
   "provenance": [],
   "version": "0.3.2"
  },
  "kernelspec": {
   "display_name": "Python 3",
   "language": "python",
   "name": "python3"
  },
  "language_info": {
   "codemirror_mode": {
    "name": "ipython",
    "version": 3
   },
   "file_extension": ".py",
   "mimetype": "text/x-python",
   "name": "python",
   "nbconvert_exporter": "python",
   "pygments_lexer": "ipython3",
   "version": "3.7.3"
  }
 },
 "nbformat": 4,
 "nbformat_minor": 1
}
